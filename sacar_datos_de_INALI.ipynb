{
 "cells": [
  {
   "cell_type": "raw",
   "metadata": {},
   "source": [
    "extraer datos de páginas de INALI sobre clasificación geográfica de lenguas indígenas\n",
    "base URL: https://www.inali.gob.mx/clin-inali/\n",
    "creado por Brandon Aleson 4/22/20\n",
    "versión actualizado 5/29/20"
   ]
  },
  {
   "cell_type": "code",
   "execution_count": 1,
   "metadata": {},
   "outputs": [],
   "source": [
    "import os\n",
    "import bs4\n",
    "import json\n",
    "import requests"
   ]
  },
  {
   "cell_type": "code",
   "execution_count": 2,
   "metadata": {},
   "outputs": [],
   "source": [
    "# cada vez que hacemos una toca al inali.cob.mx, recibimos una alarma así:\n",
    "# InsecureRequestWarning: Unverified HTTPS request is being made. Adding certificate verification is strongly advised.\n",
    "# creo q los certificados de INALI se han caducado\n",
    "# por no ver la alarma cada vez que agarramos un vínculo de INALI, la deshabilitamos aquí\n",
    "\n",
    "import urllib3\n",
    "urllib3.disable_warnings(urllib3.exceptions.InsecureRequestWarning)"
   ]
  },
  {
   "cell_type": "code",
   "execution_count": 3,
   "metadata": {},
   "outputs": [],
   "source": [
    "# esto es el URL donde se encuentra todos los vínculos de las agrupaciones lingüísticas\n",
    "base_url = 'https://www.inali.gob.mx/clin-inali/'"
   ]
  },
  {
   "cell_type": "code",
   "execution_count": 4,
   "metadata": {},
   "outputs": [],
   "source": [
    "# ver aquí más detalle sobre \"verify\" y certificates:\n",
    "# https://stackoverflow.com/questions/28667684/python-requests-getting-sslerror\n",
    "r = requests.get(base_url, verify=False)"
   ]
  },
  {
   "cell_type": "code",
   "execution_count": 5,
   "metadata": {},
   "outputs": [
    {
     "name": "stdout",
     "output_type": "stream",
     "text": [
      "Agrupación lingüística: náhuatl Familia lingüística: Yuto-nahua\n",
      "náhuatl Yuto-nahua\n"
     ]
    }
   ],
   "source": [
    "# primero trabajamos en un ejemplo específico; luego lo generalizamos\n",
    "# empezamos en esta página (l_nahuatl.html) para grabar la información de Familia Lingüística\n",
    "nahuarl = 'https://www.inali.gob.mx/clin-inali/html/l_nahuatl.html'\n",
    "r = requests.get(nahuarl, verify=False)\n",
    "soup = bs4.BeautifulSoup(r.text, 'html.parser')\n",
    "agrup_ling = soup.body.h4.contents[0]    # Agrupación lingüística\n",
    "familia_ling = soup.body.h4.contents[-1]  # Familia lingüística\n",
    "print(agrup_ling, familia_ling)\n",
    "\n",
    "# sacamos solo los datos que nos interesan\n",
    "agrup_ling = agrup_ling.split(':')[-1].strip()\n",
    "familia_ling = familia_ling.split(':')[-1].strip()\n",
    "print(agrup_ling, familia_ling)"
   ]
  },
  {
   "cell_type": "code",
   "execution_count": 6,
   "metadata": {},
   "outputs": [
    {
     "data": {
      "text/plain": [
       "[<a class=\"mlink\" href=\"v_nahuatl.html#1\">náhuatl de la Sierra, noreste de Puebla</a>,\n",
       " <a class=\"mlink\" href=\"v_nahuatl.html#2\">náhuatl del noroeste central</a>,\n",
       " <a class=\"mlink\" href=\"v_nahuatl.html#3\">náhuatl del Istmo</a>,\n",
       " <a class=\"mlink\" href=\"v_nahuatl.html#4\">náhuatl de la Huasteca veracruzana</a>,\n",
       " <a class=\"mlink\" href=\"v_nahuatl.html#5\">náhuatl de la Huasteca potosina</a>,\n",
       " <a class=\"mlink\" href=\"v_nahuatl.html#6\">náhuatl de Oaxaca</a>,\n",
       " <a class=\"mlink\" href=\"v_nahuatl.html#7\">náhuatl de la Sierra negra, sur</a>,\n",
       " <a class=\"mlink\" href=\"v_nahuatl.html#8\">náhuatl de la Sierra negra, norte</a>,\n",
       " <a class=\"mlink\" href=\"v_nahuatl.html#9\">náhuatl central de Veracruz</a>,\n",
       " <a class=\"mlink\" href=\"v_nahuatl.html#10\">náhuatl de la Sierra oeste de Puebla</a>,\n",
       " <a class=\"mlink\" href=\"v_nahuatl.html#11\">náhuatl alto del norte de Puebla</a>,\n",
       " <a class=\"mlink\" href=\"v_nahuatl.html#12\">náhuatl del Istmo bajo</a>,\n",
       " <a class=\"mlink\" href=\"v_nahuatl.html#13\">náhuatl del centro de Puebla</a>,\n",
       " <a class=\"mlink\" href=\"v_nahuatl.html#14\">mexicano bajo de occidente</a>,\n",
       " <a class=\"mlink\" href=\"v_nahuatl.html#15\">mexicano del noroeste</a>,\n",
       " <a class=\"mlink\" href=\"v_nahuatl.html#16\">mexicano de Guerrero</a>,\n",
       " <a class=\"mlink\" href=\"v_nahuatl.html#17\">mexicano de occidente</a>,\n",
       " <a class=\"mlink\" href=\"v_nahuatl.html#18\">mexicano central de occidente</a>,\n",
       " <a class=\"mlink\" href=\"v_nahuatl.html#19\">mexicano central bajo</a>,\n",
       " <a class=\"mlink\" href=\"v_nahuatl.html#20\">mexicano de Temixco</a>,\n",
       " <a class=\"mlink\" href=\"v_nahuatl.html#21\">mexicano de Puente de Ixtla</a>,\n",
       " <a class=\"mlink\" href=\"v_nahuatl.html#22\">mexicano de Tetela del Volcán</a>,\n",
       " <a class=\"mlink\" href=\"v_nahuatl.html#23\">mexicano alto de occidente</a>,\n",
       " <a class=\"mlink\" href=\"v_nahuatl.html#24\">mexicano del oriente</a>,\n",
       " <a class=\"mlink\" href=\"v_nahuatl.html#25\">mexicano del oriente central</a>,\n",
       " <a class=\"mlink\" href=\"v_nahuatl.html#26\">mexicano del centro bajo</a>,\n",
       " <a class=\"mlink\" href=\"v_nahuatl.html#27\">mexicano del centro alto</a>,\n",
       " <a class=\"mlink\" href=\"v_nahuatl.html#28\">mexicano del centro</a>,\n",
       " <a class=\"mlink\" href=\"v_nahuatl.html#29\">mexicano del oriente de Puebla</a>,\n",
       " <a class=\"mlink\" href=\"v_nahuatl.html#30\">mexicano de la Huasteca hidalguense</a>]"
      ]
     },
     "execution_count": 6,
     "metadata": {},
     "output_type": "execute_result"
    }
   ],
   "source": [
    "# ya tenemos los datos que necesitamos de esta página,\n",
    "# seguimos a un nivel más bajo, las agrupaciónes lingüísticas\n",
    "soup.find_all('a')  # para verificar si todos los vínculos están dirigidos a la misma página"
   ]
  },
  {
   "cell_type": "code",
   "execution_count": 7,
   "metadata": {},
   "outputs": [
    {
     "data": {
      "text/plain": [
       "'https://www.inali.gob.mx/clin-inali/html/v_nahuatl.html#1'"
      ]
     },
     "execution_count": 7,
     "metadata": {},
     "output_type": "execute_result"
    }
   ],
   "source": [
    "# comparamos la página entera con las piezas de ella del estilo <a>v_nahuatl#1/>\n",
    "# para ver si este método sea más fácil/eficiente\n",
    "vincs = soup.find_all('a')\n",
    "vincs[0].attrs['href']\n",
    "agrup_url_pieza = ''.join([base_url, 'html/', vincs[0].attrs['href']])\n",
    "agrup_url_pieza"
   ]
  },
  {
   "cell_type": "code",
   "execution_count": 8,
   "metadata": {
    "scrolled": true
   },
   "outputs": [],
   "source": [
    "# construimos el URL de una agrupación lingüística entera y sacamos el contenido\n",
    "agrup_url = ''.join([base_url, 'html/', soup.body.a.attrs['href']])\n",
    "r = requests.get(agrup_url, verify=False)\n",
    "sopa = bs4.BeautifulSoup(r.text, 'html.parser')"
   ]
  },
  {
   "cell_type": "code",
   "execution_count": 9,
   "metadata": {},
   "outputs": [
    {
     "data": {
      "text/plain": [
       "True"
      ]
     },
     "execution_count": 9,
     "metadata": {},
     "output_type": "execute_result"
    }
   ],
   "source": [
    "# ya veremos que son los mismos datos: que el estile del vínculo'v_nahuatl.html#1'\n",
    "# sólo es para que el usuario del sitio pueda navigar más facilmente,\n",
    "# o sea, sirva para llevarnos a una part éspecifica de la página completa de nauhuatl\n",
    "# pero no es relevante a nuestra busqueda iterable\n",
    "r = requests.get(agrup_url_pieza, verify=False)\n",
    "sopa_nahuatl_01 = bs4.BeautifulSoup(r.text, 'html.parser')\n",
    "sopa_nahuatl_01 == sopa"
   ]
  },
  {
   "cell_type": "code",
   "execution_count": 10,
   "metadata": {},
   "outputs": [
    {
     "name": "stdout",
     "output_type": "stream",
     "text": [
      "31\n"
     ]
    }
   ],
   "source": [
    "# los datos éspecificos que buscamos aparacen \n",
    "# entre los \"rows\" <tr></tr> tags que hay en una página\n",
    "# por ejemplo la página de nahuatl tiene 31 rows\n",
    "# (la primera row (aquí representado como all_trs[0]) no nos importa porque no tiene un table)\n",
    "all_trs = sopa.find_all('tr')\n",
    "print(len(all_trs))"
   ]
  },
  {
   "cell_type": "code",
   "execution_count": 35,
   "metadata": {},
   "outputs": [
    {
     "data": {
      "text/plain": [
       "<tr>\n",
       "<td><a name=\"2\"></a>\n",
       "<p>mexi’catl\n",
       "\t\t<br/><span>[meʃiʔkaλ]</span></p>\n",
       "<p>mexicano (del noroeste central)\n",
       "\t\t<br/><span>[mexikano]</span></p>\n",
       "<p>maseual tla’tol\n",
       "\t\t<br/><span>[masewal λaʔtol]</span></p>\n",
       "\t\t&lt;náhuatl del noroeste central&gt;\n",
       "                </td>\n",
       "<td>\n",
       "                    HIDALGO: <b>Acaxochitlán</b>: Acaxochitlán, Alpinagua, Apapaxtla (Altamira), Apopoalco, Atezcapa, Barrio Cuautenco, Barrio el Puente, Barrio Tlatempa, Barrio Tlatzintla, Barrio Verde, Buenavista (Necaxanco), Coyametepec, Cuaunepantla, Chimalapa, Ejido Techachalco, Ejido de Tepepa (Barrio Santa Félix), Ejido de Tlatzintla, El Bado, El Crucero, El Tejocotal, El Valle, La Boveda, La Mesa, Los Reyes, Montemar, Necaxanco, Nuevo San Juan, Ocotengo, Ojo de Agua las Palomas, Parada 170, Paredones, San Fernando, San Francisco Atotonilco, San Juan, San Mateo, San Miguel del Resgate, San Pedro Tlachichilco, Santa Ana Tzacuala, Santa Catarina, Techachalco, Tepepa (Santiago Tepepa), Tlacpac, Tlamimilolpa, Toxtla, Venta Quemada, Yemila, Zacacuautla, Zotictla.\n",
       "\n",
       "<br/><br/>\n",
       "PUEBLA: <b>Chiconcuautla</b>: Acalama, Amola, Axocopactla, Azacatla, Benito Juárez, Cosamaloapan, Cuetzalingo, Chiconcuautla, Huautla, Huixtlacuatla, Itlantixcali, Ixtaczoquitla, Macuilacatla, Mimitla, Ojo de Agua, Palzoquitla, San Lorenzo Tlaxipehuala, Tlalhuapan, Tlaltenango, Tlaxco (Santiago Tlaxco), Toxtla, Zacatepec, Zempoala. <b>Honey</b>: Amapoloa, Chila de Juárez, El Manzano, Honey, Huehuetlilla, La Magdalena, Rincón de Chila. <b>Huauchinango</b>: Acatlán, Agua Blanca, Ahuacatlán, Ahuatepec, Álvaro Obregón, Alseseca, Ayohuixcuautla, Benito Juárez, Cobrería, Colonia Pemex (Hueyatlagco), Cuacuila, Cuahueyatla, Cuautlita, Cuauxinca, Cuaxicala, Chahuac, Chicuase, El Mirador, El Paraíso, Gustavo Díaz Ordaz (La Cuenca), Huauchinango, Huejotzingo, Huilacapixtla, Independencia, Ixhuacatla, José López Portillo, Las Colonias de Hidalgo, Llano de Huejotzingo, Los Capulines, Los Girasoles, Matlaluca, Mesa de Capulines, Michiuca, Nopala, Ocpaco, Ozomatlán, Papatlatla, Papatlazolco, Patoltecoya, Piedras Pintadas, Popocatépetl (Juan Hernández), Puga, San Diego Buenavista, San José, San José Munive, San José Tlautla, San Juan Pancoac, San Luis Coyotzingo, San Mateo Capultitlán, San Miguel Acuautla, San Miguel Tianguizolco, Santa Ana Xalmimilulco, Santa Catalina, Santa Elena, Santa Elena de la Cruz (Los Oroza), Santa María Atexcac, Santa María Nepopualco, Santa María Tianguistenco, Santiago, Santiago (Buena Vista), Tenango de las Flores, Tenohuatlán, Teopancingo, Tepehuaquila, Tepetzintla de Galeana, Texcapa, Tlachichila (Tecoxtenco), Tlacomulco, Tlalcoyunga, Tlalmaya, Tonatzin, Totolapa (El Sifón), Tzahuinco, Venta Grande, Xaltepec, Xilocuautla, Xolango, Xopanapa. <b>Jopala</b>: Arroyo Hondo, Buenos Aires, Cuamaxalco, Chicontla, El Encinal, Finca Pilar I, Finca Pilar II, Jopala, La Concha, Oro Verde (Monte de Chila), Patla, Rancho Nuevo, San Martín, San Pedro Tlaolantongo, Tecuantla (Los Reyes). <b>Juan Galindo</b>: Colonia Azteca, Cuautlita (El Gamito), Dos Caminos, El Salto, Necaxaltépetl, Nezoaya, Nuevo Necaxa, Tecacalango (La Pahua). <b>Naupan</b>: Achiautla (Xiagtla), Alambique, Copila, Cozolapa, Cuahuihuitzotitla, Cueyatla, Chachahuantla, Humiltemec, Iczotitla, Metztla Abajo, Metztla Arriba, Naupan, Tenextitla, Teopanzolco, Tlaxpanaloya. <b>Pahuatlán</b>: Acahuales (El Aguacate), Acalapa, Ahila, Ahuacatitla, Almoloya, Atla, Atlantongo, Cuauneutla de la Paz, Chipotla, El Arenal, La Loma, Los Ángeles, Mamiquetla, Montellano, Paciotla, Pahuatlán de Valle, San Pablito, Tlalcruz de Libres, Xochimilco, Xolotla, Zacapehuaya, Zoyatla de Guerrero. <b>Tlaola</b>: Amacugtla, Amanalco, Atenco, Atequexquitla, Atitlalaya, Ayahualco, Capultitla, Caxapotla, Cocolixtla, Cocolongo, Coligque, Coxolitla, Cuamila, Cutzontipa, Chicahuaxtla, Huixtla, La Gallera, La Herradura, Nexapa Ahila, Nixcugtla, Nuevo Hidalgo, Plan de Cuamila, Salazar Herrera, San Isidro Acatlán, San José, Temascalapa, Tlacocugtla, Tlaltepango, Tlantentiloya, Tlaola, Tlapehuala, Tlapitzalapa, Tlaticoxca, Tlatlapanala, Tlatzohuiloya, Tzitzicazapa, Xaltepuxtla, Xochinanacatlán, Yetla. <b>Tlapacoya</b>: Ahuacatlaya, Barrio los Vázquez, Benito Juárez (Xicalango), Colonia las Palmas, Cuatepalcatla, La Cruz, La Cumbre, La Gruta, Rancho de Tepetzingo, San Andrés Buenavista, San Antonio Tlilapa, San Miguel Tlilapa, Santa Catarina Coatepec, Santo Domingo Ayotlicha, Tlamaya Chico, Tlamaya Grande. <b>Xicotepec</b>: Ahuaxintitla, Arroyo Seco, Atequexquitla, Cerro de los Limones, Cerro del Tepeyac, Cilima (La Bomba), Chicopanal, Dos Caminos, Duraznotla, Ejido de Nactanca [Ejido Nactanca], Ejido de Rancho Nuevo (El Ojite), El Cajón, El Infierno (Valle Verde), El Jonote, El Mirador, El Porvenir Ejido, El Refugio (Los Tamarindos), El Sauce Chico, El Tepetate, Finca Puebla (Casa Blanca), Gilberto Camacho, Ixtepec, Jalapilla, La Cascada (Las Chacas), La Chivería, La Garcita, La Herradura, La Magdalena, La Muralla, La Palma, Las Águilas, Las Cañadas, Las Pilas, Lomas Verdes, Los Arroyos, Los Limones, Los Naranjos, Los Piñales (Agua Dulce), Mecatlán de las Flores, Monte Grande de Zaragoza, Morelos, Nactanca Chica (La Colonia), Nactanca Grande, Ojo de Agua (Primera Sección), Pensamiento Mexicano, Quinta Lilia, Rancho Nuevo, San Agustín (Atlihuacán), San Antonio, San Antonio Ocopetlatlán, San Isidro, San Lorenzo, San Luis, San Pedro Itztla, Santa Cruz Chica, Santa Cruz Grande, Santa Luz Buenavista, Santa Rita, Santa Rosa, Tepapatlaxco [Tepepatlaxco], Tierra Negra, Tlapehuala, Tlaxcalantongo, Tlaxpanala (Las Trancas), Tranca de Fierro, Tulancinguillo, Unidad Deportiva (Ocotzotal), Villa de las Flores, Villa Ávila Camacho (La Ceiba), Xicotepec de Juárez. <b>Zihuateutla</b>: Arroyo Mano, Azcatlán, Cacahuatlán, Carmen (Finca el Matadero), Cerro Azul, Cerro Verde, Cuatechalotla, Cuaunepixca (La Cumbre), Ejido Tenanguito, El Rosario (Anayal), El Cerro, El Plantel, El Remolino, Ernesto Hernández (Tlacoyuco), Finca Cre-Leg, Finca Cuaunepixca, Finca el Limonar, Finca el Progreso Chico, Finca el Rosario, Finca el Viejote, Finca Grano de Oro, Finca la Providencia, Finca la Puebla, Finca la Selva, Finca la Trinidad, Finca las Chachitas, Finca las Margaritas, Finca los Tulipanes, Finca Susy, La Cañada, La Chiquita, La Floresta, La Florida, La Herradura, La Laguna, La Libertad, La Mesa del Crucero (La Mesita), La Planada, La Tranca de Fierro, La Unión, La Virgen, Lagunillas, Loma Bonita, Los Pinos, Mazacoatlán, Nanacatepec, Noche Buena, Ocomantla, Ojo de Agua, Planta de Patla, Rancho las Filipinas, San Andrés, San José, San Nicolás, Santo Tomás, Tecpatlán, Telolotla, Tenanguito, Zihuateutla.\n",
       "                </td>\n",
       "</tr>"
      ]
     },
     "execution_count": 35,
     "metadata": {},
     "output_type": "execute_result"
    }
   ],
   "source": [
    "all_trs[2]"
   ]
  },
  {
   "cell_type": "code",
   "execution_count": 36,
   "metadata": {},
   "outputs": [
    {
     "data": {
      "text/plain": [
       "[<td><a name=\"2\"></a>\n",
       " <p>mexi’catl\n",
       " \t\t<br/><span>[meʃiʔkaλ]</span></p>\n",
       " <p>mexicano (del noroeste central)\n",
       " \t\t<br/><span>[mexikano]</span></p>\n",
       " <p>maseual tla’tol\n",
       " \t\t<br/><span>[masewal λaʔtol]</span></p>\n",
       " \t\t&lt;náhuatl del noroeste central&gt;\n",
       "                 </td>, <td>\n",
       "                     HIDALGO: <b>Acaxochitlán</b>: Acaxochitlán, Alpinagua, Apapaxtla (Altamira), Apopoalco, Atezcapa, Barrio Cuautenco, Barrio el Puente, Barrio Tlatempa, Barrio Tlatzintla, Barrio Verde, Buenavista (Necaxanco), Coyametepec, Cuaunepantla, Chimalapa, Ejido Techachalco, Ejido de Tepepa (Barrio Santa Félix), Ejido de Tlatzintla, El Bado, El Crucero, El Tejocotal, El Valle, La Boveda, La Mesa, Los Reyes, Montemar, Necaxanco, Nuevo San Juan, Ocotengo, Ojo de Agua las Palomas, Parada 170, Paredones, San Fernando, San Francisco Atotonilco, San Juan, San Mateo, San Miguel del Resgate, San Pedro Tlachichilco, Santa Ana Tzacuala, Santa Catarina, Techachalco, Tepepa (Santiago Tepepa), Tlacpac, Tlamimilolpa, Toxtla, Venta Quemada, Yemila, Zacacuautla, Zotictla.\n",
       " \n",
       " <br/><br/>\n",
       " PUEBLA: <b>Chiconcuautla</b>: Acalama, Amola, Axocopactla, Azacatla, Benito Juárez, Cosamaloapan, Cuetzalingo, Chiconcuautla, Huautla, Huixtlacuatla, Itlantixcali, Ixtaczoquitla, Macuilacatla, Mimitla, Ojo de Agua, Palzoquitla, San Lorenzo Tlaxipehuala, Tlalhuapan, Tlaltenango, Tlaxco (Santiago Tlaxco), Toxtla, Zacatepec, Zempoala. <b>Honey</b>: Amapoloa, Chila de Juárez, El Manzano, Honey, Huehuetlilla, La Magdalena, Rincón de Chila. <b>Huauchinango</b>: Acatlán, Agua Blanca, Ahuacatlán, Ahuatepec, Álvaro Obregón, Alseseca, Ayohuixcuautla, Benito Juárez, Cobrería, Colonia Pemex (Hueyatlagco), Cuacuila, Cuahueyatla, Cuautlita, Cuauxinca, Cuaxicala, Chahuac, Chicuase, El Mirador, El Paraíso, Gustavo Díaz Ordaz (La Cuenca), Huauchinango, Huejotzingo, Huilacapixtla, Independencia, Ixhuacatla, José López Portillo, Las Colonias de Hidalgo, Llano de Huejotzingo, Los Capulines, Los Girasoles, Matlaluca, Mesa de Capulines, Michiuca, Nopala, Ocpaco, Ozomatlán, Papatlatla, Papatlazolco, Patoltecoya, Piedras Pintadas, Popocatépetl (Juan Hernández), Puga, San Diego Buenavista, San José, San José Munive, San José Tlautla, San Juan Pancoac, San Luis Coyotzingo, San Mateo Capultitlán, San Miguel Acuautla, San Miguel Tianguizolco, Santa Ana Xalmimilulco, Santa Catalina, Santa Elena, Santa Elena de la Cruz (Los Oroza), Santa María Atexcac, Santa María Nepopualco, Santa María Tianguistenco, Santiago, Santiago (Buena Vista), Tenango de las Flores, Tenohuatlán, Teopancingo, Tepehuaquila, Tepetzintla de Galeana, Texcapa, Tlachichila (Tecoxtenco), Tlacomulco, Tlalcoyunga, Tlalmaya, Tonatzin, Totolapa (El Sifón), Tzahuinco, Venta Grande, Xaltepec, Xilocuautla, Xolango, Xopanapa. <b>Jopala</b>: Arroyo Hondo, Buenos Aires, Cuamaxalco, Chicontla, El Encinal, Finca Pilar I, Finca Pilar II, Jopala, La Concha, Oro Verde (Monte de Chila), Patla, Rancho Nuevo, San Martín, San Pedro Tlaolantongo, Tecuantla (Los Reyes). <b>Juan Galindo</b>: Colonia Azteca, Cuautlita (El Gamito), Dos Caminos, El Salto, Necaxaltépetl, Nezoaya, Nuevo Necaxa, Tecacalango (La Pahua). <b>Naupan</b>: Achiautla (Xiagtla), Alambique, Copila, Cozolapa, Cuahuihuitzotitla, Cueyatla, Chachahuantla, Humiltemec, Iczotitla, Metztla Abajo, Metztla Arriba, Naupan, Tenextitla, Teopanzolco, Tlaxpanaloya. <b>Pahuatlán</b>: Acahuales (El Aguacate), Acalapa, Ahila, Ahuacatitla, Almoloya, Atla, Atlantongo, Cuauneutla de la Paz, Chipotla, El Arenal, La Loma, Los Ángeles, Mamiquetla, Montellano, Paciotla, Pahuatlán de Valle, San Pablito, Tlalcruz de Libres, Xochimilco, Xolotla, Zacapehuaya, Zoyatla de Guerrero. <b>Tlaola</b>: Amacugtla, Amanalco, Atenco, Atequexquitla, Atitlalaya, Ayahualco, Capultitla, Caxapotla, Cocolixtla, Cocolongo, Coligque, Coxolitla, Cuamila, Cutzontipa, Chicahuaxtla, Huixtla, La Gallera, La Herradura, Nexapa Ahila, Nixcugtla, Nuevo Hidalgo, Plan de Cuamila, Salazar Herrera, San Isidro Acatlán, San José, Temascalapa, Tlacocugtla, Tlaltepango, Tlantentiloya, Tlaola, Tlapehuala, Tlapitzalapa, Tlaticoxca, Tlatlapanala, Tlatzohuiloya, Tzitzicazapa, Xaltepuxtla, Xochinanacatlán, Yetla. <b>Tlapacoya</b>: Ahuacatlaya, Barrio los Vázquez, Benito Juárez (Xicalango), Colonia las Palmas, Cuatepalcatla, La Cruz, La Cumbre, La Gruta, Rancho de Tepetzingo, San Andrés Buenavista, San Antonio Tlilapa, San Miguel Tlilapa, Santa Catarina Coatepec, Santo Domingo Ayotlicha, Tlamaya Chico, Tlamaya Grande. <b>Xicotepec</b>: Ahuaxintitla, Arroyo Seco, Atequexquitla, Cerro de los Limones, Cerro del Tepeyac, Cilima (La Bomba), Chicopanal, Dos Caminos, Duraznotla, Ejido de Nactanca [Ejido Nactanca], Ejido de Rancho Nuevo (El Ojite), El Cajón, El Infierno (Valle Verde), El Jonote, El Mirador, El Porvenir Ejido, El Refugio (Los Tamarindos), El Sauce Chico, El Tepetate, Finca Puebla (Casa Blanca), Gilberto Camacho, Ixtepec, Jalapilla, La Cascada (Las Chacas), La Chivería, La Garcita, La Herradura, La Magdalena, La Muralla, La Palma, Las Águilas, Las Cañadas, Las Pilas, Lomas Verdes, Los Arroyos, Los Limones, Los Naranjos, Los Piñales (Agua Dulce), Mecatlán de las Flores, Monte Grande de Zaragoza, Morelos, Nactanca Chica (La Colonia), Nactanca Grande, Ojo de Agua (Primera Sección), Pensamiento Mexicano, Quinta Lilia, Rancho Nuevo, San Agustín (Atlihuacán), San Antonio, San Antonio Ocopetlatlán, San Isidro, San Lorenzo, San Luis, San Pedro Itztla, Santa Cruz Chica, Santa Cruz Grande, Santa Luz Buenavista, Santa Rita, Santa Rosa, Tepapatlaxco [Tepepatlaxco], Tierra Negra, Tlapehuala, Tlaxcalantongo, Tlaxpanala (Las Trancas), Tranca de Fierro, Tulancinguillo, Unidad Deportiva (Ocotzotal), Villa de las Flores, Villa Ávila Camacho (La Ceiba), Xicotepec de Juárez. <b>Zihuateutla</b>: Arroyo Mano, Azcatlán, Cacahuatlán, Carmen (Finca el Matadero), Cerro Azul, Cerro Verde, Cuatechalotla, Cuaunepixca (La Cumbre), Ejido Tenanguito, El Rosario (Anayal), El Cerro, El Plantel, El Remolino, Ernesto Hernández (Tlacoyuco), Finca Cre-Leg, Finca Cuaunepixca, Finca el Limonar, Finca el Progreso Chico, Finca el Rosario, Finca el Viejote, Finca Grano de Oro, Finca la Providencia, Finca la Puebla, Finca la Selva, Finca la Trinidad, Finca las Chachitas, Finca las Margaritas, Finca los Tulipanes, Finca Susy, La Cañada, La Chiquita, La Floresta, La Florida, La Herradura, La Laguna, La Libertad, La Mesa del Crucero (La Mesita), La Planada, La Tranca de Fierro, La Unión, La Virgen, Lagunillas, Loma Bonita, Los Pinos, Mazacoatlán, Nanacatepec, Noche Buena, Ocomantla, Ojo de Agua, Planta de Patla, Rancho las Filipinas, San Andrés, San José, San Nicolás, Santo Tomás, Tecpatlán, Telolotla, Tenanguito, Zihuateutla.\n",
       "                 </td>]"
      ]
     },
     "execution_count": 36,
     "metadata": {},
     "output_type": "execute_result"
    }
   ],
   "source": [
    "# más específicamente, los datos del los lenguajes quedan dentro\n",
    "# de los tables que así mismos están dentro de un \"row\"\n",
    "# es decir, encontramos los datos que nos interesa entre los tags <td></td>\n",
    "all_tds = all_trs[2].find_all('td')\n",
    "all_tds"
   ]
  },
  {
   "cell_type": "markdown",
   "metadata": {},
   "source": [
    "### sabemos que lo que está dentro del primer \"table\" (td tags) son, en primer lugar, las autodenominaciones, y después el variante\n",
    "##### parace que el variante no queda entre \"paragraph HTML tags\" mientras las autodenominaciones sí. hará que confirmar esto con otros ejemplos, pero si eso sea lo verdad, será más fácil distinguir entre los dos."
   ]
  },
  {
   "cell_type": "code",
   "execution_count": 37,
   "metadata": {},
   "outputs": [
    {
     "data": {
      "text/plain": [
       "[<a name=\"2\"></a>, '\\n', <p>mexi’catl\n",
       " \t\t<br/><span>[meʃiʔkaλ]</span></p>, '\\n', <p>mexicano (del noroeste central)\n",
       " \t\t<br/><span>[mexikano]</span></p>, '\\n', <p>maseual tla’tol\n",
       " \t\t<br/><span>[masewal λaʔtol]</span></p>, '\\n\\t\\t<náhuatl del noroeste central>\\n                ']"
      ]
     },
     "execution_count": 37,
     "metadata": {},
     "output_type": "execute_result"
    }
   ],
   "source": [
    "all_tds[0].contents"
   ]
  },
  {
   "cell_type": "code",
   "execution_count": 38,
   "metadata": {},
   "outputs": [
    {
     "data": {
      "text/plain": [
       "['mexi’catl\\n',\n",
       " '[meʃiʔkaλ]\\nmexicano (del noroeste central)\\n',\n",
       " '[mexikano]\\nmaseual tla’tol\\n',\n",
       " '[masewal λaʔtol]\\n',\n",
       " '<náhuatl del noroeste central>']"
      ]
     },
     "execution_count": 38,
     "metadata": {},
     "output_type": "execute_result"
    }
   ],
   "source": [
    "all_tds[0].text.strip().split('\\t\\t')"
   ]
  },
  {
   "cell_type": "code",
   "execution_count": 39,
   "metadata": {},
   "outputs": [
    {
     "data": {
      "text/plain": [
       "'<náhuatl del noroeste central>'"
      ]
     },
     "execution_count": 39,
     "metadata": {},
     "output_type": "execute_result"
    }
   ],
   "source": [
    "# aquí tenemos el VARIANTE\n",
    "variante = all_tds[0].contents[-1].strip()\n",
    "variante"
   ]
  },
  {
   "cell_type": "code",
   "execution_count": 40,
   "metadata": {},
   "outputs": [
    {
     "name": "stdout",
     "output_type": "stream",
     "text": [
      "autodenominaciones extraidos del table: ['mexi’catl', '[meʃiʔkaλ]', 'mexicano (del noroeste central)', '[mexikano]', 'maseual tla’tol', '[masewal λaʔtol]']\n"
     ]
    },
    {
     "data": {
      "text/plain": [
       "['mexi’catl/n[meʃiʔkaλ]',\n",
       " 'mexicano (del noroeste central)/n[mexikano]',\n",
       " 'maseual tla’tol/n[masewal λaʔtol]']"
      ]
     },
     "execution_count": 40,
     "metadata": {},
     "output_type": "execute_result"
    }
   ],
   "source": [
    "# aquí tenemos los AUTODENOMINACIÓNes\n",
    "pstrings = []\n",
    "for p in all_tds[0].find_all('p'):\n",
    "    for pstr in p.strings:\n",
    "        pstrings.append(pstr.strip())\n",
    "print('autodenominaciones extraidos del table: {}'.format(pstrings))\n",
    "\n",
    "# NOTA: este método de extraer las autodenominaciones presupone que siempre hay dos\n",
    "# maneras de describir las autods: primero como string y luego lo mismo de otra forma en brackets.\n",
    "# entonces lo separamos con un newline '\\n' como aparece en la página de INALI\n",
    "autodes = []\n",
    "for i in range(len(pstrings)):\n",
    "    if (i+1) % 2 == 0:\n",
    "        autode = '/n'.join([pstrings[i-1], pstrings[i]])\n",
    "        autodes.append(autode)\n",
    "autodes"
   ]
  },
  {
   "cell_type": "markdown",
   "metadata": {},
   "source": [
    "### seguimos con los datos geográficos"
   ]
  },
  {
   "cell_type": "code",
   "execution_count": 17,
   "metadata": {},
   "outputs": [
    {
     "name": "stdout",
     "output_type": "stream",
     "text": [
      "\n",
      "mexicano tlajtol\n",
      "[mexikano λahtol]\n",
      "\n",
      "nauta\n",
      "[nawta]\n",
      "<náhuatl de la Sierra, noreste de Puebla>\n",
      "PUEBLA:\n",
      "Atempan\n",
      ": Apatauyan, Atempan, Atzalán, Cala Norte, Cala Sur, El Cuatro, Huexoteno, Las Canoas, Las Delicias, Meyuco, Potrero Nuevo, San Ambrosio, San Nicolás (Animazco), Tacopan, Tanhuixco, Tezhuatepec, Tezompan.\n",
      "Ayotoxco de Guerrero\n",
      ": Acaltzontán, Agua Bonita, Arenal, Ayotoxco de Guerrero, Buena Vista, Casa Quemada, Colozapan, Copales, Cuauhtémoc (Tlacuilolostoc), El Roble, Flores Villar, Gachupinate (Rancho Nuevo), La Lagunilla, La Manigua, La Quebradora, La Unión, Las Ceibas, Las Cibeles, Las Cruces, Los Aguacates, Los Mangos, Malintepec, Nanacatepec, Plan de la Palma, San Antonio Metzonapa, San Francisco Atecacalax, Santa Cecilia, Santa Elena, Trapiche Viejo, Uruapan, Vega Redonda, Xaltorre.\n",
      "Cuautempan\n",
      ": Ahuatlán, Cerro Verde (Ejecatepeco), Hueytentán, Ixtolco de Morelos, Papalotla, San Esteban Cuautempan, San José Río Bravo, Taltzontipan, Tecapagco, Tenepanigia (Santa Elena), Tepizila (Primera Sección), Texamanila, Texocotitán, Tlapacholoya, Totocuautla, Totomoxtla, Vista Hermosa.\n",
      "Cuetzalan del Progreso\n",
      ": Acaxiloco, Achiauta, Ahuatau, Ahuateno, Alahuacapan, Amateno, Amatitán, Apazapan, Atalpan, Atechayan, Atemolon, Atepatahua, Atepolihui (Ostocapal), Atmolon, Ayotzinapan, Cacatecuauta, Cahuayogco, Calatepec, Caxaltepec, Cedral Atalpan, Cerro de Nectepec, Ciudad de Cuetzalan, Coapan, Cohuateno, Cohuatichan, Cozamalomila, Cuahutamanca, Cuamono, Cuaololtitán, Cuatro Caminos, Cuauhtamazaco, Cuauhtapanaloyan, Cuetzaltepec, Cuichat, Chauta, Chichicazapan, Chicueyaco, El Aguacate, El Rosario, Equimita, Finca San José y San Ángel, Huaxtitán, Ixtahuata, Kapola, La Galera, La Gloria, La Piedad, La Providencia, La Tranca, Las Hamacas, Las Vigas, Limonco, Limontitán, Los Manantiales, Macuilacaco, Malacayotán, Monte Alto, Nahuiogpan, Naltzincuauhta, Nectepec, Octatitán, Octimaxal Norte, Octimaxal Sur, Olopioco, Pagmaco, Pahpatapan, Pepexta, Pesmapan, Pilinchaco, Pinahuista, Quezapa, Reyeshogpan de Hidalgo (El Mirador Reyeshogpan), San Fermín, San Manuel, San Miguel Tzinacapan, Santa Cruz Tatempa, Santa Eduviges, Santa Rosa, Santiago Yancuitlalpan, Santioapan, Sesectahuacal, Tachicteco, Tacuapan, Tagchinolapa, Tahuil, Tajkuilol, Talix, Taltzintán, Tatahuitaltipan, Taxipéhuatl, Tazalolpan, Teacal, Tecazo, Tecoltepec, Tecuahuta, Tenango, Tenango Zacatipan, Tenanikan, Tencuix, Tenextepec, Tenexteta, Tenkizapan, Tepango, Tepechtzingo, Tepetitán Reyeshogpan de Hidalgo, Tepetitán Zacatipan, Tepetzalan, Tepetzalan de Miguel Hidalgo, Tepetzintán, Teshuatita, Tetsijtsilin, Texixila, Texochico, Tixapanteno (Tixapan), Tonalix, Totocuahuta (Tamaya), Tuzamapan Xiloxochico, Tzanatco, Tzicuilán, Tzojiaco, Tzoncomala, Tzontejco, Vista Hermosa, Xala, Xalcuahuta, Xalostoc, Xalpanat, Xalpantzingo, Xalta, Xaltepec, Xalticpac, Xaltipan, Xaltzinta, Xilcuahuta, Xiliapan, Xiloxochico de Rafael Ávila Camacho, Xiloxúchitl, Xiutecuapan, Xochical, Xocota, Xocoyolo, Yohualichan, Zacatipan, Ziltepec, Zoquiapan, Zoquita Tepetzala, Zuapilaco.\n",
      "Chignautla\n",
      ": Analco, Ateta, Coahuixco, Coatzala, Crutzitzin, Chignautla, Encino Rico, Huapaltepec (Zacatamanix), La Aguardientera, Los Aserraderos, Los Humeros, Los Parajes (Zompanateno), San Isidro, San Mateo, Sección 3ra. de Chignautla, Sosa, Sotoltepec, Talzintán, Tecolotepec, Tenextepec, Tepepan, Tequimila, Tezohuatepec (Tezotepec), Yopi.\n",
      "Hueyapan\n",
      ": Ahuatepec, Atmoloni, Barrio Alto, Buenavista, Colostitán, Coyotepec, Cuatro Caminos, Cuexco, Dos Ríos, Gardenias, Hueyapan, La Aurora, La Pagoda, Maloapan, Nexpan, Paso Real, Talzintán, Tanamacoyan, Tepetitanapan, Tetelilla.\n",
      "Hueytamalco\n",
      ": Agua Zarca, Amatetel, Atehuetzin, Atepetaco, Ayahualo, Beranga, Coapal Grande, Colonia la Virgen, Colonia Morelos, Colonia del Valle, Corral Viejo, Cruz Verde, Cuautoxca, Chilornos, Dos Ríos Nuevo, Ejido Hueytamalco, El Anayal, El Arenal, El Calabozo, El Canelo, El Chapopote, El Edén, El Maltrato, El Mangal, El Mirador (Mirador Tenexapa), El Mohón, El Progreso, El Pueblillo, El Reparo, El Rincón Paxta, El Tigrero, El Tular, Hueytamalco, Hueytamalco (Papaloapan), Jabalinco, La Chaca, La Cruz, La Esmeralda, La Esperanza (Limonateno Chico), La Garita, La Gloria Escondida, La Llave, La Línea, La Morera, La Reforma, La Sultana, Las Ánimas, Las Margaritas, Las Palmas, Las Piedras (San Antonio las Piedras), Las Tumbas, Limonateno (Limonateno Grande), Limontitán Chico, Limontitán Grande, Llagostera, Loma Alta, Loma Bonita, Los Anayos, Manlio Fabio Altamirano, Mazolapa, Mecatépetl, Miquixco, Montecelli, Mozota, Mozota (Mozota de Buenavista), Palmagtitán, Paxta, Pezmaco, Pezmapa, Plan de Guinea, Plan de María, Poza Verde, Praves, Puente de Palo, Rancho Viejo, San Ángel, San Ángel Cuauxocota, San Antonio, San Camilo la Cañada, San Carlos, San Ignacio (San Ignacio del Progreso), San Isidro Buenavista, San Lucas, San Luis, San Martín, San Miguel, San Nicolás, Santa Cruz, Santa Martha, Solorzano, Tacotalpa, Tacuba, Tenexapa de Azueta, Tenexate (Ejido Tenexate), Tenexate (Finca Tenexate), Tepactipan, Teteyahualco, Tierra Colorada (Kilómetro 25), Tilapa, Tizizapa, Tlacuilolapa, Tonalmeyoco, Torrecillas (Colón), Vega Chica, Vega de Montecelli (El Aguilar), Villa del Río, Vista Hermosa, Xalteno, Xontla, Xoyoquila, Zanzontla, Zompanico.\n",
      "Huitzilán de Serdán\n",
      ": Acuitapilco, Cozoltepec, Cuarta Sección, Chagchaloyan de Isidro Burgos, Chagchaloyan de Zapata, Huitzilán, Pahuatitán, Paraíso, Pezmata (Papalocontitlán), Pilactitán, Primera Sección, Quinta Sección, San Antonio Taltzintán, San José Aocotzota, San Martín Cohuapan, San Miguel Acateno, San Miguel del Progreso, Segunda Sección, Tancalco, Tepetalzinta, Tepetzintla, Tercera Sección, Tlacaloco, Totutla, Xinachapan de Allende, Xoloango, Zoyotla.\n",
      "Ixtacamaxtitlán\n",
      ": Acoculco (Alcaparra), Analco (Chancuagco), Capolictic, Capuluapan de las Aguas, Cristalaco, Cruz de León, Cuahuigtic, Cuatexmola, Chaucingo Atezquilla, Chaucingo Tiloxtoc, Chipilo (Cuatexmola), El Cebollero, El Jardín Ocojala, El Mirador, El Sabinal (San Pedro), Escuinapa, Guadalupe, Huixcolotla, Iliyucan, Ixtacamaxtitlán, Jalacingo (Jalacingo Texas), La Unión Ejido Mexcaltepec, Lagunilla Pedernales, Las Barrancas, Las Huertillas, Mexcaltepec, Minatitlán, Minillas, Ocotla, Octapa, Oyametepec, Plan de Guadalupe, Plan de la Flor, Ranchitos, Rancho Viejo, Santa María Sotoltepec, Solinco, Tagcotepec, Tatempango, Tateno, Tatoxcac, Tecoltemic, Tenamigtic, Tenextepecuaco, Tentzoncuahuigtic, Tepecuahuixco (El Llanete), Tepexoxuca, Texocuictic, Texocuixpan, Tlacuela, Tlajomulco, Tlalmotolo, Tlanana (Atecoxco), Tlaxcalancingo, Tonalapa, Tuligtic (San Miguel), Vista Hermosa de Morelos, Xalcomulco, Xocoxiutla, Xonacatla, Xopanac, Zaragoza.\n",
      "Jonotla\n",
      ": Buena Vista, Colonia Tiburcio Juárez, Ecatlán (Santiago Ecatlán), Ejido Rayón, El Arenal, El Cedro, El Muro, El Tozan, Jonotla, Molinagco, Paso del Jardín, Plan de Guadalupe (Barrio del Peñon), Poxcoyo, San Antonio Rayón, Tecpantzingo, Tepetitlán, Tepetzinat, Xiloxochit.\n",
      "Nauzontla\n",
      ": Cuahutapehual de Benito Juárez, Guayabal Nauzontla Primera Sección, La Unión, Nauzontla, San Rafael Axolota, Santa Lucía Atioyan, Talchichil, Tepanyehual, Xalaco.\n",
      "Tenampulco\n",
      ": Arroyo Blanco, Arroyo Zarco, Buenos Aires, Caracoles, Cerro de la Campana, Colonia Morelos, Cruz Verde, Cuatro Caminos, El Chacal, El Jicarillo, El Palenque, El Zapotal, El Zapote, La Burra, La Esperanza, La Florida, La Junta Arroyo Zarco, La Lima, La Nueva Junta Arroyo Zarco, La Pila, Lázaro Cárdenas (San Diego), Ojo de Agua, Paso del Palmar, Poza Verde, Salsipuedes, Salsipuedes (Cerro de la Campana), Saltillo, Santa Cruz Buena Vista, Santa Lucía, Tenampulco, Tenampulco Viejo, Tenexapa de Allende, Tlacotalpa, Vega de Chapa.\n",
      "Tetela de Ocampo\n",
      ": Acatlán, Alvaresco, Atehuacpa, Atenti Oriente, Atenti Poniente (Atenti Arriba), Atequiza, Atzalan, Barranca Fría, Benito Juárez, Buena Vista, Buenavista, Buenavista Soledad, Cagcapola, Capuluaque, Carreragco, Cuapancingo, Cuautacomulco, Cuxateno, Cuacualachaco, Chalahuico, El Puerto, Eloxoxtla, Garciaxco, Guadalupe Buena Vista, Jalacingo, José María Morelos, La Cañada, La Lagunilla, La Soledad, Las Canoas, Las Chapas, Loma Bonita, Los Patios, Matixco, Mexcaltitán, Muyuapan, Nanahuacingo, Ometépetl, Puente Seco, Rancho Alegre, Rancho Viejo, Ronquiyogco, San José, San Martín (El Llano), San Nicolás (Cuarta Sección), San Nicolás (Tercera Sección), San Vicente, Talcozaman, Talicán, Tateno, Tatzalan, Taxcantla, Taxco, Tecuanta, Tecuicuilco, Tepetzala, Tepexacatl, Tepexitampa, Tetela de Ocampo, Tetelco, Tonalapa, Tototzinapan, Xalpuente, Xaltatempa de Lucas, Xilitetitla, Xiugquila, Xochititán, Xocoyolapan, Xonocuautla, Zacaloma, Zacatepec (Los Nogales), Zitlalcuautla, Zontecomapan, Zoyatitla, Zoyayo.\n",
      "Teziutlán\n",
      ": Ahuata, Aire Libre (La Mina), Amila, Atoluca, Coyopol, Cruz Blanca, Cuaxoxpan, Chicolate, Huehueymico, Ixtahuiata (La Legua), Ixticpan, Ixtlahuaca, La Garita, Lomas de Ayotzingo, Maxtaco, Mexcalcuautla, San Diego, San Juan Acateno, San Juan Tezongo, San Miguel Capulines, San Pedro Xoloco, San Sebastián, San Sebastián (Sección 3ra.), Sección 23, Tatahuicapa, Temecata, Tepetita Sección 2da., Teziutlán, Xoloateno.\n",
      "Tlatlauquitepec\n",
      ": Acamadota, Acocogta, Ahuatamimilol, Ajocotzingo, Almoloni, Atalpa, Atioyan, Buena Vista, Calatepec, Ciudad de Tlatlauquitepec, Coatectzin, Contra, Cougtajapan, Cozolexco, Cuacualaxtla, Cuautlamingo, Chicuaco, Chinampa, Eloxochitán, El Campanario, El Canal, El Carmen Ilita, El Duraznillo, El Mirador, El Pozo, Gómez Oriente, Gómez Poniente, Gómez Sur, Gómez Sur (Llano de Toluca), Huaxtla, Hueyacapan, Ilita, Ixmatlaco, Jalacinguito, Jiliapa, Jilotepec, La Cumbre San Isidro (San I. Chagchaltzin), La Palma (Máquinas), La Unión, Las Mesas, Loma de la Yerba, Macuilquila, Mazatepec, Mecayucan, Nectépetl (El Cerro), Ocota, Ocotlán, Oyameles, Pablogco, Pezmatlán, Plan de Guadalupe, Portezuelo, Primero de Septiembre, Quezapa, Salvadorco, San Agustín Chagchaltzin, Tamalazo, Tanhuixco del Carmen, Tatauzoquico, Tehuagco, Telpalcatipan, Tepantzol, Tepehican, Tepeteno de Iturbide, Tepetzintla, Teziutanapa, Tochimpa, Túnel Dos, Tzinacantepec, Tzincuilapan, Xacuinco, Xaltenango, Xalteta, Xomiaco, Xonocuautla, Yoloctzin, Zapotitán, Zocuila.\n",
      "Tuzamapan de Galeana\n",
      ": Camocotni, Catachoco, El Jayal, El Tuti, El Zorrillo, Huitziltepec, La Junta Poza Larga, La Rivera, Las Tuzas, Morelos, Reyes de Vallarta, Ricardo Flores Magón, Tetelilla de Islas, Tuzamapan de Galeana.\n",
      "Xiutetelco\n",
      ": Atecax, Chalma, El Milagro, La Palma, La Reforma, La Ventana, Las Chapas, Loma Bonita, Rancho Nuevo, San Andrés, San Antonio, San Francisco, San Isidro, San José, San Juan Xiutetelco, San Martín, San Salvador (Naranjillo), Santiago, Sección 2da. Xiutetelco, Tomaquilapa, Vista Hermosa, Xaltipan.\n",
      "Xochiapulco\n",
      ": Atzalán, Barrio Nuevo, Calzacateno, Cinco de Mayo, Cruztatzalan, Cuauhtecomaco, Cuautamanis, Cuauximaloyan, Ignacio Zaragoza, Ixehuaco, La Manzanilla, La Rosa de Castilla, Las Majadas, Primera Sección, San José, Segunda Sección, Tacuapan, Tahuixticpactampa (Tatampa), Tepoztán, Tequextecoyan, Xaltampa, Xochitonal, Yautetelco, Zapotán de Xahuanteno.\n",
      "Xochitlán de Vicente Suárez\n",
      ": Amatitán, Bonillagco, Chicuasencuautla, Huahuaxtla, Huapalegcán, Pahuata, Papalocogtitán, San Bernardo, San Francisco Ocotepec (Ocotepec de Cárdenas), Tacuitapan, Tecorralican, Totolcha, Tzontecomata (Cuaxuchpan), Xaltipac, Xicalxochico, Xochitlán de Romero Rubio (Tatempan), Xochitlán de Romero Rubio, Xocoyolapan (Santa Isabel), Zoatecpan.\n",
      "Yaonáhuac\n",
      ": Acocogta, Ahuata, Atemeya, Atotocoyan, Contzitzintán, El Crucero, Hueytepec, La Mohonera, Mazatonal, Ocotepec, Talcozaman, Tatempan, Teaco, Tepantiloyan, Teteltipan, Texuaco, Yaonáhuac.\n",
      "Zacapoaxtla\n",
      ": Ahuacatlán, Apulco, Atacpan, Calcahualco, Cohuatzalpan, Colos, Comaltepec, Cuacuilco, El Molino, El Progreso, Francisco I. Madero, Gonzalo Bautista, Héroes del Cinco de Mayo, Independencia (Xiuteno), Insurgentes, Ixtacapan, Jardín de los Volcanes, Jilotepec, La Cañada, La Ermita, La Libertad, Las Lomas, Los Cristales (Talicán), Los Manzanos, Mazapa, Moragco, Nexpanateno, Nexticapan, Ocotlán, San Carlos, San Francisco Zacapexpan, San José Buena Vista, San Juan Tahitic, San Rafael, Santa Cruz Xaltetela, Tatoxcac, Tatzecuala, Texocoyohuac, Xalacapan, Xalticpac, Xilita, Xochitepec, Yanhuicapan, Zacapoaxtla.\n",
      "Zautla\n",
      ": Acatzacata, Apantzingo, Atemoloni, Buena Vista, Contla, Cruz Blanca, Cuacal, Cuacuilcingo, Chilapa de Vicente Guerrero, Chinampa, El Mirador, El Puerto (Reforma), El Tepeyac, Emiliano Zapata, Emilio Carranza (Santa Cruz), Guadalupe Hidalgo, Huitzitzilapan, Ixtactenango, Jalcomulco, Juan Francisco Lucas, Loma Bonita, Micuahutla (La Cumbre), Ocopipila, Ocotzingo, Oxpantla, Pantijacán, Rosa de Castilla, San Andrés Yahuitlalpan, San Francisco del Progreso, San Isidro, San Miguel Tenextatiloyan Primera Sección, Santa Inés Morelos, Santiago Zautla, Tagcotepec, Tenampulco, Tiaco, Tihuapan, Tlamanca, Tlayecapan, Xiloxochititán, Xopanaco, Zautla, Zayolapan, Zotola.\n",
      "Zapotitlán de Méndez\n",
      ": Nanacatlán, Tuxtla, Zapotitlán de Méndez.\n",
      "Zaragoza\n",
      ": Acuaco, Las Trancas, Morelos, Porvenir, San José Buenavista, Santa Anita, Xalehuala, Zaragoza.\n",
      "Zoquiapan\n",
      ": Acateno, Amatlán, Ayotox, Cacaloteco, Calacuahutla, Corralteno, Coyoltitlán, Cuescomaco, El Arenal, Guayabal, Iztahuata, La Tranca, Ocotepec, San Antonio Buenavista, Tahican, Takexpan, Tecuapan, Tepehicán, Yoloxochico, Zacatilihuic, Zoquiapan.\n"
     ]
    }
   ],
   "source": [
    "for td in all_tds:\n",
    "    for string in td.strings:\n",
    "        print(string.strip())"
   ]
  },
  {
   "cell_type": "markdown",
   "metadata": {},
   "source": [
    "### ya vimos que el primer table fue el que tiene la información sobre la autodenominacines y el variante, así que el segundo table deben corresponder a un estado, sus municipios, y luego sus localidades donde se hablan este variante. Si hay más que un estado en donde se hable este variante, estan separados en la pagina con un \"linebreak\""
   ]
  },
  {
   "cell_type": "code",
   "execution_count": 41,
   "metadata": {},
   "outputs": [
    {
     "data": {
      "text/plain": [
       "2"
      ]
     },
     "execution_count": 41,
     "metadata": {},
     "output_type": "execute_result"
    }
   ],
   "source": [
    "len(all_tds)"
   ]
  },
  {
   "cell_type": "code",
   "execution_count": 43,
   "metadata": {},
   "outputs": [
    {
     "data": {
      "text/plain": [
       "<td>\n",
       "                    HIDALGO: <b>Acaxochitlán</b>: Acaxochitlán, Alpinagua, Apapaxtla (Altamira), Apopoalco, Atezcapa, Barrio Cuautenco, Barrio el Puente, Barrio Tlatempa, Barrio Tlatzintla, Barrio Verde, Buenavista (Necaxanco), Coyametepec, Cuaunepantla, Chimalapa, Ejido Techachalco, Ejido de Tepepa (Barrio Santa Félix), Ejido de Tlatzintla, El Bado, El Crucero, El Tejocotal, El Valle, La Boveda, La Mesa, Los Reyes, Montemar, Necaxanco, Nuevo San Juan, Ocotengo, Ojo de Agua las Palomas, Parada 170, Paredones, San Fernando, San Francisco Atotonilco, San Juan, San Mateo, San Miguel del Resgate, San Pedro Tlachichilco, Santa Ana Tzacuala, Santa Catarina, Techachalco, Tepepa (Santiago Tepepa), Tlacpac, Tlamimilolpa, Toxtla, Venta Quemada, Yemila, Zacacuautla, Zotictla.\n",
       "\n",
       "<br/><br/>\n",
       "PUEBLA: <b>Chiconcuautla</b>: Acalama, Amola, Axocopactla, Azacatla, Benito Juárez, Cosamaloapan, Cuetzalingo, Chiconcuautla, Huautla, Huixtlacuatla, Itlantixcali, Ixtaczoquitla, Macuilacatla, Mimitla, Ojo de Agua, Palzoquitla, San Lorenzo Tlaxipehuala, Tlalhuapan, Tlaltenango, Tlaxco (Santiago Tlaxco), Toxtla, Zacatepec, Zempoala. <b>Honey</b>: Amapoloa, Chila de Juárez, El Manzano, Honey, Huehuetlilla, La Magdalena, Rincón de Chila. <b>Huauchinango</b>: Acatlán, Agua Blanca, Ahuacatlán, Ahuatepec, Álvaro Obregón, Alseseca, Ayohuixcuautla, Benito Juárez, Cobrería, Colonia Pemex (Hueyatlagco), Cuacuila, Cuahueyatla, Cuautlita, Cuauxinca, Cuaxicala, Chahuac, Chicuase, El Mirador, El Paraíso, Gustavo Díaz Ordaz (La Cuenca), Huauchinango, Huejotzingo, Huilacapixtla, Independencia, Ixhuacatla, José López Portillo, Las Colonias de Hidalgo, Llano de Huejotzingo, Los Capulines, Los Girasoles, Matlaluca, Mesa de Capulines, Michiuca, Nopala, Ocpaco, Ozomatlán, Papatlatla, Papatlazolco, Patoltecoya, Piedras Pintadas, Popocatépetl (Juan Hernández), Puga, San Diego Buenavista, San José, San José Munive, San José Tlautla, San Juan Pancoac, San Luis Coyotzingo, San Mateo Capultitlán, San Miguel Acuautla, San Miguel Tianguizolco, Santa Ana Xalmimilulco, Santa Catalina, Santa Elena, Santa Elena de la Cruz (Los Oroza), Santa María Atexcac, Santa María Nepopualco, Santa María Tianguistenco, Santiago, Santiago (Buena Vista), Tenango de las Flores, Tenohuatlán, Teopancingo, Tepehuaquila, Tepetzintla de Galeana, Texcapa, Tlachichila (Tecoxtenco), Tlacomulco, Tlalcoyunga, Tlalmaya, Tonatzin, Totolapa (El Sifón), Tzahuinco, Venta Grande, Xaltepec, Xilocuautla, Xolango, Xopanapa. <b>Jopala</b>: Arroyo Hondo, Buenos Aires, Cuamaxalco, Chicontla, El Encinal, Finca Pilar I, Finca Pilar II, Jopala, La Concha, Oro Verde (Monte de Chila), Patla, Rancho Nuevo, San Martín, San Pedro Tlaolantongo, Tecuantla (Los Reyes). <b>Juan Galindo</b>: Colonia Azteca, Cuautlita (El Gamito), Dos Caminos, El Salto, Necaxaltépetl, Nezoaya, Nuevo Necaxa, Tecacalango (La Pahua). <b>Naupan</b>: Achiautla (Xiagtla), Alambique, Copila, Cozolapa, Cuahuihuitzotitla, Cueyatla, Chachahuantla, Humiltemec, Iczotitla, Metztla Abajo, Metztla Arriba, Naupan, Tenextitla, Teopanzolco, Tlaxpanaloya. <b>Pahuatlán</b>: Acahuales (El Aguacate), Acalapa, Ahila, Ahuacatitla, Almoloya, Atla, Atlantongo, Cuauneutla de la Paz, Chipotla, El Arenal, La Loma, Los Ángeles, Mamiquetla, Montellano, Paciotla, Pahuatlán de Valle, San Pablito, Tlalcruz de Libres, Xochimilco, Xolotla, Zacapehuaya, Zoyatla de Guerrero. <b>Tlaola</b>: Amacugtla, Amanalco, Atenco, Atequexquitla, Atitlalaya, Ayahualco, Capultitla, Caxapotla, Cocolixtla, Cocolongo, Coligque, Coxolitla, Cuamila, Cutzontipa, Chicahuaxtla, Huixtla, La Gallera, La Herradura, Nexapa Ahila, Nixcugtla, Nuevo Hidalgo, Plan de Cuamila, Salazar Herrera, San Isidro Acatlán, San José, Temascalapa, Tlacocugtla, Tlaltepango, Tlantentiloya, Tlaola, Tlapehuala, Tlapitzalapa, Tlaticoxca, Tlatlapanala, Tlatzohuiloya, Tzitzicazapa, Xaltepuxtla, Xochinanacatlán, Yetla. <b>Tlapacoya</b>: Ahuacatlaya, Barrio los Vázquez, Benito Juárez (Xicalango), Colonia las Palmas, Cuatepalcatla, La Cruz, La Cumbre, La Gruta, Rancho de Tepetzingo, San Andrés Buenavista, San Antonio Tlilapa, San Miguel Tlilapa, Santa Catarina Coatepec, Santo Domingo Ayotlicha, Tlamaya Chico, Tlamaya Grande. <b>Xicotepec</b>: Ahuaxintitla, Arroyo Seco, Atequexquitla, Cerro de los Limones, Cerro del Tepeyac, Cilima (La Bomba), Chicopanal, Dos Caminos, Duraznotla, Ejido de Nactanca [Ejido Nactanca], Ejido de Rancho Nuevo (El Ojite), El Cajón, El Infierno (Valle Verde), El Jonote, El Mirador, El Porvenir Ejido, El Refugio (Los Tamarindos), El Sauce Chico, El Tepetate, Finca Puebla (Casa Blanca), Gilberto Camacho, Ixtepec, Jalapilla, La Cascada (Las Chacas), La Chivería, La Garcita, La Herradura, La Magdalena, La Muralla, La Palma, Las Águilas, Las Cañadas, Las Pilas, Lomas Verdes, Los Arroyos, Los Limones, Los Naranjos, Los Piñales (Agua Dulce), Mecatlán de las Flores, Monte Grande de Zaragoza, Morelos, Nactanca Chica (La Colonia), Nactanca Grande, Ojo de Agua (Primera Sección), Pensamiento Mexicano, Quinta Lilia, Rancho Nuevo, San Agustín (Atlihuacán), San Antonio, San Antonio Ocopetlatlán, San Isidro, San Lorenzo, San Luis, San Pedro Itztla, Santa Cruz Chica, Santa Cruz Grande, Santa Luz Buenavista, Santa Rita, Santa Rosa, Tepapatlaxco [Tepepatlaxco], Tierra Negra, Tlapehuala, Tlaxcalantongo, Tlaxpanala (Las Trancas), Tranca de Fierro, Tulancinguillo, Unidad Deportiva (Ocotzotal), Villa de las Flores, Villa Ávila Camacho (La Ceiba), Xicotepec de Juárez. <b>Zihuateutla</b>: Arroyo Mano, Azcatlán, Cacahuatlán, Carmen (Finca el Matadero), Cerro Azul, Cerro Verde, Cuatechalotla, Cuaunepixca (La Cumbre), Ejido Tenanguito, El Rosario (Anayal), El Cerro, El Plantel, El Remolino, Ernesto Hernández (Tlacoyuco), Finca Cre-Leg, Finca Cuaunepixca, Finca el Limonar, Finca el Progreso Chico, Finca el Rosario, Finca el Viejote, Finca Grano de Oro, Finca la Providencia, Finca la Puebla, Finca la Selva, Finca la Trinidad, Finca las Chachitas, Finca las Margaritas, Finca los Tulipanes, Finca Susy, La Cañada, La Chiquita, La Floresta, La Florida, La Herradura, La Laguna, La Libertad, La Mesa del Crucero (La Mesita), La Planada, La Tranca de Fierro, La Unión, La Virgen, Lagunillas, Loma Bonita, Los Pinos, Mazacoatlán, Nanacatepec, Noche Buena, Ocomantla, Ojo de Agua, Planta de Patla, Rancho las Filipinas, San Andrés, San José, San Nicolás, Santo Tomás, Tecpatlán, Telolotla, Tenanguito, Zihuateutla.\n",
       "                </td>"
      ]
     },
     "execution_count": 43,
     "metadata": {},
     "output_type": "execute_result"
    }
   ],
   "source": [
    "gdatos = all_tds[1]\n",
    "gdatos"
   ]
  },
  {
   "cell_type": "code",
   "execution_count": 57,
   "metadata": {},
   "outputs": [
    {
     "name": "stdout",
     "output_type": "stream",
     "text": [
      "\n",
      "                    HIDALGO: \n",
      "<class 'bs4.element.NavigableString'>\n",
      "<b>Acaxochitlán</b>\n",
      "<class 'bs4.element.Tag'>\n",
      "False\n",
      ": Acaxochitlán, Alpinagua, Apapaxtla (Altamira), Apopoalco, Atezcapa, Barrio Cuautenco, Barrio el Puente, Barrio Tlatempa, Barrio Tlatzintla, Barrio Verde, Buenavista (Necaxanco), Coyametepec, Cuaunepantla, Chimalapa, Ejido Techachalco, Ejido de Tepepa (Barrio Santa Félix), Ejido de Tlatzintla, El Bado, El Crucero, El Tejocotal, El Valle, La Boveda, La Mesa, Los Reyes, Montemar, Necaxanco, Nuevo San Juan, Ocotengo, Ojo de Agua las Palomas, Parada 170, Paredones, San Fernando, San Francisco Atotonilco, San Juan, San Mateo, San Miguel del Resgate, San Pedro Tlachichilco, Santa Ana Tzacuala, Santa Catarina, Techachalco, Tepepa (Santiago Tepepa), Tlacpac, Tlamimilolpa, Toxtla, Venta Quemada, Yemila, Zacacuautla, Zotictla.\n",
      "\n",
      "\n",
      "<class 'bs4.element.NavigableString'>\n",
      "<br/>\n",
      "<class 'bs4.element.Tag'>\n",
      "True\n",
      "<br/>\n",
      "<class 'bs4.element.Tag'>\n",
      "True\n",
      "\n",
      "PUEBLA: \n",
      "<class 'bs4.element.NavigableString'>\n",
      "<b>Chiconcuautla</b>\n",
      "<class 'bs4.element.Tag'>\n",
      "False\n",
      ": Acalama, Amola, Axocopactla, Azacatla, Benito Juárez, Cosamaloapan, Cuetzalingo, Chiconcuautla, Huautla, Huixtlacuatla, Itlantixcali, Ixtaczoquitla, Macuilacatla, Mimitla, Ojo de Agua, Palzoquitla, San Lorenzo Tlaxipehuala, Tlalhuapan, Tlaltenango, Tlaxco (Santiago Tlaxco), Toxtla, Zacatepec, Zempoala. \n",
      "<class 'bs4.element.NavigableString'>\n",
      "<b>Honey</b>\n",
      "<class 'bs4.element.Tag'>\n",
      "False\n",
      ": Amapoloa, Chila de Juárez, El Manzano, Honey, Huehuetlilla, La Magdalena, Rincón de Chila. \n",
      "<class 'bs4.element.NavigableString'>\n",
      "<b>Huauchinango</b>\n",
      "<class 'bs4.element.Tag'>\n",
      "False\n",
      ": Acatlán, Agua Blanca, Ahuacatlán, Ahuatepec, Álvaro Obregón, Alseseca, Ayohuixcuautla, Benito Juárez, Cobrería, Colonia Pemex (Hueyatlagco), Cuacuila, Cuahueyatla, Cuautlita, Cuauxinca, Cuaxicala, Chahuac, Chicuase, El Mirador, El Paraíso, Gustavo Díaz Ordaz (La Cuenca), Huauchinango, Huejotzingo, Huilacapixtla, Independencia, Ixhuacatla, José López Portillo, Las Colonias de Hidalgo, Llano de Huejotzingo, Los Capulines, Los Girasoles, Matlaluca, Mesa de Capulines, Michiuca, Nopala, Ocpaco, Ozomatlán, Papatlatla, Papatlazolco, Patoltecoya, Piedras Pintadas, Popocatépetl (Juan Hernández), Puga, San Diego Buenavista, San José, San José Munive, San José Tlautla, San Juan Pancoac, San Luis Coyotzingo, San Mateo Capultitlán, San Miguel Acuautla, San Miguel Tianguizolco, Santa Ana Xalmimilulco, Santa Catalina, Santa Elena, Santa Elena de la Cruz (Los Oroza), Santa María Atexcac, Santa María Nepopualco, Santa María Tianguistenco, Santiago, Santiago (Buena Vista), Tenango de las Flores, Tenohuatlán, Teopancingo, Tepehuaquila, Tepetzintla de Galeana, Texcapa, Tlachichila (Tecoxtenco), Tlacomulco, Tlalcoyunga, Tlalmaya, Tonatzin, Totolapa (El Sifón), Tzahuinco, Venta Grande, Xaltepec, Xilocuautla, Xolango, Xopanapa. \n",
      "<class 'bs4.element.NavigableString'>\n",
      "<b>Jopala</b>\n",
      "<class 'bs4.element.Tag'>\n",
      "False\n",
      ": Arroyo Hondo, Buenos Aires, Cuamaxalco, Chicontla, El Encinal, Finca Pilar I, Finca Pilar II, Jopala, La Concha, Oro Verde (Monte de Chila), Patla, Rancho Nuevo, San Martín, San Pedro Tlaolantongo, Tecuantla (Los Reyes). \n",
      "<class 'bs4.element.NavigableString'>\n",
      "<b>Juan Galindo</b>\n",
      "<class 'bs4.element.Tag'>\n",
      "False\n",
      ": Colonia Azteca, Cuautlita (El Gamito), Dos Caminos, El Salto, Necaxaltépetl, Nezoaya, Nuevo Necaxa, Tecacalango (La Pahua). \n",
      "<class 'bs4.element.NavigableString'>\n",
      "<b>Naupan</b>\n",
      "<class 'bs4.element.Tag'>\n",
      "False\n",
      ": Achiautla (Xiagtla), Alambique, Copila, Cozolapa, Cuahuihuitzotitla, Cueyatla, Chachahuantla, Humiltemec, Iczotitla, Metztla Abajo, Metztla Arriba, Naupan, Tenextitla, Teopanzolco, Tlaxpanaloya. \n",
      "<class 'bs4.element.NavigableString'>\n",
      "<b>Pahuatlán</b>\n",
      "<class 'bs4.element.Tag'>\n",
      "False\n",
      ": Acahuales (El Aguacate), Acalapa, Ahila, Ahuacatitla, Almoloya, Atla, Atlantongo, Cuauneutla de la Paz, Chipotla, El Arenal, La Loma, Los Ángeles, Mamiquetla, Montellano, Paciotla, Pahuatlán de Valle, San Pablito, Tlalcruz de Libres, Xochimilco, Xolotla, Zacapehuaya, Zoyatla de Guerrero. \n",
      "<class 'bs4.element.NavigableString'>\n",
      "<b>Tlaola</b>\n",
      "<class 'bs4.element.Tag'>\n",
      "False\n",
      ": Amacugtla, Amanalco, Atenco, Atequexquitla, Atitlalaya, Ayahualco, Capultitla, Caxapotla, Cocolixtla, Cocolongo, Coligque, Coxolitla, Cuamila, Cutzontipa, Chicahuaxtla, Huixtla, La Gallera, La Herradura, Nexapa Ahila, Nixcugtla, Nuevo Hidalgo, Plan de Cuamila, Salazar Herrera, San Isidro Acatlán, San José, Temascalapa, Tlacocugtla, Tlaltepango, Tlantentiloya, Tlaola, Tlapehuala, Tlapitzalapa, Tlaticoxca, Tlatlapanala, Tlatzohuiloya, Tzitzicazapa, Xaltepuxtla, Xochinanacatlán, Yetla. \n",
      "<class 'bs4.element.NavigableString'>\n",
      "<b>Tlapacoya</b>\n",
      "<class 'bs4.element.Tag'>\n",
      "False\n",
      ": Ahuacatlaya, Barrio los Vázquez, Benito Juárez (Xicalango), Colonia las Palmas, Cuatepalcatla, La Cruz, La Cumbre, La Gruta, Rancho de Tepetzingo, San Andrés Buenavista, San Antonio Tlilapa, San Miguel Tlilapa, Santa Catarina Coatepec, Santo Domingo Ayotlicha, Tlamaya Chico, Tlamaya Grande. \n",
      "<class 'bs4.element.NavigableString'>\n",
      "<b>Xicotepec</b>\n",
      "<class 'bs4.element.Tag'>\n",
      "False\n",
      ": Ahuaxintitla, Arroyo Seco, Atequexquitla, Cerro de los Limones, Cerro del Tepeyac, Cilima (La Bomba), Chicopanal, Dos Caminos, Duraznotla, Ejido de Nactanca [Ejido Nactanca], Ejido de Rancho Nuevo (El Ojite), El Cajón, El Infierno (Valle Verde), El Jonote, El Mirador, El Porvenir Ejido, El Refugio (Los Tamarindos), El Sauce Chico, El Tepetate, Finca Puebla (Casa Blanca), Gilberto Camacho, Ixtepec, Jalapilla, La Cascada (Las Chacas), La Chivería, La Garcita, La Herradura, La Magdalena, La Muralla, La Palma, Las Águilas, Las Cañadas, Las Pilas, Lomas Verdes, Los Arroyos, Los Limones, Los Naranjos, Los Piñales (Agua Dulce), Mecatlán de las Flores, Monte Grande de Zaragoza, Morelos, Nactanca Chica (La Colonia), Nactanca Grande, Ojo de Agua (Primera Sección), Pensamiento Mexicano, Quinta Lilia, Rancho Nuevo, San Agustín (Atlihuacán), San Antonio, San Antonio Ocopetlatlán, San Isidro, San Lorenzo, San Luis, San Pedro Itztla, Santa Cruz Chica, Santa Cruz Grande, Santa Luz Buenavista, Santa Rita, Santa Rosa, Tepapatlaxco [Tepepatlaxco], Tierra Negra, Tlapehuala, Tlaxcalantongo, Tlaxpanala (Las Trancas), Tranca de Fierro, Tulancinguillo, Unidad Deportiva (Ocotzotal), Villa de las Flores, Villa Ávila Camacho (La Ceiba), Xicotepec de Juárez. \n",
      "<class 'bs4.element.NavigableString'>\n",
      "<b>Zihuateutla</b>\n",
      "<class 'bs4.element.Tag'>\n",
      "False\n",
      ": Arroyo Mano, Azcatlán, Cacahuatlán, Carmen (Finca el Matadero), Cerro Azul, Cerro Verde, Cuatechalotla, Cuaunepixca (La Cumbre), Ejido Tenanguito, El Rosario (Anayal), El Cerro, El Plantel, El Remolino, Ernesto Hernández (Tlacoyuco), Finca Cre-Leg, Finca Cuaunepixca, Finca el Limonar, Finca el Progreso Chico, Finca el Rosario, Finca el Viejote, Finca Grano de Oro, Finca la Providencia, Finca la Puebla, Finca la Selva, Finca la Trinidad, Finca las Chachitas, Finca las Margaritas, Finca los Tulipanes, Finca Susy, La Cañada, La Chiquita, La Floresta, La Florida, La Herradura, La Laguna, La Libertad, La Mesa del Crucero (La Mesita), La Planada, La Tranca de Fierro, La Unión, La Virgen, Lagunillas, Loma Bonita, Los Pinos, Mazacoatlán, Nanacatepec, Noche Buena, Ocomantla, Ojo de Agua, Planta de Patla, Rancho las Filipinas, San Andrés, San José, San Nicolás, Santo Tomás, Tecpatlán, Telolotla, Tenanguito, Zihuateutla.\n",
      "                \n",
      "<class 'bs4.element.NavigableString'>\n"
     ]
    }
   ],
   "source": [
    "for thing in gdatos:\n",
    "    print(thing)\n",
    "    print(type(thing))\n",
    "    if thing.__class__ == bs4.element.Tag:\n",
    "        print(thing.decode() == '<br/>')"
   ]
  },
  {
   "cell_type": "code",
   "execution_count": 22,
   "metadata": {},
   "outputs": [
    {
     "name": "stdout",
     "output_type": "stream",
     "text": [
      "<class 'bs4.element.NavigableString'>\n",
      "['PREFIX', 'SUFFIX', '__add__', '__class__', '__contains__', '__copy__', '__delattr__', '__dict__', '__dir__', '__doc__', '__eq__', '__format__', '__ge__', '__getattr__', '__getattribute__', '__getitem__', '__getnewargs__', '__gt__', '__hash__', '__init__', '__init_subclass__', '__iter__', '__le__', '__len__', '__lt__', '__mod__', '__module__', '__mul__', '__ne__', '__new__', '__reduce__', '__reduce_ex__', '__repr__', '__rmod__', '__rmul__', '__setattr__', '__sizeof__', '__str__', '__subclasshook__', '__weakref__', '_find_all', '_find_one', '_is_xml', '_lastRecursiveChild', '_last_descendant', 'append', 'capitalize', 'casefold', 'center', 'count', 'encode', 'endswith', 'expandtabs', 'extend', 'extract', 'fetchNextSiblings', 'fetchParents', 'fetchPrevious', 'fetchPreviousSiblings', 'find', 'findAllNext', 'findAllPrevious', 'findNext', 'findNextSibling', 'findNextSiblings', 'findParent', 'findParents', 'findPrevious', 'findPreviousSibling', 'findPreviousSiblings', 'find_all_next', 'find_all_previous', 'find_next', 'find_next_sibling', 'find_next_siblings', 'find_parent', 'find_parents', 'find_previous', 'find_previous_sibling', 'find_previous_siblings', 'format', 'format_map', 'format_string', 'formatter_for_name', 'index', 'insert', 'insert_after', 'insert_before', 'isalnum', 'isalpha', 'isascii', 'isdecimal', 'isdigit', 'isidentifier', 'islower', 'isnumeric', 'isprintable', 'isspace', 'istitle', 'isupper', 'join', 'known_xml', 'ljust', 'lower', 'lstrip', 'maketrans', 'name', 'next', 'nextGenerator', 'nextSibling', 'nextSiblingGenerator', 'next_element', 'next_elements', 'next_sibling', 'next_siblings', 'output_ready', 'parent', 'parentGenerator', 'parents', 'partition', 'previous', 'previousGenerator', 'previousSibling', 'previousSiblingGenerator', 'previous_element', 'previous_elements', 'previous_sibling', 'previous_siblings', 'replace', 'replaceWith', 'replaceWithChildren', 'replace_with', 'replace_with_children', 'rfind', 'rindex', 'rjust', 'rpartition', 'rsplit', 'rstrip', 'setup', 'split', 'splitlines', 'startswith', 'strip', 'swapcase', 'title', 'translate', 'unwrap', 'upper', 'wrap', 'zfill']\n",
      "<class 'bs4.element.Tag'>\n",
      "['__bool__', '__call__', '__class__', '__contains__', '__copy__', '__delattr__', '__delitem__', '__dict__', '__dir__', '__doc__', '__eq__', '__format__', '__ge__', '__getattr__', '__getattribute__', '__getitem__', '__gt__', '__hash__', '__init__', '__init_subclass__', '__iter__', '__le__', '__len__', '__lt__', '__module__', '__ne__', '__new__', '__reduce__', '__reduce_ex__', '__repr__', '__setattr__', '__setitem__', '__sizeof__', '__str__', '__subclasshook__', '__unicode__', '__weakref__', '_all_strings', '_find_all', '_find_one', '_is_xml', '_lastRecursiveChild', '_last_descendant', '_should_pretty_print', 'append', 'attrs', 'can_be_empty_element', 'cdata_list_attributes', 'childGenerator', 'children', 'clear', 'contents', 'decode', 'decode_contents', 'decompose', 'descendants', 'encode', 'encode_contents', 'extend', 'extract', 'fetchNextSiblings', 'fetchParents', 'fetchPrevious', 'fetchPreviousSiblings', 'find', 'findAll', 'findAllNext', 'findAllPrevious', 'findChild', 'findChildren', 'findNext', 'findNextSibling', 'findNextSiblings', 'findParent', 'findParents', 'findPrevious', 'findPreviousSibling', 'findPreviousSiblings', 'find_all', 'find_all_next', 'find_all_previous', 'find_next', 'find_next_sibling', 'find_next_siblings', 'find_parent', 'find_parents', 'find_previous', 'find_previous_sibling', 'find_previous_siblings', 'format_string', 'formatter_for_name', 'get', 'getText', 'get_attribute_list', 'get_text', 'has_attr', 'has_key', 'hidden', 'index', 'insert', 'insert_after', 'insert_before', 'isSelfClosing', 'is_empty_element', 'known_xml', 'name', 'namespace', 'next', 'nextGenerator', 'nextSibling', 'nextSiblingGenerator', 'next_element', 'next_elements', 'next_sibling', 'next_siblings', 'parent', 'parentGenerator', 'parents', 'parserClass', 'parser_class', 'prefix', 'preserve_whitespace_tags', 'prettify', 'previous', 'previousGenerator', 'previousSibling', 'previousSiblingGenerator', 'previous_element', 'previous_elements', 'previous_sibling', 'previous_siblings', 'recursiveChildGenerator', 'renderContents', 'replaceWith', 'replaceWithChildren', 'replace_with', 'replace_with_children', 'select', 'select_one', 'setup', 'smooth', 'sourceline', 'sourcepos', 'string', 'strings', 'stripped_strings', 'text', 'unwrap', 'wrap']\n",
      "<class 'bs4.element.NavigableString'>\n",
      "['PREFIX', 'SUFFIX', '__add__', '__class__', '__contains__', '__copy__', '__delattr__', '__dict__', '__dir__', '__doc__', '__eq__', '__format__', '__ge__', '__getattr__', '__getattribute__', '__getitem__', '__getnewargs__', '__gt__', '__hash__', '__init__', '__init_subclass__', '__iter__', '__le__', '__len__', '__lt__', '__mod__', '__module__', '__mul__', '__ne__', '__new__', '__reduce__', '__reduce_ex__', '__repr__', '__rmod__', '__rmul__', '__setattr__', '__sizeof__', '__str__', '__subclasshook__', '__weakref__', '_find_all', '_find_one', '_is_xml', '_lastRecursiveChild', '_last_descendant', 'append', 'capitalize', 'casefold', 'center', 'count', 'encode', 'endswith', 'expandtabs', 'extend', 'extract', 'fetchNextSiblings', 'fetchParents', 'fetchPrevious', 'fetchPreviousSiblings', 'find', 'findAllNext', 'findAllPrevious', 'findNext', 'findNextSibling', 'findNextSiblings', 'findParent', 'findParents', 'findPrevious', 'findPreviousSibling', 'findPreviousSiblings', 'find_all_next', 'find_all_previous', 'find_next', 'find_next_sibling', 'find_next_siblings', 'find_parent', 'find_parents', 'find_previous', 'find_previous_sibling', 'find_previous_siblings', 'format', 'format_map', 'format_string', 'formatter_for_name', 'index', 'insert', 'insert_after', 'insert_before', 'isalnum', 'isalpha', 'isascii', 'isdecimal', 'isdigit', 'isidentifier', 'islower', 'isnumeric', 'isprintable', 'isspace', 'istitle', 'isupper', 'join', 'known_xml', 'ljust', 'lower', 'lstrip', 'maketrans', 'name', 'next', 'nextGenerator', 'nextSibling', 'nextSiblingGenerator', 'next_element', 'next_elements', 'next_sibling', 'next_siblings', 'output_ready', 'parent', 'parentGenerator', 'parents', 'partition', 'previous', 'previousGenerator', 'previousSibling', 'previousSiblingGenerator', 'previous_element', 'previous_elements', 'previous_sibling', 'previous_siblings', 'replace', 'replaceWith', 'replaceWithChildren', 'replace_with', 'replace_with_children', 'rfind', 'rindex', 'rjust', 'rpartition', 'rsplit', 'rstrip', 'setup', 'split', 'splitlines', 'startswith', 'strip', 'swapcase', 'title', 'translate', 'unwrap', 'upper', 'wrap', 'zfill']\n"
     ]
    }
   ],
   "source": [
    "i = 0\n",
    "for cosa in gdatos:\n",
    "    print(type(cosa))\n",
    "    print(dir(cosa))\n",
    "    i += 1\n",
    "    if i > 2:\n",
    "        break"
   ]
  },
  {
   "cell_type": "code",
   "execution_count": 76,
   "metadata": {},
   "outputs": [
    {
     "data": {
      "text/plain": [
       "[{'HIDALGO': {'Acaxochitlán': ['Acaxochitlán, Alpinagua, Apapaxtla (Altamira), Apopoalco, Atezcapa, Barrio Cuautenco, Barrio el Puente, Barrio Tlatempa, Barrio Tlatzintla, Barrio Verde, Buenavista (Necaxanco), Coyametepec, Cuaunepantla, Chimalapa, Ejido Techachalco, Ejido de Tepepa (Barrio Santa Félix), Ejido de Tlatzintla, El Bado, El Crucero, El Tejocotal, El Valle, La Boveda, La Mesa, Los Reyes, Montemar, Necaxanco, Nuevo San Juan, Ocotengo, Ojo de Agua las Palomas, Parada 170, Paredones, San Fernando, San Francisco Atotonilco, San Juan, San Mateo, San Miguel del Resgate, San Pedro Tlachichilco, Santa Ana Tzacuala, Santa Catarina, Techachalco, Tepepa (Santiago Tepepa), Tlacpac, Tlamimilolpa, Toxtla, Venta Quemada, Yemila, Zacacuautla, Zotictla.']}},\n",
       " {}]"
      ]
     },
     "execution_count": 76,
     "metadata": {},
     "output_type": "execute_result"
    }
   ],
   "source": [
    "def parse_datos_geos(datos_geos):\n",
    "    '''@datos_geo debe ser un table de HTML'''\n",
    "    repr_geo = {}\n",
    "    \n",
    "    for parte in datos_geos:\n",
    "        # primero identificamos el estado, que siempre está en mayúsculas\n",
    "        # esta parte del table is of class 'bs4.element.NavigableString'\n",
    "        if parte.__class__ == bs4.element.NavigableString:\n",
    "            if parte.isupper():\n",
    "                estado = parte.strip(' :\\t\\r\\n')\n",
    "                repr_geo[estado] = {}\n",
    "                continue\n",
    "                \n",
    "        # luego, si el parte tiene los bold HTML tags \"<br></br>\"\n",
    "        # es otro tipo de bs4 object of class 'bs4.element.Tag'\n",
    "        if parte.__class__ == bs4.element.Tag and parte.decode() != '<br/>':\n",
    "            municipio = parte.text\n",
    "            repr_geo[estado][municipio] = []\n",
    "            \n",
    "        # finalmente, los localidades también son de la class 'bs4.element.NavigableString'\n",
    "        # si ya tenemos el estado, sabemos que esta parte describe localidades\n",
    "        if parte.__class__ == bs4.element.NavigableString and repr_geo[estado]:\n",
    "            localidades = parte.strip(' :\\n')\n",
    "            repr_geo[estado][municipio].extend([localidades])\n",
    "            \n",
    "        # si hay multiples estados en los que se hablan la misma variante\n",
    "        # van a ser separados por \"linebreaks\". entonces usamos el linebreak\n",
    "        # como un flag para identificar que hay que construir otro repr_geo\n",
    "        if parte.__class__ == bs4.element.Tag and parte.decode() == '<br/>':\n",
    "            yield repr_geo\n",
    "            repr_geo = {}\n",
    "    \n",
    "    # yield el último \n",
    "    yield repr_geo\n",
    "        \n",
    "    # return la representación\n",
    "    # return repr_geo\n",
    "\n",
    "repr_geo = [geo for geo in parse_datos_geos(gdatos)]\n",
    "repr_geo"
   ]
  },
  {
   "cell_type": "markdown",
   "metadata": {},
   "source": [
    "### ya tenemos todos los datos que queremos para hacer un ejemplo"
   ]
  },
  {
   "cell_type": "code",
   "execution_count": 24,
   "metadata": {},
   "outputs": [
    {
     "data": {
      "text/plain": [
       "'náhuatl'"
      ]
     },
     "execution_count": 24,
     "metadata": {},
     "output_type": "execute_result"
    }
   ],
   "source": [
    "agrup_ling"
   ]
  },
  {
   "cell_type": "code",
   "execution_count": 25,
   "metadata": {},
   "outputs": [
    {
     "data": {
      "text/plain": [
       "'Yuto-nahua'"
      ]
     },
     "execution_count": 25,
     "metadata": {},
     "output_type": "execute_result"
    }
   ],
   "source": [
    "familia_ling"
   ]
  },
  {
   "cell_type": "code",
   "execution_count": 26,
   "metadata": {},
   "outputs": [
    {
     "data": {
      "text/plain": [
       "['mexicano tlajtol/n[mexikano λahtol]', 'nauta/n[nawta]']"
      ]
     },
     "execution_count": 26,
     "metadata": {},
     "output_type": "execute_result"
    }
   ],
   "source": [
    "autodes"
   ]
  },
  {
   "cell_type": "code",
   "execution_count": 27,
   "metadata": {},
   "outputs": [
    {
     "data": {
      "text/plain": [
       "'<náhuatl de la Sierra, noreste de Puebla>'"
      ]
     },
     "execution_count": 27,
     "metadata": {},
     "output_type": "execute_result"
    }
   ],
   "source": [
    "variante"
   ]
  },
  {
   "cell_type": "code",
   "execution_count": 28,
   "metadata": {},
   "outputs": [
    {
     "data": {
      "text/plain": [
       "{'PUEBLA': {'Atempan': ['Apatauyan, Atempan, Atzalán, Cala Norte, Cala Sur, El Cuatro, Huexoteno, Las Canoas, Las Delicias, Meyuco, Potrero Nuevo, San Ambrosio, San Nicolás (Animazco), Tacopan, Tanhuixco, Tezhuatepec, Tezompan.'],\n",
       "  'Ayotoxco de Guerrero': ['Acaltzontán, Agua Bonita, Arenal, Ayotoxco de Guerrero, Buena Vista, Casa Quemada, Colozapan, Copales, Cuauhtémoc (Tlacuilolostoc), El Roble, Flores Villar, Gachupinate (Rancho Nuevo), La Lagunilla, La Manigua, La Quebradora, La Unión, Las Ceibas, Las Cibeles, Las Cruces, Los Aguacates, Los Mangos, Malintepec, Nanacatepec, Plan de la Palma, San Antonio Metzonapa, San Francisco Atecacalax, Santa Cecilia, Santa Elena, Trapiche Viejo, Uruapan, Vega Redonda, Xaltorre.'],\n",
       "  'Cuautempan': ['Ahuatlán, Cerro Verde (Ejecatepeco), Hueytentán, Ixtolco de Morelos, Papalotla, San Esteban Cuautempan, San José Río Bravo, Taltzontipan, Tecapagco, Tenepanigia (Santa Elena), Tepizila (Primera Sección), Texamanila, Texocotitán, Tlapacholoya, Totocuautla, Totomoxtla, Vista Hermosa.'],\n",
       "  'Cuetzalan del Progreso': ['Acaxiloco, Achiauta, Ahuatau, Ahuateno, Alahuacapan, Amateno, Amatitán, Apazapan, Atalpan, Atechayan, Atemolon, Atepatahua, Atepolihui (Ostocapal), Atmolon, Ayotzinapan, Cacatecuauta, Cahuayogco, Calatepec, Caxaltepec, Cedral Atalpan, Cerro de Nectepec, Ciudad de Cuetzalan, Coapan, Cohuateno, Cohuatichan, Cozamalomila, Cuahutamanca, Cuamono, Cuaololtitán, Cuatro Caminos, Cuauhtamazaco, Cuauhtapanaloyan, Cuetzaltepec, Cuichat, Chauta, Chichicazapan, Chicueyaco, El Aguacate, El Rosario, Equimita, Finca San José y San Ángel, Huaxtitán, Ixtahuata, Kapola, La Galera, La Gloria, La Piedad, La Providencia, La Tranca, Las Hamacas, Las Vigas, Limonco, Limontitán, Los Manantiales, Macuilacaco, Malacayotán, Monte Alto, Nahuiogpan, Naltzincuauhta, Nectepec, Octatitán, Octimaxal Norte, Octimaxal Sur, Olopioco, Pagmaco, Pahpatapan, Pepexta, Pesmapan, Pilinchaco, Pinahuista, Quezapa, Reyeshogpan de Hidalgo (El Mirador Reyeshogpan), San Fermín, San Manuel, San Miguel Tzinacapan, Santa Cruz Tatempa, Santa Eduviges, Santa Rosa, Santiago Yancuitlalpan, Santioapan, Sesectahuacal, Tachicteco, Tacuapan, Tagchinolapa, Tahuil, Tajkuilol, Talix, Taltzintán, Tatahuitaltipan, Taxipéhuatl, Tazalolpan, Teacal, Tecazo, Tecoltepec, Tecuahuta, Tenango, Tenango Zacatipan, Tenanikan, Tencuix, Tenextepec, Tenexteta, Tenkizapan, Tepango, Tepechtzingo, Tepetitán Reyeshogpan de Hidalgo, Tepetitán Zacatipan, Tepetzalan, Tepetzalan de Miguel Hidalgo, Tepetzintán, Teshuatita, Tetsijtsilin, Texixila, Texochico, Tixapanteno (Tixapan), Tonalix, Totocuahuta (Tamaya), Tuzamapan Xiloxochico, Tzanatco, Tzicuilán, Tzojiaco, Tzoncomala, Tzontejco, Vista Hermosa, Xala, Xalcuahuta, Xalostoc, Xalpanat, Xalpantzingo, Xalta, Xaltepec, Xalticpac, Xaltipan, Xaltzinta, Xilcuahuta, Xiliapan, Xiloxochico de Rafael Ávila Camacho, Xiloxúchitl, Xiutecuapan, Xochical, Xocota, Xocoyolo, Yohualichan, Zacatipan, Ziltepec, Zoquiapan, Zoquita Tepetzala, Zuapilaco.'],\n",
       "  'Chignautla': ['Analco, Ateta, Coahuixco, Coatzala, Crutzitzin, Chignautla, Encino Rico, Huapaltepec (Zacatamanix), La Aguardientera, Los Aserraderos, Los Humeros, Los Parajes (Zompanateno), San Isidro, San Mateo, Sección 3ra. de Chignautla, Sosa, Sotoltepec, Talzintán, Tecolotepec, Tenextepec, Tepepan, Tequimila, Tezohuatepec (Tezotepec), Yopi.'],\n",
       "  'Hueyapan': ['Ahuatepec, Atmoloni, Barrio Alto, Buenavista, Colostitán, Coyotepec, Cuatro Caminos, Cuexco, Dos Ríos, Gardenias, Hueyapan, La Aurora, La Pagoda, Maloapan, Nexpan, Paso Real, Talzintán, Tanamacoyan, Tepetitanapan, Tetelilla.'],\n",
       "  'Hueytamalco': ['Agua Zarca, Amatetel, Atehuetzin, Atepetaco, Ayahualo, Beranga, Coapal Grande, Colonia la Virgen, Colonia Morelos, Colonia del Valle, Corral Viejo, Cruz Verde, Cuautoxca, Chilornos, Dos Ríos Nuevo, Ejido Hueytamalco, El Anayal, El Arenal, El Calabozo, El Canelo, El Chapopote, El Edén, El Maltrato, El Mangal, El Mirador (Mirador Tenexapa), El Mohón, El Progreso, El Pueblillo, El Reparo, El Rincón Paxta, El Tigrero, El Tular, Hueytamalco, Hueytamalco (Papaloapan), Jabalinco, La Chaca, La Cruz, La Esmeralda, La Esperanza (Limonateno Chico), La Garita, La Gloria Escondida, La Llave, La Línea, La Morera, La Reforma, La Sultana, Las Ánimas, Las Margaritas, Las Palmas, Las Piedras (San Antonio las Piedras), Las Tumbas, Limonateno (Limonateno Grande), Limontitán Chico, Limontitán Grande, Llagostera, Loma Alta, Loma Bonita, Los Anayos, Manlio Fabio Altamirano, Mazolapa, Mecatépetl, Miquixco, Montecelli, Mozota, Mozota (Mozota de Buenavista), Palmagtitán, Paxta, Pezmaco, Pezmapa, Plan de Guinea, Plan de María, Poza Verde, Praves, Puente de Palo, Rancho Viejo, San Ángel, San Ángel Cuauxocota, San Antonio, San Camilo la Cañada, San Carlos, San Ignacio (San Ignacio del Progreso), San Isidro Buenavista, San Lucas, San Luis, San Martín, San Miguel, San Nicolás, Santa Cruz, Santa Martha, Solorzano, Tacotalpa, Tacuba, Tenexapa de Azueta, Tenexate (Ejido Tenexate), Tenexate (Finca Tenexate), Tepactipan, Teteyahualco, Tierra Colorada (Kilómetro 25), Tilapa, Tizizapa, Tlacuilolapa, Tonalmeyoco, Torrecillas (Colón), Vega Chica, Vega de Montecelli (El Aguilar), Villa del Río, Vista Hermosa, Xalteno, Xontla, Xoyoquila, Zanzontla, Zompanico.'],\n",
       "  'Huitzilán de Serdán': ['Acuitapilco, Cozoltepec, Cuarta Sección, Chagchaloyan de Isidro Burgos, Chagchaloyan de Zapata, Huitzilán, Pahuatitán, Paraíso, Pezmata (Papalocontitlán), Pilactitán, Primera Sección, Quinta Sección, San Antonio Taltzintán, San José Aocotzota, San Martín Cohuapan, San Miguel Acateno, San Miguel del Progreso, Segunda Sección, Tancalco, Tepetalzinta, Tepetzintla, Tercera Sección, Tlacaloco, Totutla, Xinachapan de Allende, Xoloango, Zoyotla.'],\n",
       "  'Ixtacamaxtitlán': ['Acoculco (Alcaparra), Analco (Chancuagco), Capolictic, Capuluapan de las Aguas, Cristalaco, Cruz de León, Cuahuigtic, Cuatexmola, Chaucingo Atezquilla, Chaucingo Tiloxtoc, Chipilo (Cuatexmola), El Cebollero, El Jardín Ocojala, El Mirador, El Sabinal (San Pedro), Escuinapa, Guadalupe, Huixcolotla, Iliyucan, Ixtacamaxtitlán, Jalacingo (Jalacingo Texas), La Unión Ejido Mexcaltepec, Lagunilla Pedernales, Las Barrancas, Las Huertillas, Mexcaltepec, Minatitlán, Minillas, Ocotla, Octapa, Oyametepec, Plan de Guadalupe, Plan de la Flor, Ranchitos, Rancho Viejo, Santa María Sotoltepec, Solinco, Tagcotepec, Tatempango, Tateno, Tatoxcac, Tecoltemic, Tenamigtic, Tenextepecuaco, Tentzoncuahuigtic, Tepecuahuixco (El Llanete), Tepexoxuca, Texocuictic, Texocuixpan, Tlacuela, Tlajomulco, Tlalmotolo, Tlanana (Atecoxco), Tlaxcalancingo, Tonalapa, Tuligtic (San Miguel), Vista Hermosa de Morelos, Xalcomulco, Xocoxiutla, Xonacatla, Xopanac, Zaragoza.'],\n",
       "  'Jonotla': ['Buena Vista, Colonia Tiburcio Juárez, Ecatlán (Santiago Ecatlán), Ejido Rayón, El Arenal, El Cedro, El Muro, El Tozan, Jonotla, Molinagco, Paso del Jardín, Plan de Guadalupe (Barrio del Peñon), Poxcoyo, San Antonio Rayón, Tecpantzingo, Tepetitlán, Tepetzinat, Xiloxochit.'],\n",
       "  'Nauzontla': ['Cuahutapehual de Benito Juárez, Guayabal Nauzontla Primera Sección, La Unión, Nauzontla, San Rafael Axolota, Santa Lucía Atioyan, Talchichil, Tepanyehual, Xalaco.'],\n",
       "  'Tenampulco': ['Arroyo Blanco, Arroyo Zarco, Buenos Aires, Caracoles, Cerro de la Campana, Colonia Morelos, Cruz Verde, Cuatro Caminos, El Chacal, El Jicarillo, El Palenque, El Zapotal, El Zapote, La Burra, La Esperanza, La Florida, La Junta Arroyo Zarco, La Lima, La Nueva Junta Arroyo Zarco, La Pila, Lázaro Cárdenas (San Diego), Ojo de Agua, Paso del Palmar, Poza Verde, Salsipuedes, Salsipuedes (Cerro de la Campana), Saltillo, Santa Cruz Buena Vista, Santa Lucía, Tenampulco, Tenampulco Viejo, Tenexapa de Allende, Tlacotalpa, Vega de Chapa.'],\n",
       "  'Tetela de Ocampo': ['Acatlán, Alvaresco, Atehuacpa, Atenti Oriente, Atenti Poniente (Atenti Arriba), Atequiza, Atzalan, Barranca Fría, Benito Juárez, Buena Vista, Buenavista, Buenavista Soledad, Cagcapola, Capuluaque, Carreragco, Cuapancingo, Cuautacomulco, Cuxateno, Cuacualachaco, Chalahuico, El Puerto, Eloxoxtla, Garciaxco, Guadalupe Buena Vista, Jalacingo, José María Morelos, La Cañada, La Lagunilla, La Soledad, Las Canoas, Las Chapas, Loma Bonita, Los Patios, Matixco, Mexcaltitán, Muyuapan, Nanahuacingo, Ometépetl, Puente Seco, Rancho Alegre, Rancho Viejo, Ronquiyogco, San José, San Martín (El Llano), San Nicolás (Cuarta Sección), San Nicolás (Tercera Sección), San Vicente, Talcozaman, Talicán, Tateno, Tatzalan, Taxcantla, Taxco, Tecuanta, Tecuicuilco, Tepetzala, Tepexacatl, Tepexitampa, Tetela de Ocampo, Tetelco, Tonalapa, Tototzinapan, Xalpuente, Xaltatempa de Lucas, Xilitetitla, Xiugquila, Xochititán, Xocoyolapan, Xonocuautla, Zacaloma, Zacatepec (Los Nogales), Zitlalcuautla, Zontecomapan, Zoyatitla, Zoyayo.'],\n",
       "  'Teziutlán': ['Ahuata, Aire Libre (La Mina), Amila, Atoluca, Coyopol, Cruz Blanca, Cuaxoxpan, Chicolate, Huehueymico, Ixtahuiata (La Legua), Ixticpan, Ixtlahuaca, La Garita, Lomas de Ayotzingo, Maxtaco, Mexcalcuautla, San Diego, San Juan Acateno, San Juan Tezongo, San Miguel Capulines, San Pedro Xoloco, San Sebastián, San Sebastián (Sección 3ra.), Sección 23, Tatahuicapa, Temecata, Tepetita Sección 2da., Teziutlán, Xoloateno.'],\n",
       "  'Tlatlauquitepec': ['Acamadota, Acocogta, Ahuatamimilol, Ajocotzingo, Almoloni, Atalpa, Atioyan, Buena Vista, Calatepec, Ciudad de Tlatlauquitepec, Coatectzin, Contra, Cougtajapan, Cozolexco, Cuacualaxtla, Cuautlamingo, Chicuaco, Chinampa, Eloxochitán, El Campanario, El Canal, El Carmen Ilita, El Duraznillo, El Mirador, El Pozo, Gómez Oriente, Gómez Poniente, Gómez Sur, Gómez Sur (Llano de Toluca), Huaxtla, Hueyacapan, Ilita, Ixmatlaco, Jalacinguito, Jiliapa, Jilotepec, La Cumbre San Isidro (San I. Chagchaltzin), La Palma (Máquinas), La Unión, Las Mesas, Loma de la Yerba, Macuilquila, Mazatepec, Mecayucan, Nectépetl (El Cerro), Ocota, Ocotlán, Oyameles, Pablogco, Pezmatlán, Plan de Guadalupe, Portezuelo, Primero de Septiembre, Quezapa, Salvadorco, San Agustín Chagchaltzin, Tamalazo, Tanhuixco del Carmen, Tatauzoquico, Tehuagco, Telpalcatipan, Tepantzol, Tepehican, Tepeteno de Iturbide, Tepetzintla, Teziutanapa, Tochimpa, Túnel Dos, Tzinacantepec, Tzincuilapan, Xacuinco, Xaltenango, Xalteta, Xomiaco, Xonocuautla, Yoloctzin, Zapotitán, Zocuila.'],\n",
       "  'Tuzamapan de Galeana': ['Camocotni, Catachoco, El Jayal, El Tuti, El Zorrillo, Huitziltepec, La Junta Poza Larga, La Rivera, Las Tuzas, Morelos, Reyes de Vallarta, Ricardo Flores Magón, Tetelilla de Islas, Tuzamapan de Galeana.'],\n",
       "  'Xiutetelco': ['Atecax, Chalma, El Milagro, La Palma, La Reforma, La Ventana, Las Chapas, Loma Bonita, Rancho Nuevo, San Andrés, San Antonio, San Francisco, San Isidro, San José, San Juan Xiutetelco, San Martín, San Salvador (Naranjillo), Santiago, Sección 2da. Xiutetelco, Tomaquilapa, Vista Hermosa, Xaltipan.'],\n",
       "  'Xochiapulco': ['Atzalán, Barrio Nuevo, Calzacateno, Cinco de Mayo, Cruztatzalan, Cuauhtecomaco, Cuautamanis, Cuauximaloyan, Ignacio Zaragoza, Ixehuaco, La Manzanilla, La Rosa de Castilla, Las Majadas, Primera Sección, San José, Segunda Sección, Tacuapan, Tahuixticpactampa (Tatampa), Tepoztán, Tequextecoyan, Xaltampa, Xochitonal, Yautetelco, Zapotán de Xahuanteno.'],\n",
       "  'Xochitlán de Vicente Suárez': ['Amatitán, Bonillagco, Chicuasencuautla, Huahuaxtla, Huapalegcán, Pahuata, Papalocogtitán, San Bernardo, San Francisco Ocotepec (Ocotepec de Cárdenas), Tacuitapan, Tecorralican, Totolcha, Tzontecomata (Cuaxuchpan), Xaltipac, Xicalxochico, Xochitlán de Romero Rubio (Tatempan), Xochitlán de Romero Rubio, Xocoyolapan (Santa Isabel), Zoatecpan.'],\n",
       "  'Yaonáhuac': ['Acocogta, Ahuata, Atemeya, Atotocoyan, Contzitzintán, El Crucero, Hueytepec, La Mohonera, Mazatonal, Ocotepec, Talcozaman, Tatempan, Teaco, Tepantiloyan, Teteltipan, Texuaco, Yaonáhuac.'],\n",
       "  'Zacapoaxtla': ['Ahuacatlán, Apulco, Atacpan, Calcahualco, Cohuatzalpan, Colos, Comaltepec, Cuacuilco, El Molino, El Progreso, Francisco I. Madero, Gonzalo Bautista, Héroes del Cinco de Mayo, Independencia (Xiuteno), Insurgentes, Ixtacapan, Jardín de los Volcanes, Jilotepec, La Cañada, La Ermita, La Libertad, Las Lomas, Los Cristales (Talicán), Los Manzanos, Mazapa, Moragco, Nexpanateno, Nexticapan, Ocotlán, San Carlos, San Francisco Zacapexpan, San José Buena Vista, San Juan Tahitic, San Rafael, Santa Cruz Xaltetela, Tatoxcac, Tatzecuala, Texocoyohuac, Xalacapan, Xalticpac, Xilita, Xochitepec, Yanhuicapan, Zacapoaxtla.'],\n",
       "  'Zautla': ['Acatzacata, Apantzingo, Atemoloni, Buena Vista, Contla, Cruz Blanca, Cuacal, Cuacuilcingo, Chilapa de Vicente Guerrero, Chinampa, El Mirador, El Puerto (Reforma), El Tepeyac, Emiliano Zapata, Emilio Carranza (Santa Cruz), Guadalupe Hidalgo, Huitzitzilapan, Ixtactenango, Jalcomulco, Juan Francisco Lucas, Loma Bonita, Micuahutla (La Cumbre), Ocopipila, Ocotzingo, Oxpantla, Pantijacán, Rosa de Castilla, San Andrés Yahuitlalpan, San Francisco del Progreso, San Isidro, San Miguel Tenextatiloyan Primera Sección, Santa Inés Morelos, Santiago Zautla, Tagcotepec, Tenampulco, Tiaco, Tihuapan, Tlamanca, Tlayecapan, Xiloxochititán, Xopanaco, Zautla, Zayolapan, Zotola.'],\n",
       "  'Zapotitlán de Méndez': ['Nanacatlán, Tuxtla, Zapotitlán de Méndez.'],\n",
       "  'Zaragoza': ['Acuaco, Las Trancas, Morelos, Porvenir, San José Buenavista, Santa Anita, Xalehuala, Zaragoza.'],\n",
       "  'Zoquiapan': ['Acateno, Amatlán, Ayotox, Cacaloteco, Calacuahutla, Corralteno, Coyoltitlán, Cuescomaco, El Arenal, Guayabal, Iztahuata, La Tranca, Ocotepec, San Antonio Buenavista, Tahican, Takexpan, Tecuapan, Tepehicán, Yoloxochico, Zacatilihuic, Zoquiapan.']}}"
      ]
     },
     "execution_count": 28,
     "metadata": {},
     "output_type": "execute_result"
    }
   ],
   "source": [
    "repr_geo"
   ]
  },
  {
   "cell_type": "markdown",
   "metadata": {},
   "source": [
    "### podemos representar los datos con un modelo de JSON:"
   ]
  },
  {
   "cell_type": "code",
   "execution_count": 29,
   "metadata": {},
   "outputs": [],
   "source": [
    "datos_de_un_variante = {\n",
    "    'agrupacion_linguïstica': '',\n",
    "    'familia_linguïstica': '',\n",
    "    'autodenominaciones': [],\n",
    "    'variante': '',\n",
    "    'representación_geográfica': {}\n",
    "}"
   ]
  },
  {
   "cell_type": "code",
   "execution_count": 30,
   "metadata": {},
   "outputs": [],
   "source": [
    "# usando nuestro ejemplo de nahuatl llegamos al siguiente\n",
    "datos_de_nahuatl_de_puebla = {\n",
    "    'agrupacion_linguïstica': agrup_ling,\n",
    "    'familia_linguïstica': familia_ling,\n",
    "    'autodenominaciones': autodes,\n",
    "    'variante': variante,\n",
    "    'representación_geográfica': repr_geo\n",
    "}"
   ]
  },
  {
   "cell_type": "code",
   "execution_count": 31,
   "metadata": {
    "scrolled": false
   },
   "outputs": [
    {
     "data": {
      "text/plain": [
       "{'agrupacion_linguïstica': 'náhuatl',\n",
       " 'familia_linguïstica': 'Yuto-nahua',\n",
       " 'autodenominaciones': ['mexicano tlajtol/n[mexikano λahtol]',\n",
       "  'nauta/n[nawta]'],\n",
       " 'variante': '<náhuatl de la Sierra, noreste de Puebla>',\n",
       " 'representación_geográfica': {'PUEBLA': {'Atempan': ['Apatauyan, Atempan, Atzalán, Cala Norte, Cala Sur, El Cuatro, Huexoteno, Las Canoas, Las Delicias, Meyuco, Potrero Nuevo, San Ambrosio, San Nicolás (Animazco), Tacopan, Tanhuixco, Tezhuatepec, Tezompan.'],\n",
       "   'Ayotoxco de Guerrero': ['Acaltzontán, Agua Bonita, Arenal, Ayotoxco de Guerrero, Buena Vista, Casa Quemada, Colozapan, Copales, Cuauhtémoc (Tlacuilolostoc), El Roble, Flores Villar, Gachupinate (Rancho Nuevo), La Lagunilla, La Manigua, La Quebradora, La Unión, Las Ceibas, Las Cibeles, Las Cruces, Los Aguacates, Los Mangos, Malintepec, Nanacatepec, Plan de la Palma, San Antonio Metzonapa, San Francisco Atecacalax, Santa Cecilia, Santa Elena, Trapiche Viejo, Uruapan, Vega Redonda, Xaltorre.'],\n",
       "   'Cuautempan': ['Ahuatlán, Cerro Verde (Ejecatepeco), Hueytentán, Ixtolco de Morelos, Papalotla, San Esteban Cuautempan, San José Río Bravo, Taltzontipan, Tecapagco, Tenepanigia (Santa Elena), Tepizila (Primera Sección), Texamanila, Texocotitán, Tlapacholoya, Totocuautla, Totomoxtla, Vista Hermosa.'],\n",
       "   'Cuetzalan del Progreso': ['Acaxiloco, Achiauta, Ahuatau, Ahuateno, Alahuacapan, Amateno, Amatitán, Apazapan, Atalpan, Atechayan, Atemolon, Atepatahua, Atepolihui (Ostocapal), Atmolon, Ayotzinapan, Cacatecuauta, Cahuayogco, Calatepec, Caxaltepec, Cedral Atalpan, Cerro de Nectepec, Ciudad de Cuetzalan, Coapan, Cohuateno, Cohuatichan, Cozamalomila, Cuahutamanca, Cuamono, Cuaololtitán, Cuatro Caminos, Cuauhtamazaco, Cuauhtapanaloyan, Cuetzaltepec, Cuichat, Chauta, Chichicazapan, Chicueyaco, El Aguacate, El Rosario, Equimita, Finca San José y San Ángel, Huaxtitán, Ixtahuata, Kapola, La Galera, La Gloria, La Piedad, La Providencia, La Tranca, Las Hamacas, Las Vigas, Limonco, Limontitán, Los Manantiales, Macuilacaco, Malacayotán, Monte Alto, Nahuiogpan, Naltzincuauhta, Nectepec, Octatitán, Octimaxal Norte, Octimaxal Sur, Olopioco, Pagmaco, Pahpatapan, Pepexta, Pesmapan, Pilinchaco, Pinahuista, Quezapa, Reyeshogpan de Hidalgo (El Mirador Reyeshogpan), San Fermín, San Manuel, San Miguel Tzinacapan, Santa Cruz Tatempa, Santa Eduviges, Santa Rosa, Santiago Yancuitlalpan, Santioapan, Sesectahuacal, Tachicteco, Tacuapan, Tagchinolapa, Tahuil, Tajkuilol, Talix, Taltzintán, Tatahuitaltipan, Taxipéhuatl, Tazalolpan, Teacal, Tecazo, Tecoltepec, Tecuahuta, Tenango, Tenango Zacatipan, Tenanikan, Tencuix, Tenextepec, Tenexteta, Tenkizapan, Tepango, Tepechtzingo, Tepetitán Reyeshogpan de Hidalgo, Tepetitán Zacatipan, Tepetzalan, Tepetzalan de Miguel Hidalgo, Tepetzintán, Teshuatita, Tetsijtsilin, Texixila, Texochico, Tixapanteno (Tixapan), Tonalix, Totocuahuta (Tamaya), Tuzamapan Xiloxochico, Tzanatco, Tzicuilán, Tzojiaco, Tzoncomala, Tzontejco, Vista Hermosa, Xala, Xalcuahuta, Xalostoc, Xalpanat, Xalpantzingo, Xalta, Xaltepec, Xalticpac, Xaltipan, Xaltzinta, Xilcuahuta, Xiliapan, Xiloxochico de Rafael Ávila Camacho, Xiloxúchitl, Xiutecuapan, Xochical, Xocota, Xocoyolo, Yohualichan, Zacatipan, Ziltepec, Zoquiapan, Zoquita Tepetzala, Zuapilaco.'],\n",
       "   'Chignautla': ['Analco, Ateta, Coahuixco, Coatzala, Crutzitzin, Chignautla, Encino Rico, Huapaltepec (Zacatamanix), La Aguardientera, Los Aserraderos, Los Humeros, Los Parajes (Zompanateno), San Isidro, San Mateo, Sección 3ra. de Chignautla, Sosa, Sotoltepec, Talzintán, Tecolotepec, Tenextepec, Tepepan, Tequimila, Tezohuatepec (Tezotepec), Yopi.'],\n",
       "   'Hueyapan': ['Ahuatepec, Atmoloni, Barrio Alto, Buenavista, Colostitán, Coyotepec, Cuatro Caminos, Cuexco, Dos Ríos, Gardenias, Hueyapan, La Aurora, La Pagoda, Maloapan, Nexpan, Paso Real, Talzintán, Tanamacoyan, Tepetitanapan, Tetelilla.'],\n",
       "   'Hueytamalco': ['Agua Zarca, Amatetel, Atehuetzin, Atepetaco, Ayahualo, Beranga, Coapal Grande, Colonia la Virgen, Colonia Morelos, Colonia del Valle, Corral Viejo, Cruz Verde, Cuautoxca, Chilornos, Dos Ríos Nuevo, Ejido Hueytamalco, El Anayal, El Arenal, El Calabozo, El Canelo, El Chapopote, El Edén, El Maltrato, El Mangal, El Mirador (Mirador Tenexapa), El Mohón, El Progreso, El Pueblillo, El Reparo, El Rincón Paxta, El Tigrero, El Tular, Hueytamalco, Hueytamalco (Papaloapan), Jabalinco, La Chaca, La Cruz, La Esmeralda, La Esperanza (Limonateno Chico), La Garita, La Gloria Escondida, La Llave, La Línea, La Morera, La Reforma, La Sultana, Las Ánimas, Las Margaritas, Las Palmas, Las Piedras (San Antonio las Piedras), Las Tumbas, Limonateno (Limonateno Grande), Limontitán Chico, Limontitán Grande, Llagostera, Loma Alta, Loma Bonita, Los Anayos, Manlio Fabio Altamirano, Mazolapa, Mecatépetl, Miquixco, Montecelli, Mozota, Mozota (Mozota de Buenavista), Palmagtitán, Paxta, Pezmaco, Pezmapa, Plan de Guinea, Plan de María, Poza Verde, Praves, Puente de Palo, Rancho Viejo, San Ángel, San Ángel Cuauxocota, San Antonio, San Camilo la Cañada, San Carlos, San Ignacio (San Ignacio del Progreso), San Isidro Buenavista, San Lucas, San Luis, San Martín, San Miguel, San Nicolás, Santa Cruz, Santa Martha, Solorzano, Tacotalpa, Tacuba, Tenexapa de Azueta, Tenexate (Ejido Tenexate), Tenexate (Finca Tenexate), Tepactipan, Teteyahualco, Tierra Colorada (Kilómetro 25), Tilapa, Tizizapa, Tlacuilolapa, Tonalmeyoco, Torrecillas (Colón), Vega Chica, Vega de Montecelli (El Aguilar), Villa del Río, Vista Hermosa, Xalteno, Xontla, Xoyoquila, Zanzontla, Zompanico.'],\n",
       "   'Huitzilán de Serdán': ['Acuitapilco, Cozoltepec, Cuarta Sección, Chagchaloyan de Isidro Burgos, Chagchaloyan de Zapata, Huitzilán, Pahuatitán, Paraíso, Pezmata (Papalocontitlán), Pilactitán, Primera Sección, Quinta Sección, San Antonio Taltzintán, San José Aocotzota, San Martín Cohuapan, San Miguel Acateno, San Miguel del Progreso, Segunda Sección, Tancalco, Tepetalzinta, Tepetzintla, Tercera Sección, Tlacaloco, Totutla, Xinachapan de Allende, Xoloango, Zoyotla.'],\n",
       "   'Ixtacamaxtitlán': ['Acoculco (Alcaparra), Analco (Chancuagco), Capolictic, Capuluapan de las Aguas, Cristalaco, Cruz de León, Cuahuigtic, Cuatexmola, Chaucingo Atezquilla, Chaucingo Tiloxtoc, Chipilo (Cuatexmola), El Cebollero, El Jardín Ocojala, El Mirador, El Sabinal (San Pedro), Escuinapa, Guadalupe, Huixcolotla, Iliyucan, Ixtacamaxtitlán, Jalacingo (Jalacingo Texas), La Unión Ejido Mexcaltepec, Lagunilla Pedernales, Las Barrancas, Las Huertillas, Mexcaltepec, Minatitlán, Minillas, Ocotla, Octapa, Oyametepec, Plan de Guadalupe, Plan de la Flor, Ranchitos, Rancho Viejo, Santa María Sotoltepec, Solinco, Tagcotepec, Tatempango, Tateno, Tatoxcac, Tecoltemic, Tenamigtic, Tenextepecuaco, Tentzoncuahuigtic, Tepecuahuixco (El Llanete), Tepexoxuca, Texocuictic, Texocuixpan, Tlacuela, Tlajomulco, Tlalmotolo, Tlanana (Atecoxco), Tlaxcalancingo, Tonalapa, Tuligtic (San Miguel), Vista Hermosa de Morelos, Xalcomulco, Xocoxiutla, Xonacatla, Xopanac, Zaragoza.'],\n",
       "   'Jonotla': ['Buena Vista, Colonia Tiburcio Juárez, Ecatlán (Santiago Ecatlán), Ejido Rayón, El Arenal, El Cedro, El Muro, El Tozan, Jonotla, Molinagco, Paso del Jardín, Plan de Guadalupe (Barrio del Peñon), Poxcoyo, San Antonio Rayón, Tecpantzingo, Tepetitlán, Tepetzinat, Xiloxochit.'],\n",
       "   'Nauzontla': ['Cuahutapehual de Benito Juárez, Guayabal Nauzontla Primera Sección, La Unión, Nauzontla, San Rafael Axolota, Santa Lucía Atioyan, Talchichil, Tepanyehual, Xalaco.'],\n",
       "   'Tenampulco': ['Arroyo Blanco, Arroyo Zarco, Buenos Aires, Caracoles, Cerro de la Campana, Colonia Morelos, Cruz Verde, Cuatro Caminos, El Chacal, El Jicarillo, El Palenque, El Zapotal, El Zapote, La Burra, La Esperanza, La Florida, La Junta Arroyo Zarco, La Lima, La Nueva Junta Arroyo Zarco, La Pila, Lázaro Cárdenas (San Diego), Ojo de Agua, Paso del Palmar, Poza Verde, Salsipuedes, Salsipuedes (Cerro de la Campana), Saltillo, Santa Cruz Buena Vista, Santa Lucía, Tenampulco, Tenampulco Viejo, Tenexapa de Allende, Tlacotalpa, Vega de Chapa.'],\n",
       "   'Tetela de Ocampo': ['Acatlán, Alvaresco, Atehuacpa, Atenti Oriente, Atenti Poniente (Atenti Arriba), Atequiza, Atzalan, Barranca Fría, Benito Juárez, Buena Vista, Buenavista, Buenavista Soledad, Cagcapola, Capuluaque, Carreragco, Cuapancingo, Cuautacomulco, Cuxateno, Cuacualachaco, Chalahuico, El Puerto, Eloxoxtla, Garciaxco, Guadalupe Buena Vista, Jalacingo, José María Morelos, La Cañada, La Lagunilla, La Soledad, Las Canoas, Las Chapas, Loma Bonita, Los Patios, Matixco, Mexcaltitán, Muyuapan, Nanahuacingo, Ometépetl, Puente Seco, Rancho Alegre, Rancho Viejo, Ronquiyogco, San José, San Martín (El Llano), San Nicolás (Cuarta Sección), San Nicolás (Tercera Sección), San Vicente, Talcozaman, Talicán, Tateno, Tatzalan, Taxcantla, Taxco, Tecuanta, Tecuicuilco, Tepetzala, Tepexacatl, Tepexitampa, Tetela de Ocampo, Tetelco, Tonalapa, Tototzinapan, Xalpuente, Xaltatempa de Lucas, Xilitetitla, Xiugquila, Xochititán, Xocoyolapan, Xonocuautla, Zacaloma, Zacatepec (Los Nogales), Zitlalcuautla, Zontecomapan, Zoyatitla, Zoyayo.'],\n",
       "   'Teziutlán': ['Ahuata, Aire Libre (La Mina), Amila, Atoluca, Coyopol, Cruz Blanca, Cuaxoxpan, Chicolate, Huehueymico, Ixtahuiata (La Legua), Ixticpan, Ixtlahuaca, La Garita, Lomas de Ayotzingo, Maxtaco, Mexcalcuautla, San Diego, San Juan Acateno, San Juan Tezongo, San Miguel Capulines, San Pedro Xoloco, San Sebastián, San Sebastián (Sección 3ra.), Sección 23, Tatahuicapa, Temecata, Tepetita Sección 2da., Teziutlán, Xoloateno.'],\n",
       "   'Tlatlauquitepec': ['Acamadota, Acocogta, Ahuatamimilol, Ajocotzingo, Almoloni, Atalpa, Atioyan, Buena Vista, Calatepec, Ciudad de Tlatlauquitepec, Coatectzin, Contra, Cougtajapan, Cozolexco, Cuacualaxtla, Cuautlamingo, Chicuaco, Chinampa, Eloxochitán, El Campanario, El Canal, El Carmen Ilita, El Duraznillo, El Mirador, El Pozo, Gómez Oriente, Gómez Poniente, Gómez Sur, Gómez Sur (Llano de Toluca), Huaxtla, Hueyacapan, Ilita, Ixmatlaco, Jalacinguito, Jiliapa, Jilotepec, La Cumbre San Isidro (San I. Chagchaltzin), La Palma (Máquinas), La Unión, Las Mesas, Loma de la Yerba, Macuilquila, Mazatepec, Mecayucan, Nectépetl (El Cerro), Ocota, Ocotlán, Oyameles, Pablogco, Pezmatlán, Plan de Guadalupe, Portezuelo, Primero de Septiembre, Quezapa, Salvadorco, San Agustín Chagchaltzin, Tamalazo, Tanhuixco del Carmen, Tatauzoquico, Tehuagco, Telpalcatipan, Tepantzol, Tepehican, Tepeteno de Iturbide, Tepetzintla, Teziutanapa, Tochimpa, Túnel Dos, Tzinacantepec, Tzincuilapan, Xacuinco, Xaltenango, Xalteta, Xomiaco, Xonocuautla, Yoloctzin, Zapotitán, Zocuila.'],\n",
       "   'Tuzamapan de Galeana': ['Camocotni, Catachoco, El Jayal, El Tuti, El Zorrillo, Huitziltepec, La Junta Poza Larga, La Rivera, Las Tuzas, Morelos, Reyes de Vallarta, Ricardo Flores Magón, Tetelilla de Islas, Tuzamapan de Galeana.'],\n",
       "   'Xiutetelco': ['Atecax, Chalma, El Milagro, La Palma, La Reforma, La Ventana, Las Chapas, Loma Bonita, Rancho Nuevo, San Andrés, San Antonio, San Francisco, San Isidro, San José, San Juan Xiutetelco, San Martín, San Salvador (Naranjillo), Santiago, Sección 2da. Xiutetelco, Tomaquilapa, Vista Hermosa, Xaltipan.'],\n",
       "   'Xochiapulco': ['Atzalán, Barrio Nuevo, Calzacateno, Cinco de Mayo, Cruztatzalan, Cuauhtecomaco, Cuautamanis, Cuauximaloyan, Ignacio Zaragoza, Ixehuaco, La Manzanilla, La Rosa de Castilla, Las Majadas, Primera Sección, San José, Segunda Sección, Tacuapan, Tahuixticpactampa (Tatampa), Tepoztán, Tequextecoyan, Xaltampa, Xochitonal, Yautetelco, Zapotán de Xahuanteno.'],\n",
       "   'Xochitlán de Vicente Suárez': ['Amatitán, Bonillagco, Chicuasencuautla, Huahuaxtla, Huapalegcán, Pahuata, Papalocogtitán, San Bernardo, San Francisco Ocotepec (Ocotepec de Cárdenas), Tacuitapan, Tecorralican, Totolcha, Tzontecomata (Cuaxuchpan), Xaltipac, Xicalxochico, Xochitlán de Romero Rubio (Tatempan), Xochitlán de Romero Rubio, Xocoyolapan (Santa Isabel), Zoatecpan.'],\n",
       "   'Yaonáhuac': ['Acocogta, Ahuata, Atemeya, Atotocoyan, Contzitzintán, El Crucero, Hueytepec, La Mohonera, Mazatonal, Ocotepec, Talcozaman, Tatempan, Teaco, Tepantiloyan, Teteltipan, Texuaco, Yaonáhuac.'],\n",
       "   'Zacapoaxtla': ['Ahuacatlán, Apulco, Atacpan, Calcahualco, Cohuatzalpan, Colos, Comaltepec, Cuacuilco, El Molino, El Progreso, Francisco I. Madero, Gonzalo Bautista, Héroes del Cinco de Mayo, Independencia (Xiuteno), Insurgentes, Ixtacapan, Jardín de los Volcanes, Jilotepec, La Cañada, La Ermita, La Libertad, Las Lomas, Los Cristales (Talicán), Los Manzanos, Mazapa, Moragco, Nexpanateno, Nexticapan, Ocotlán, San Carlos, San Francisco Zacapexpan, San José Buena Vista, San Juan Tahitic, San Rafael, Santa Cruz Xaltetela, Tatoxcac, Tatzecuala, Texocoyohuac, Xalacapan, Xalticpac, Xilita, Xochitepec, Yanhuicapan, Zacapoaxtla.'],\n",
       "   'Zautla': ['Acatzacata, Apantzingo, Atemoloni, Buena Vista, Contla, Cruz Blanca, Cuacal, Cuacuilcingo, Chilapa de Vicente Guerrero, Chinampa, El Mirador, El Puerto (Reforma), El Tepeyac, Emiliano Zapata, Emilio Carranza (Santa Cruz), Guadalupe Hidalgo, Huitzitzilapan, Ixtactenango, Jalcomulco, Juan Francisco Lucas, Loma Bonita, Micuahutla (La Cumbre), Ocopipila, Ocotzingo, Oxpantla, Pantijacán, Rosa de Castilla, San Andrés Yahuitlalpan, San Francisco del Progreso, San Isidro, San Miguel Tenextatiloyan Primera Sección, Santa Inés Morelos, Santiago Zautla, Tagcotepec, Tenampulco, Tiaco, Tihuapan, Tlamanca, Tlayecapan, Xiloxochititán, Xopanaco, Zautla, Zayolapan, Zotola.'],\n",
       "   'Zapotitlán de Méndez': ['Nanacatlán, Tuxtla, Zapotitlán de Méndez.'],\n",
       "   'Zaragoza': ['Acuaco, Las Trancas, Morelos, Porvenir, San José Buenavista, Santa Anita, Xalehuala, Zaragoza.'],\n",
       "   'Zoquiapan': ['Acateno, Amatlán, Ayotox, Cacaloteco, Calacuahutla, Corralteno, Coyoltitlán, Cuescomaco, El Arenal, Guayabal, Iztahuata, La Tranca, Ocotepec, San Antonio Buenavista, Tahican, Takexpan, Tecuapan, Tepehicán, Yoloxochico, Zacatilihuic, Zoquiapan.']}}}"
      ]
     },
     "execution_count": 31,
     "metadata": {},
     "output_type": "execute_result"
    }
   ],
   "source": [
    "datos_de_nahuatl_de_puebla"
   ]
  },
  {
   "cell_type": "code",
   "execution_count": 32,
   "metadata": {},
   "outputs": [],
   "source": [
    "# output nuestro trabajo para compartir\n",
    "def output_variante_json(datos):\n",
    "    '''construir un filename del nombre de variante y escribir los datos a un archivo de JSON'''\n",
    "    variante_split = datos['variante'].strip('<>').split(' ')\n",
    "    datos_file_ending = ('_').join([vsplit.strip(',') for vsplit in variante_split])\n",
    "    outfile = os.path.join('output', 'datos_de_{}.json'.format(datos_file_ending))\n",
    "    with open(outfile, 'w') as outf:\n",
    "        outf.write(json.dumps(datos))\n",
    "        \n",
    "output_variante_json(datos_de_nahuatl_de_puebla)"
   ]
  },
  {
   "cell_type": "code",
   "execution_count": null,
   "metadata": {},
   "outputs": [],
   "source": []
  }
 ],
 "metadata": {
  "kernelspec": {
   "display_name": "Python 3",
   "language": "python",
   "name": "python3"
  },
  "language_info": {
   "codemirror_mode": {
    "name": "ipython",
    "version": 3
   },
   "file_extension": ".py",
   "mimetype": "text/x-python",
   "name": "python",
   "nbconvert_exporter": "python",
   "pygments_lexer": "ipython3",
   "version": "3.7.5"
  }
 },
 "nbformat": 4,
 "nbformat_minor": 2
}
