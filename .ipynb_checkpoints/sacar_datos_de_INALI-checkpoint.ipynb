{
 "cells": [
  {
   "cell_type": "raw",
   "metadata": {},
   "source": [
    "extraer datos de páginas de INALI sobre clasificación geográfica de lenguas indígenas\n",
    "base URL: https://www.inali.gob.mx/clin-inali/\n",
    "creado por Brandon Aleson 4/22/20\n",
    "versión actualizado 5/30/20"
   ]
  },
  {
   "cell_type": "code",
   "execution_count": 1,
   "metadata": {},
   "outputs": [],
   "source": [
    "import os\n",
    "import bs4\n",
    "import json\n",
    "import requests"
   ]
  },
  {
   "cell_type": "code",
   "execution_count": 2,
   "metadata": {},
   "outputs": [],
   "source": [
    "# cada vez que hacemos una toca al inali.cob.mx, recibimos una alarma así:\n",
    "# InsecureRequestWarning: Unverified HTTPS request is being made. Adding certificate verification is strongly advised.\n",
    "# creo q los certificados de INALI se han caducado\n",
    "# por no ver la alarma cada vez que agarramos un vínculo de INALI, la deshabilitamos aquí\n",
    "\n",
    "import urllib3\n",
    "urllib3.disable_warnings(urllib3.exceptions.InsecureRequestWarning)"
   ]
  },
  {
   "cell_type": "code",
   "execution_count": 3,
   "metadata": {},
   "outputs": [],
   "source": [
    "# esto es el URL donde se encuentra todos los vínculos de las agrupaciones lingüísticas\n",
    "# ver aquí más detalle sobre \"verify\" y certificates:\n",
    "# https://stackoverflow.com/questions/28667684/python-requests-getting-sslerror\n",
    "base_url = 'https://www.inali.gob.mx/clin-inali/'\n",
    "# r = requests.get(base_url, verify=False)"
   ]
  },
  {
   "cell_type": "code",
   "execution_count": 4,
   "metadata": {},
   "outputs": [],
   "source": [
    "# primero trabajamos en un ejemplo específico; luego lo generalizamos\n",
    "# empezamos en esta página (l_nahuatl.html) para grabar la información de Familia Lingüística\n",
    "nahuarl = 'https://www.inali.gob.mx/clin-inali/html/l_nahuatl.html'\n",
    "r = requests.get(nahuarl, verify=False)\n",
    "soup = bs4.BeautifulSoup(r.text, 'html.parser')"
   ]
  },
  {
   "cell_type": "code",
   "execution_count": 5,
   "metadata": {},
   "outputs": [
    {
     "name": "stdout",
     "output_type": "stream",
     "text": [
      "ha sacado el dato tipo agrupación de la sopa HTML: náhuatl\n",
      "ha sacado el dato tipo familia de la sopa HTML: Yuto-nahua\n"
     ]
    }
   ],
   "source": [
    "def sacar_agrup_y_familia(sopa):\n",
    "    '''\n",
    "    @sopa: debe ser la página de un nivel más alto que la que\n",
    "           tiene todos los datos específicos del variantes.\n",
    "           por ejemplo: https://www.inali.gob.mx/clin-inali/html/l_nahuatl.html\n",
    "    'agrup' significa la Agrupación lingüística\n",
    "    'familia' significa la Familia lingüística\n",
    "    '''\n",
    "    ling_queridos = []\n",
    "    ling_indexes = {\n",
    "        'agrupación': 0,\n",
    "        'familia': -1\n",
    "    }\n",
    "\n",
    "    for key, value in ling_indexes.items():\n",
    "        ling_querido = sopa.body.h4.contents[value].split(':')[-1].strip()\n",
    "        print('ha sacado el dato tipo {} de la sopa HTML: {}'.format(key, ling_querido))\n",
    "        ling_queridos.append(ling_querido)\n",
    "    return ling_queridos\n",
    "    \n",
    "agrup_ling, familia_ling = sacar_agrup_y_familia(soup)"
   ]
  },
  {
   "cell_type": "code",
   "execution_count": 6,
   "metadata": {
    "scrolled": true
   },
   "outputs": [],
   "source": [
    "# ya tenemos los datos que necesitamos de esta página,\n",
    "# seguimos a un nivel más bajo, las agrupaciónes lingüísticas\n",
    "# sabemos que todos los vínculos de una página Agrupación/Familia Lingüística\n",
    "# nos llevamos a la misma página que tiene todos los variantes de ese grupo\n",
    "# construimos el URL de una agrupación lingüística entera y sacamos el contenido\n",
    "agrup_url = ''.join([base_url, 'html/', soup.body.a.attrs['href']])\n",
    "r = requests.get(agrup_url, verify=False)\n",
    "sopa = bs4.BeautifulSoup(r.text, 'html.parser')"
   ]
  },
  {
   "cell_type": "code",
   "execution_count": 7,
   "metadata": {},
   "outputs": [
    {
     "name": "stdout",
     "output_type": "stream",
     "text": [
      "hay 30 variantes en esta agrupación lingüística\n"
     ]
    }
   ],
   "source": [
    "# los datos éspecificos que buscamos aparacen \n",
    "# entre los \"rows\" <tr></tr> tags que hay en una página\n",
    "# por ejemplo la página de nahuatl tiene 31 rows\n",
    "all_trs = sopa.find_all('tr')\n",
    "all_trs.pop(0)  # (la primera row (representado por all_trs[0]) no nos importa porque no tiene un table)\n",
    "print('hay {} variantes en esta agrupación lingüística'.format((len(all_trs))))"
   ]
  },
  {
   "cell_type": "code",
   "execution_count": 8,
   "metadata": {},
   "outputs": [
    {
     "data": {
      "text/plain": [
       "<tr>\n",
       "<td><a name=\"2\"></a>\n",
       "<p>mexi’catl\n",
       "\t\t<br/><span>[meʃiʔkaλ]</span></p>\n",
       "<p>mexicano (del noroeste central)\n",
       "\t\t<br/><span>[mexikano]</span></p>\n",
       "<p>maseual tla’tol\n",
       "\t\t<br/><span>[masewal λaʔtol]</span></p>\n",
       "\t\t&lt;náhuatl del noroeste central&gt;\n",
       "                </td>\n",
       "<td>\n",
       "                    HIDALGO: <b>Acaxochitlán</b>: Acaxochitlán, Alpinagua, Apapaxtla (Altamira), Apopoalco, Atezcapa, Barrio Cuautenco, Barrio el Puente, Barrio Tlatempa, Barrio Tlatzintla, Barrio Verde, Buenavista (Necaxanco), Coyametepec, Cuaunepantla, Chimalapa, Ejido Techachalco, Ejido de Tepepa (Barrio Santa Félix), Ejido de Tlatzintla, El Bado, El Crucero, El Tejocotal, El Valle, La Boveda, La Mesa, Los Reyes, Montemar, Necaxanco, Nuevo San Juan, Ocotengo, Ojo de Agua las Palomas, Parada 170, Paredones, San Fernando, San Francisco Atotonilco, San Juan, San Mateo, San Miguel del Resgate, San Pedro Tlachichilco, Santa Ana Tzacuala, Santa Catarina, Techachalco, Tepepa (Santiago Tepepa), Tlacpac, Tlamimilolpa, Toxtla, Venta Quemada, Yemila, Zacacuautla, Zotictla.\n",
       "\n",
       "<br/><br/>\n",
       "PUEBLA: <b>Chiconcuautla</b>: Acalama, Amola, Axocopactla, Azacatla, Benito Juárez, Cosamaloapan, Cuetzalingo, Chiconcuautla, Huautla, Huixtlacuatla, Itlantixcali, Ixtaczoquitla, Macuilacatla, Mimitla, Ojo de Agua, Palzoquitla, San Lorenzo Tlaxipehuala, Tlalhuapan, Tlaltenango, Tlaxco (Santiago Tlaxco), Toxtla, Zacatepec, Zempoala. <b>Honey</b>: Amapoloa, Chila de Juárez, El Manzano, Honey, Huehuetlilla, La Magdalena, Rincón de Chila. <b>Huauchinango</b>: Acatlán, Agua Blanca, Ahuacatlán, Ahuatepec, Álvaro Obregón, Alseseca, Ayohuixcuautla, Benito Juárez, Cobrería, Colonia Pemex (Hueyatlagco), Cuacuila, Cuahueyatla, Cuautlita, Cuauxinca, Cuaxicala, Chahuac, Chicuase, El Mirador, El Paraíso, Gustavo Díaz Ordaz (La Cuenca), Huauchinango, Huejotzingo, Huilacapixtla, Independencia, Ixhuacatla, José López Portillo, Las Colonias de Hidalgo, Llano de Huejotzingo, Los Capulines, Los Girasoles, Matlaluca, Mesa de Capulines, Michiuca, Nopala, Ocpaco, Ozomatlán, Papatlatla, Papatlazolco, Patoltecoya, Piedras Pintadas, Popocatépetl (Juan Hernández), Puga, San Diego Buenavista, San José, San José Munive, San José Tlautla, San Juan Pancoac, San Luis Coyotzingo, San Mateo Capultitlán, San Miguel Acuautla, San Miguel Tianguizolco, Santa Ana Xalmimilulco, Santa Catalina, Santa Elena, Santa Elena de la Cruz (Los Oroza), Santa María Atexcac, Santa María Nepopualco, Santa María Tianguistenco, Santiago, Santiago (Buena Vista), Tenango de las Flores, Tenohuatlán, Teopancingo, Tepehuaquila, Tepetzintla de Galeana, Texcapa, Tlachichila (Tecoxtenco), Tlacomulco, Tlalcoyunga, Tlalmaya, Tonatzin, Totolapa (El Sifón), Tzahuinco, Venta Grande, Xaltepec, Xilocuautla, Xolango, Xopanapa. <b>Jopala</b>: Arroyo Hondo, Buenos Aires, Cuamaxalco, Chicontla, El Encinal, Finca Pilar I, Finca Pilar II, Jopala, La Concha, Oro Verde (Monte de Chila), Patla, Rancho Nuevo, San Martín, San Pedro Tlaolantongo, Tecuantla (Los Reyes). <b>Juan Galindo</b>: Colonia Azteca, Cuautlita (El Gamito), Dos Caminos, El Salto, Necaxaltépetl, Nezoaya, Nuevo Necaxa, Tecacalango (La Pahua). <b>Naupan</b>: Achiautla (Xiagtla), Alambique, Copila, Cozolapa, Cuahuihuitzotitla, Cueyatla, Chachahuantla, Humiltemec, Iczotitla, Metztla Abajo, Metztla Arriba, Naupan, Tenextitla, Teopanzolco, Tlaxpanaloya. <b>Pahuatlán</b>: Acahuales (El Aguacate), Acalapa, Ahila, Ahuacatitla, Almoloya, Atla, Atlantongo, Cuauneutla de la Paz, Chipotla, El Arenal, La Loma, Los Ángeles, Mamiquetla, Montellano, Paciotla, Pahuatlán de Valle, San Pablito, Tlalcruz de Libres, Xochimilco, Xolotla, Zacapehuaya, Zoyatla de Guerrero. <b>Tlaola</b>: Amacugtla, Amanalco, Atenco, Atequexquitla, Atitlalaya, Ayahualco, Capultitla, Caxapotla, Cocolixtla, Cocolongo, Coligque, Coxolitla, Cuamila, Cutzontipa, Chicahuaxtla, Huixtla, La Gallera, La Herradura, Nexapa Ahila, Nixcugtla, Nuevo Hidalgo, Plan de Cuamila, Salazar Herrera, San Isidro Acatlán, San José, Temascalapa, Tlacocugtla, Tlaltepango, Tlantentiloya, Tlaola, Tlapehuala, Tlapitzalapa, Tlaticoxca, Tlatlapanala, Tlatzohuiloya, Tzitzicazapa, Xaltepuxtla, Xochinanacatlán, Yetla. <b>Tlapacoya</b>: Ahuacatlaya, Barrio los Vázquez, Benito Juárez (Xicalango), Colonia las Palmas, Cuatepalcatla, La Cruz, La Cumbre, La Gruta, Rancho de Tepetzingo, San Andrés Buenavista, San Antonio Tlilapa, San Miguel Tlilapa, Santa Catarina Coatepec, Santo Domingo Ayotlicha, Tlamaya Chico, Tlamaya Grande. <b>Xicotepec</b>: Ahuaxintitla, Arroyo Seco, Atequexquitla, Cerro de los Limones, Cerro del Tepeyac, Cilima (La Bomba), Chicopanal, Dos Caminos, Duraznotla, Ejido de Nactanca [Ejido Nactanca], Ejido de Rancho Nuevo (El Ojite), El Cajón, El Infierno (Valle Verde), El Jonote, El Mirador, El Porvenir Ejido, El Refugio (Los Tamarindos), El Sauce Chico, El Tepetate, Finca Puebla (Casa Blanca), Gilberto Camacho, Ixtepec, Jalapilla, La Cascada (Las Chacas), La Chivería, La Garcita, La Herradura, La Magdalena, La Muralla, La Palma, Las Águilas, Las Cañadas, Las Pilas, Lomas Verdes, Los Arroyos, Los Limones, Los Naranjos, Los Piñales (Agua Dulce), Mecatlán de las Flores, Monte Grande de Zaragoza, Morelos, Nactanca Chica (La Colonia), Nactanca Grande, Ojo de Agua (Primera Sección), Pensamiento Mexicano, Quinta Lilia, Rancho Nuevo, San Agustín (Atlihuacán), San Antonio, San Antonio Ocopetlatlán, San Isidro, San Lorenzo, San Luis, San Pedro Itztla, Santa Cruz Chica, Santa Cruz Grande, Santa Luz Buenavista, Santa Rita, Santa Rosa, Tepapatlaxco [Tepepatlaxco], Tierra Negra, Tlapehuala, Tlaxcalantongo, Tlaxpanala (Las Trancas), Tranca de Fierro, Tulancinguillo, Unidad Deportiva (Ocotzotal), Villa de las Flores, Villa Ávila Camacho (La Ceiba), Xicotepec de Juárez. <b>Zihuateutla</b>: Arroyo Mano, Azcatlán, Cacahuatlán, Carmen (Finca el Matadero), Cerro Azul, Cerro Verde, Cuatechalotla, Cuaunepixca (La Cumbre), Ejido Tenanguito, El Rosario (Anayal), El Cerro, El Plantel, El Remolino, Ernesto Hernández (Tlacoyuco), Finca Cre-Leg, Finca Cuaunepixca, Finca el Limonar, Finca el Progreso Chico, Finca el Rosario, Finca el Viejote, Finca Grano de Oro, Finca la Providencia, Finca la Puebla, Finca la Selva, Finca la Trinidad, Finca las Chachitas, Finca las Margaritas, Finca los Tulipanes, Finca Susy, La Cañada, La Chiquita, La Floresta, La Florida, La Herradura, La Laguna, La Libertad, La Mesa del Crucero (La Mesita), La Planada, La Tranca de Fierro, La Unión, La Virgen, Lagunillas, Loma Bonita, Los Pinos, Mazacoatlán, Nanacatepec, Noche Buena, Ocomantla, Ojo de Agua, Planta de Patla, Rancho las Filipinas, San Andrés, San José, San Nicolás, Santo Tomás, Tecpatlán, Telolotla, Tenanguito, Zihuateutla.\n",
       "                </td>\n",
       "</tr>"
      ]
     },
     "execution_count": 8,
     "metadata": {},
     "output_type": "execute_result"
    }
   ],
   "source": [
    "# para ver un ejemplo con estados múltiples\n",
    "all_trs[1]"
   ]
  },
  {
   "cell_type": "code",
   "execution_count": 9,
   "metadata": {},
   "outputs": [
    {
     "data": {
      "text/plain": [
       "[<td><a name=\"2\"></a>\n",
       " <p>mexi’catl\n",
       " \t\t<br/><span>[meʃiʔkaλ]</span></p>\n",
       " <p>mexicano (del noroeste central)\n",
       " \t\t<br/><span>[mexikano]</span></p>\n",
       " <p>maseual tla’tol\n",
       " \t\t<br/><span>[masewal λaʔtol]</span></p>\n",
       " \t\t&lt;náhuatl del noroeste central&gt;\n",
       "                 </td>, <td>\n",
       "                     HIDALGO: <b>Acaxochitlán</b>: Acaxochitlán, Alpinagua, Apapaxtla (Altamira), Apopoalco, Atezcapa, Barrio Cuautenco, Barrio el Puente, Barrio Tlatempa, Barrio Tlatzintla, Barrio Verde, Buenavista (Necaxanco), Coyametepec, Cuaunepantla, Chimalapa, Ejido Techachalco, Ejido de Tepepa (Barrio Santa Félix), Ejido de Tlatzintla, El Bado, El Crucero, El Tejocotal, El Valle, La Boveda, La Mesa, Los Reyes, Montemar, Necaxanco, Nuevo San Juan, Ocotengo, Ojo de Agua las Palomas, Parada 170, Paredones, San Fernando, San Francisco Atotonilco, San Juan, San Mateo, San Miguel del Resgate, San Pedro Tlachichilco, Santa Ana Tzacuala, Santa Catarina, Techachalco, Tepepa (Santiago Tepepa), Tlacpac, Tlamimilolpa, Toxtla, Venta Quemada, Yemila, Zacacuautla, Zotictla.\n",
       " \n",
       " <br/><br/>\n",
       " PUEBLA: <b>Chiconcuautla</b>: Acalama, Amola, Axocopactla, Azacatla, Benito Juárez, Cosamaloapan, Cuetzalingo, Chiconcuautla, Huautla, Huixtlacuatla, Itlantixcali, Ixtaczoquitla, Macuilacatla, Mimitla, Ojo de Agua, Palzoquitla, San Lorenzo Tlaxipehuala, Tlalhuapan, Tlaltenango, Tlaxco (Santiago Tlaxco), Toxtla, Zacatepec, Zempoala. <b>Honey</b>: Amapoloa, Chila de Juárez, El Manzano, Honey, Huehuetlilla, La Magdalena, Rincón de Chila. <b>Huauchinango</b>: Acatlán, Agua Blanca, Ahuacatlán, Ahuatepec, Álvaro Obregón, Alseseca, Ayohuixcuautla, Benito Juárez, Cobrería, Colonia Pemex (Hueyatlagco), Cuacuila, Cuahueyatla, Cuautlita, Cuauxinca, Cuaxicala, Chahuac, Chicuase, El Mirador, El Paraíso, Gustavo Díaz Ordaz (La Cuenca), Huauchinango, Huejotzingo, Huilacapixtla, Independencia, Ixhuacatla, José López Portillo, Las Colonias de Hidalgo, Llano de Huejotzingo, Los Capulines, Los Girasoles, Matlaluca, Mesa de Capulines, Michiuca, Nopala, Ocpaco, Ozomatlán, Papatlatla, Papatlazolco, Patoltecoya, Piedras Pintadas, Popocatépetl (Juan Hernández), Puga, San Diego Buenavista, San José, San José Munive, San José Tlautla, San Juan Pancoac, San Luis Coyotzingo, San Mateo Capultitlán, San Miguel Acuautla, San Miguel Tianguizolco, Santa Ana Xalmimilulco, Santa Catalina, Santa Elena, Santa Elena de la Cruz (Los Oroza), Santa María Atexcac, Santa María Nepopualco, Santa María Tianguistenco, Santiago, Santiago (Buena Vista), Tenango de las Flores, Tenohuatlán, Teopancingo, Tepehuaquila, Tepetzintla de Galeana, Texcapa, Tlachichila (Tecoxtenco), Tlacomulco, Tlalcoyunga, Tlalmaya, Tonatzin, Totolapa (El Sifón), Tzahuinco, Venta Grande, Xaltepec, Xilocuautla, Xolango, Xopanapa. <b>Jopala</b>: Arroyo Hondo, Buenos Aires, Cuamaxalco, Chicontla, El Encinal, Finca Pilar I, Finca Pilar II, Jopala, La Concha, Oro Verde (Monte de Chila), Patla, Rancho Nuevo, San Martín, San Pedro Tlaolantongo, Tecuantla (Los Reyes). <b>Juan Galindo</b>: Colonia Azteca, Cuautlita (El Gamito), Dos Caminos, El Salto, Necaxaltépetl, Nezoaya, Nuevo Necaxa, Tecacalango (La Pahua). <b>Naupan</b>: Achiautla (Xiagtla), Alambique, Copila, Cozolapa, Cuahuihuitzotitla, Cueyatla, Chachahuantla, Humiltemec, Iczotitla, Metztla Abajo, Metztla Arriba, Naupan, Tenextitla, Teopanzolco, Tlaxpanaloya. <b>Pahuatlán</b>: Acahuales (El Aguacate), Acalapa, Ahila, Ahuacatitla, Almoloya, Atla, Atlantongo, Cuauneutla de la Paz, Chipotla, El Arenal, La Loma, Los Ángeles, Mamiquetla, Montellano, Paciotla, Pahuatlán de Valle, San Pablito, Tlalcruz de Libres, Xochimilco, Xolotla, Zacapehuaya, Zoyatla de Guerrero. <b>Tlaola</b>: Amacugtla, Amanalco, Atenco, Atequexquitla, Atitlalaya, Ayahualco, Capultitla, Caxapotla, Cocolixtla, Cocolongo, Coligque, Coxolitla, Cuamila, Cutzontipa, Chicahuaxtla, Huixtla, La Gallera, La Herradura, Nexapa Ahila, Nixcugtla, Nuevo Hidalgo, Plan de Cuamila, Salazar Herrera, San Isidro Acatlán, San José, Temascalapa, Tlacocugtla, Tlaltepango, Tlantentiloya, Tlaola, Tlapehuala, Tlapitzalapa, Tlaticoxca, Tlatlapanala, Tlatzohuiloya, Tzitzicazapa, Xaltepuxtla, Xochinanacatlán, Yetla. <b>Tlapacoya</b>: Ahuacatlaya, Barrio los Vázquez, Benito Juárez (Xicalango), Colonia las Palmas, Cuatepalcatla, La Cruz, La Cumbre, La Gruta, Rancho de Tepetzingo, San Andrés Buenavista, San Antonio Tlilapa, San Miguel Tlilapa, Santa Catarina Coatepec, Santo Domingo Ayotlicha, Tlamaya Chico, Tlamaya Grande. <b>Xicotepec</b>: Ahuaxintitla, Arroyo Seco, Atequexquitla, Cerro de los Limones, Cerro del Tepeyac, Cilima (La Bomba), Chicopanal, Dos Caminos, Duraznotla, Ejido de Nactanca [Ejido Nactanca], Ejido de Rancho Nuevo (El Ojite), El Cajón, El Infierno (Valle Verde), El Jonote, El Mirador, El Porvenir Ejido, El Refugio (Los Tamarindos), El Sauce Chico, El Tepetate, Finca Puebla (Casa Blanca), Gilberto Camacho, Ixtepec, Jalapilla, La Cascada (Las Chacas), La Chivería, La Garcita, La Herradura, La Magdalena, La Muralla, La Palma, Las Águilas, Las Cañadas, Las Pilas, Lomas Verdes, Los Arroyos, Los Limones, Los Naranjos, Los Piñales (Agua Dulce), Mecatlán de las Flores, Monte Grande de Zaragoza, Morelos, Nactanca Chica (La Colonia), Nactanca Grande, Ojo de Agua (Primera Sección), Pensamiento Mexicano, Quinta Lilia, Rancho Nuevo, San Agustín (Atlihuacán), San Antonio, San Antonio Ocopetlatlán, San Isidro, San Lorenzo, San Luis, San Pedro Itztla, Santa Cruz Chica, Santa Cruz Grande, Santa Luz Buenavista, Santa Rita, Santa Rosa, Tepapatlaxco [Tepepatlaxco], Tierra Negra, Tlapehuala, Tlaxcalantongo, Tlaxpanala (Las Trancas), Tranca de Fierro, Tulancinguillo, Unidad Deportiva (Ocotzotal), Villa de las Flores, Villa Ávila Camacho (La Ceiba), Xicotepec de Juárez. <b>Zihuateutla</b>: Arroyo Mano, Azcatlán, Cacahuatlán, Carmen (Finca el Matadero), Cerro Azul, Cerro Verde, Cuatechalotla, Cuaunepixca (La Cumbre), Ejido Tenanguito, El Rosario (Anayal), El Cerro, El Plantel, El Remolino, Ernesto Hernández (Tlacoyuco), Finca Cre-Leg, Finca Cuaunepixca, Finca el Limonar, Finca el Progreso Chico, Finca el Rosario, Finca el Viejote, Finca Grano de Oro, Finca la Providencia, Finca la Puebla, Finca la Selva, Finca la Trinidad, Finca las Chachitas, Finca las Margaritas, Finca los Tulipanes, Finca Susy, La Cañada, La Chiquita, La Floresta, La Florida, La Herradura, La Laguna, La Libertad, La Mesa del Crucero (La Mesita), La Planada, La Tranca de Fierro, La Unión, La Virgen, Lagunillas, Loma Bonita, Los Pinos, Mazacoatlán, Nanacatepec, Noche Buena, Ocomantla, Ojo de Agua, Planta de Patla, Rancho las Filipinas, San Andrés, San José, San Nicolás, Santo Tomás, Tecpatlán, Telolotla, Tenanguito, Zihuateutla.\n",
       "                 </td>]"
      ]
     },
     "execution_count": 9,
     "metadata": {},
     "output_type": "execute_result"
    }
   ],
   "source": [
    "# más específicamente, los datos del los lenguajes quedan dentro\n",
    "# de los tables que así mismos están dentro de un \"row\"\n",
    "# es decir, encontramos los datos que nos interesa entre los tags <td></td>\n",
    "all_tds = all_trs[1].find_all('td')\n",
    "all_tds"
   ]
  },
  {
   "cell_type": "markdown",
   "metadata": {},
   "source": [
    "### sabemos que lo que está dentro del primer \"table\" (td tags) son, en primer lugar, las autodenominaciones, y después el variante"
   ]
  },
  {
   "cell_type": "code",
   "execution_count": 10,
   "metadata": {},
   "outputs": [
    {
     "data": {
      "text/plain": [
       "[<a name=\"2\"></a>, '\\n', <p>mexi’catl\n",
       " \t\t<br/><span>[meʃiʔkaλ]</span></p>, '\\n', <p>mexicano (del noroeste central)\n",
       " \t\t<br/><span>[mexikano]</span></p>, '\\n', <p>maseual tla’tol\n",
       " \t\t<br/><span>[masewal λaʔtol]</span></p>, '\\n\\t\\t<náhuatl del noroeste central>\\n                ']"
      ]
     },
     "execution_count": 10,
     "metadata": {},
     "output_type": "execute_result"
    }
   ],
   "source": [
    "all_tds[0].contents"
   ]
  },
  {
   "cell_type": "code",
   "execution_count": 11,
   "metadata": {},
   "outputs": [
    {
     "data": {
      "text/plain": [
       "['mexi’catl\\n',\n",
       " '[meʃiʔkaλ]\\nmexicano (del noroeste central)\\n',\n",
       " '[mexikano]\\nmaseual tla’tol\\n',\n",
       " '[masewal λaʔtol]\\n',\n",
       " '<náhuatl del noroeste central>']"
      ]
     },
     "execution_count": 11,
     "metadata": {},
     "output_type": "execute_result"
    }
   ],
   "source": [
    "all_tds[0].text.strip().split('\\t\\t')"
   ]
  },
  {
   "cell_type": "code",
   "execution_count": 12,
   "metadata": {},
   "outputs": [
    {
     "name": "stdout",
     "output_type": "stream",
     "text": [
      "autodenominaciones extraidos del table: ['mexi’catl/n[meʃiʔkaλ]', 'mexicano (del noroeste central)/n[mexikano]', 'maseual tla’tol/n[masewal λaʔtol]']\n"
     ]
    },
    {
     "data": {
      "text/plain": [
       "['mexi’catl/n[meʃiʔkaλ]',\n",
       " 'mexicano (del noroeste central)/n[mexikano]',\n",
       " 'maseual tla’tol/n[masewal λaʔtol]']"
      ]
     },
     "execution_count": 12,
     "metadata": {},
     "output_type": "execute_result"
    }
   ],
   "source": [
    "# aquí tenemos los AUTODENOMINACIÓNes\n",
    "def sacar_autodes(td):\n",
    "    '''\n",
    "    @td: debe ser el primer table de una row, en el que queda las autodenominaciones y el variante\n",
    "    \n",
    "    NOTA: este método de extraer las autodenominaciones presupone que siempre hay dos\n",
    "    maneras de describir las autods: primero como string y luego lo mismo de otra forma en brackets.\n",
    "    entonces lo separamos con un newline '\\n' como aparece en la página de INALI\n",
    "    \n",
    "    parace que el variante no queda entre \"paragraph HTML tags\" mientras las autodenominaciones sí\n",
    "    así que sacamos los autodes por buscar todos los paragraph tags <p></p> en el table\n",
    "    '''\n",
    "    pstrings = []\n",
    "    for p in td.find_all('p'):\n",
    "        for pstr in p.strings:\n",
    "            pstrings.append(pstr.strip())\n",
    "\n",
    "    autodes = []\n",
    "    for i in range(len(pstrings)):\n",
    "        if (i+1) % 2 == 0:\n",
    "            autode = '/n'.join([pstrings[i-1], pstrings[i]])\n",
    "            autodes.append(autode)\n",
    "    print('autodenominaciones extraidos del table: {}'.format(autodes))\n",
    "    return autodes\n",
    "\n",
    "autodes = sacar_autodes(all_tds[0])\n",
    "autodes"
   ]
  },
  {
   "cell_type": "code",
   "execution_count": 30,
   "metadata": {},
   "outputs": [
    {
     "name": "stdout",
     "output_type": "stream",
     "text": [
      "variante extraido del table: <náhuatl del noroeste central>\n"
     ]
    },
    {
     "data": {
      "text/plain": [
       "'<náhuatl del noroeste central>'"
      ]
     },
     "execution_count": 30,
     "metadata": {},
     "output_type": "execute_result"
    }
   ],
   "source": [
    "# aquí tenemos el VARIANTE\n",
    "def sacar_variante(td):\n",
    "    variante = td.contents[-1].strip()\n",
    "    print('variante extraido del table: {}'.format(variante))\n",
    "    return variante\n",
    "    \n",
    "variante = sacar_variante(all_tds[0])\n",
    "variante"
   ]
  },
  {
   "cell_type": "markdown",
   "metadata": {},
   "source": [
    "### seguimos con los datos geográficos"
   ]
  },
  {
   "cell_type": "code",
   "execution_count": 14,
   "metadata": {},
   "outputs": [
    {
     "name": "stdout",
     "output_type": "stream",
     "text": [
      "\n",
      "mexi’catl\n",
      "[meʃiʔkaλ]\n",
      "\n",
      "mexicano (del noroeste central)\n",
      "[mexikano]\n",
      "\n",
      "maseual tla’tol\n",
      "[masewal λaʔtol]\n",
      "<náhuatl del noroeste central>\n",
      "HIDALGO:\n",
      "Acaxochitlán\n",
      ": Acaxochitlán, Alpinagua, Apapaxtla (Altamira), Apopoalco, Atezcapa, Barrio Cuautenco, Barrio el Puente, Barrio Tlatempa, Barrio Tlatzintla, Barrio Verde, Buenavista (Necaxanco), Coyametepec, Cuaunepantla, Chimalapa, Ejido Techachalco, Ejido de Tepepa (Barrio Santa Félix), Ejido de Tlatzintla, El Bado, El Crucero, El Tejocotal, El Valle, La Boveda, La Mesa, Los Reyes, Montemar, Necaxanco, Nuevo San Juan, Ocotengo, Ojo de Agua las Palomas, Parada 170, Paredones, San Fernando, San Francisco Atotonilco, San Juan, San Mateo, San Miguel del Resgate, San Pedro Tlachichilco, Santa Ana Tzacuala, Santa Catarina, Techachalco, Tepepa (Santiago Tepepa), Tlacpac, Tlamimilolpa, Toxtla, Venta Quemada, Yemila, Zacacuautla, Zotictla.\n",
      "PUEBLA:\n",
      "Chiconcuautla\n",
      ": Acalama, Amola, Axocopactla, Azacatla, Benito Juárez, Cosamaloapan, Cuetzalingo, Chiconcuautla, Huautla, Huixtlacuatla, Itlantixcali, Ixtaczoquitla, Macuilacatla, Mimitla, Ojo de Agua, Palzoquitla, San Lorenzo Tlaxipehuala, Tlalhuapan, Tlaltenango, Tlaxco (Santiago Tlaxco), Toxtla, Zacatepec, Zempoala.\n",
      "Honey\n",
      ": Amapoloa, Chila de Juárez, El Manzano, Honey, Huehuetlilla, La Magdalena, Rincón de Chila.\n",
      "Huauchinango\n",
      ": Acatlán, Agua Blanca, Ahuacatlán, Ahuatepec, Álvaro Obregón, Alseseca, Ayohuixcuautla, Benito Juárez, Cobrería, Colonia Pemex (Hueyatlagco), Cuacuila, Cuahueyatla, Cuautlita, Cuauxinca, Cuaxicala, Chahuac, Chicuase, El Mirador, El Paraíso, Gustavo Díaz Ordaz (La Cuenca), Huauchinango, Huejotzingo, Huilacapixtla, Independencia, Ixhuacatla, José López Portillo, Las Colonias de Hidalgo, Llano de Huejotzingo, Los Capulines, Los Girasoles, Matlaluca, Mesa de Capulines, Michiuca, Nopala, Ocpaco, Ozomatlán, Papatlatla, Papatlazolco, Patoltecoya, Piedras Pintadas, Popocatépetl (Juan Hernández), Puga, San Diego Buenavista, San José, San José Munive, San José Tlautla, San Juan Pancoac, San Luis Coyotzingo, San Mateo Capultitlán, San Miguel Acuautla, San Miguel Tianguizolco, Santa Ana Xalmimilulco, Santa Catalina, Santa Elena, Santa Elena de la Cruz (Los Oroza), Santa María Atexcac, Santa María Nepopualco, Santa María Tianguistenco, Santiago, Santiago (Buena Vista), Tenango de las Flores, Tenohuatlán, Teopancingo, Tepehuaquila, Tepetzintla de Galeana, Texcapa, Tlachichila (Tecoxtenco), Tlacomulco, Tlalcoyunga, Tlalmaya, Tonatzin, Totolapa (El Sifón), Tzahuinco, Venta Grande, Xaltepec, Xilocuautla, Xolango, Xopanapa.\n",
      "Jopala\n",
      ": Arroyo Hondo, Buenos Aires, Cuamaxalco, Chicontla, El Encinal, Finca Pilar I, Finca Pilar II, Jopala, La Concha, Oro Verde (Monte de Chila), Patla, Rancho Nuevo, San Martín, San Pedro Tlaolantongo, Tecuantla (Los Reyes).\n",
      "Juan Galindo\n",
      ": Colonia Azteca, Cuautlita (El Gamito), Dos Caminos, El Salto, Necaxaltépetl, Nezoaya, Nuevo Necaxa, Tecacalango (La Pahua).\n",
      "Naupan\n",
      ": Achiautla (Xiagtla), Alambique, Copila, Cozolapa, Cuahuihuitzotitla, Cueyatla, Chachahuantla, Humiltemec, Iczotitla, Metztla Abajo, Metztla Arriba, Naupan, Tenextitla, Teopanzolco, Tlaxpanaloya.\n",
      "Pahuatlán\n",
      ": Acahuales (El Aguacate), Acalapa, Ahila, Ahuacatitla, Almoloya, Atla, Atlantongo, Cuauneutla de la Paz, Chipotla, El Arenal, La Loma, Los Ángeles, Mamiquetla, Montellano, Paciotla, Pahuatlán de Valle, San Pablito, Tlalcruz de Libres, Xochimilco, Xolotla, Zacapehuaya, Zoyatla de Guerrero.\n",
      "Tlaola\n",
      ": Amacugtla, Amanalco, Atenco, Atequexquitla, Atitlalaya, Ayahualco, Capultitla, Caxapotla, Cocolixtla, Cocolongo, Coligque, Coxolitla, Cuamila, Cutzontipa, Chicahuaxtla, Huixtla, La Gallera, La Herradura, Nexapa Ahila, Nixcugtla, Nuevo Hidalgo, Plan de Cuamila, Salazar Herrera, San Isidro Acatlán, San José, Temascalapa, Tlacocugtla, Tlaltepango, Tlantentiloya, Tlaola, Tlapehuala, Tlapitzalapa, Tlaticoxca, Tlatlapanala, Tlatzohuiloya, Tzitzicazapa, Xaltepuxtla, Xochinanacatlán, Yetla.\n",
      "Tlapacoya\n",
      ": Ahuacatlaya, Barrio los Vázquez, Benito Juárez (Xicalango), Colonia las Palmas, Cuatepalcatla, La Cruz, La Cumbre, La Gruta, Rancho de Tepetzingo, San Andrés Buenavista, San Antonio Tlilapa, San Miguel Tlilapa, Santa Catarina Coatepec, Santo Domingo Ayotlicha, Tlamaya Chico, Tlamaya Grande.\n",
      "Xicotepec\n",
      ": Ahuaxintitla, Arroyo Seco, Atequexquitla, Cerro de los Limones, Cerro del Tepeyac, Cilima (La Bomba), Chicopanal, Dos Caminos, Duraznotla, Ejido de Nactanca [Ejido Nactanca], Ejido de Rancho Nuevo (El Ojite), El Cajón, El Infierno (Valle Verde), El Jonote, El Mirador, El Porvenir Ejido, El Refugio (Los Tamarindos), El Sauce Chico, El Tepetate, Finca Puebla (Casa Blanca), Gilberto Camacho, Ixtepec, Jalapilla, La Cascada (Las Chacas), La Chivería, La Garcita, La Herradura, La Magdalena, La Muralla, La Palma, Las Águilas, Las Cañadas, Las Pilas, Lomas Verdes, Los Arroyos, Los Limones, Los Naranjos, Los Piñales (Agua Dulce), Mecatlán de las Flores, Monte Grande de Zaragoza, Morelos, Nactanca Chica (La Colonia), Nactanca Grande, Ojo de Agua (Primera Sección), Pensamiento Mexicano, Quinta Lilia, Rancho Nuevo, San Agustín (Atlihuacán), San Antonio, San Antonio Ocopetlatlán, San Isidro, San Lorenzo, San Luis, San Pedro Itztla, Santa Cruz Chica, Santa Cruz Grande, Santa Luz Buenavista, Santa Rita, Santa Rosa, Tepapatlaxco [Tepepatlaxco], Tierra Negra, Tlapehuala, Tlaxcalantongo, Tlaxpanala (Las Trancas), Tranca de Fierro, Tulancinguillo, Unidad Deportiva (Ocotzotal), Villa de las Flores, Villa Ávila Camacho (La Ceiba), Xicotepec de Juárez.\n",
      "Zihuateutla\n",
      ": Arroyo Mano, Azcatlán, Cacahuatlán, Carmen (Finca el Matadero), Cerro Azul, Cerro Verde, Cuatechalotla, Cuaunepixca (La Cumbre), Ejido Tenanguito, El Rosario (Anayal), El Cerro, El Plantel, El Remolino, Ernesto Hernández (Tlacoyuco), Finca Cre-Leg, Finca Cuaunepixca, Finca el Limonar, Finca el Progreso Chico, Finca el Rosario, Finca el Viejote, Finca Grano de Oro, Finca la Providencia, Finca la Puebla, Finca la Selva, Finca la Trinidad, Finca las Chachitas, Finca las Margaritas, Finca los Tulipanes, Finca Susy, La Cañada, La Chiquita, La Floresta, La Florida, La Herradura, La Laguna, La Libertad, La Mesa del Crucero (La Mesita), La Planada, La Tranca de Fierro, La Unión, La Virgen, Lagunillas, Loma Bonita, Los Pinos, Mazacoatlán, Nanacatepec, Noche Buena, Ocomantla, Ojo de Agua, Planta de Patla, Rancho las Filipinas, San Andrés, San José, San Nicolás, Santo Tomás, Tecpatlán, Telolotla, Tenanguito, Zihuateutla.\n"
     ]
    }
   ],
   "source": [
    "for td in all_tds:\n",
    "    for string in td.strings:\n",
    "        print(string.strip())"
   ]
  },
  {
   "cell_type": "markdown",
   "metadata": {},
   "source": [
    "### ya vimos que el primer table fue el que tiene la información sobre la autodenominacines y el variante, así que el segundo table deben corresponder a un estado, sus municipios, y luego sus localidades donde se hablan este variante. Si hay más que un estado en donde se hable este variante, estan separados en la pagina con un \"linebreak\""
   ]
  },
  {
   "cell_type": "code",
   "execution_count": 15,
   "metadata": {},
   "outputs": [
    {
     "data": {
      "text/plain": [
       "2"
      ]
     },
     "execution_count": 15,
     "metadata": {},
     "output_type": "execute_result"
    }
   ],
   "source": [
    "len(all_tds)"
   ]
  },
  {
   "cell_type": "code",
   "execution_count": 16,
   "metadata": {},
   "outputs": [
    {
     "data": {
      "text/plain": [
       "<td>\n",
       "                    HIDALGO: <b>Acaxochitlán</b>: Acaxochitlán, Alpinagua, Apapaxtla (Altamira), Apopoalco, Atezcapa, Barrio Cuautenco, Barrio el Puente, Barrio Tlatempa, Barrio Tlatzintla, Barrio Verde, Buenavista (Necaxanco), Coyametepec, Cuaunepantla, Chimalapa, Ejido Techachalco, Ejido de Tepepa (Barrio Santa Félix), Ejido de Tlatzintla, El Bado, El Crucero, El Tejocotal, El Valle, La Boveda, La Mesa, Los Reyes, Montemar, Necaxanco, Nuevo San Juan, Ocotengo, Ojo de Agua las Palomas, Parada 170, Paredones, San Fernando, San Francisco Atotonilco, San Juan, San Mateo, San Miguel del Resgate, San Pedro Tlachichilco, Santa Ana Tzacuala, Santa Catarina, Techachalco, Tepepa (Santiago Tepepa), Tlacpac, Tlamimilolpa, Toxtla, Venta Quemada, Yemila, Zacacuautla, Zotictla.\n",
       "\n",
       "<br/><br/>\n",
       "PUEBLA: <b>Chiconcuautla</b>: Acalama, Amola, Axocopactla, Azacatla, Benito Juárez, Cosamaloapan, Cuetzalingo, Chiconcuautla, Huautla, Huixtlacuatla, Itlantixcali, Ixtaczoquitla, Macuilacatla, Mimitla, Ojo de Agua, Palzoquitla, San Lorenzo Tlaxipehuala, Tlalhuapan, Tlaltenango, Tlaxco (Santiago Tlaxco), Toxtla, Zacatepec, Zempoala. <b>Honey</b>: Amapoloa, Chila de Juárez, El Manzano, Honey, Huehuetlilla, La Magdalena, Rincón de Chila. <b>Huauchinango</b>: Acatlán, Agua Blanca, Ahuacatlán, Ahuatepec, Álvaro Obregón, Alseseca, Ayohuixcuautla, Benito Juárez, Cobrería, Colonia Pemex (Hueyatlagco), Cuacuila, Cuahueyatla, Cuautlita, Cuauxinca, Cuaxicala, Chahuac, Chicuase, El Mirador, El Paraíso, Gustavo Díaz Ordaz (La Cuenca), Huauchinango, Huejotzingo, Huilacapixtla, Independencia, Ixhuacatla, José López Portillo, Las Colonias de Hidalgo, Llano de Huejotzingo, Los Capulines, Los Girasoles, Matlaluca, Mesa de Capulines, Michiuca, Nopala, Ocpaco, Ozomatlán, Papatlatla, Papatlazolco, Patoltecoya, Piedras Pintadas, Popocatépetl (Juan Hernández), Puga, San Diego Buenavista, San José, San José Munive, San José Tlautla, San Juan Pancoac, San Luis Coyotzingo, San Mateo Capultitlán, San Miguel Acuautla, San Miguel Tianguizolco, Santa Ana Xalmimilulco, Santa Catalina, Santa Elena, Santa Elena de la Cruz (Los Oroza), Santa María Atexcac, Santa María Nepopualco, Santa María Tianguistenco, Santiago, Santiago (Buena Vista), Tenango de las Flores, Tenohuatlán, Teopancingo, Tepehuaquila, Tepetzintla de Galeana, Texcapa, Tlachichila (Tecoxtenco), Tlacomulco, Tlalcoyunga, Tlalmaya, Tonatzin, Totolapa (El Sifón), Tzahuinco, Venta Grande, Xaltepec, Xilocuautla, Xolango, Xopanapa. <b>Jopala</b>: Arroyo Hondo, Buenos Aires, Cuamaxalco, Chicontla, El Encinal, Finca Pilar I, Finca Pilar II, Jopala, La Concha, Oro Verde (Monte de Chila), Patla, Rancho Nuevo, San Martín, San Pedro Tlaolantongo, Tecuantla (Los Reyes). <b>Juan Galindo</b>: Colonia Azteca, Cuautlita (El Gamito), Dos Caminos, El Salto, Necaxaltépetl, Nezoaya, Nuevo Necaxa, Tecacalango (La Pahua). <b>Naupan</b>: Achiautla (Xiagtla), Alambique, Copila, Cozolapa, Cuahuihuitzotitla, Cueyatla, Chachahuantla, Humiltemec, Iczotitla, Metztla Abajo, Metztla Arriba, Naupan, Tenextitla, Teopanzolco, Tlaxpanaloya. <b>Pahuatlán</b>: Acahuales (El Aguacate), Acalapa, Ahila, Ahuacatitla, Almoloya, Atla, Atlantongo, Cuauneutla de la Paz, Chipotla, El Arenal, La Loma, Los Ángeles, Mamiquetla, Montellano, Paciotla, Pahuatlán de Valle, San Pablito, Tlalcruz de Libres, Xochimilco, Xolotla, Zacapehuaya, Zoyatla de Guerrero. <b>Tlaola</b>: Amacugtla, Amanalco, Atenco, Atequexquitla, Atitlalaya, Ayahualco, Capultitla, Caxapotla, Cocolixtla, Cocolongo, Coligque, Coxolitla, Cuamila, Cutzontipa, Chicahuaxtla, Huixtla, La Gallera, La Herradura, Nexapa Ahila, Nixcugtla, Nuevo Hidalgo, Plan de Cuamila, Salazar Herrera, San Isidro Acatlán, San José, Temascalapa, Tlacocugtla, Tlaltepango, Tlantentiloya, Tlaola, Tlapehuala, Tlapitzalapa, Tlaticoxca, Tlatlapanala, Tlatzohuiloya, Tzitzicazapa, Xaltepuxtla, Xochinanacatlán, Yetla. <b>Tlapacoya</b>: Ahuacatlaya, Barrio los Vázquez, Benito Juárez (Xicalango), Colonia las Palmas, Cuatepalcatla, La Cruz, La Cumbre, La Gruta, Rancho de Tepetzingo, San Andrés Buenavista, San Antonio Tlilapa, San Miguel Tlilapa, Santa Catarina Coatepec, Santo Domingo Ayotlicha, Tlamaya Chico, Tlamaya Grande. <b>Xicotepec</b>: Ahuaxintitla, Arroyo Seco, Atequexquitla, Cerro de los Limones, Cerro del Tepeyac, Cilima (La Bomba), Chicopanal, Dos Caminos, Duraznotla, Ejido de Nactanca [Ejido Nactanca], Ejido de Rancho Nuevo (El Ojite), El Cajón, El Infierno (Valle Verde), El Jonote, El Mirador, El Porvenir Ejido, El Refugio (Los Tamarindos), El Sauce Chico, El Tepetate, Finca Puebla (Casa Blanca), Gilberto Camacho, Ixtepec, Jalapilla, La Cascada (Las Chacas), La Chivería, La Garcita, La Herradura, La Magdalena, La Muralla, La Palma, Las Águilas, Las Cañadas, Las Pilas, Lomas Verdes, Los Arroyos, Los Limones, Los Naranjos, Los Piñales (Agua Dulce), Mecatlán de las Flores, Monte Grande de Zaragoza, Morelos, Nactanca Chica (La Colonia), Nactanca Grande, Ojo de Agua (Primera Sección), Pensamiento Mexicano, Quinta Lilia, Rancho Nuevo, San Agustín (Atlihuacán), San Antonio, San Antonio Ocopetlatlán, San Isidro, San Lorenzo, San Luis, San Pedro Itztla, Santa Cruz Chica, Santa Cruz Grande, Santa Luz Buenavista, Santa Rita, Santa Rosa, Tepapatlaxco [Tepepatlaxco], Tierra Negra, Tlapehuala, Tlaxcalantongo, Tlaxpanala (Las Trancas), Tranca de Fierro, Tulancinguillo, Unidad Deportiva (Ocotzotal), Villa de las Flores, Villa Ávila Camacho (La Ceiba), Xicotepec de Juárez. <b>Zihuateutla</b>: Arroyo Mano, Azcatlán, Cacahuatlán, Carmen (Finca el Matadero), Cerro Azul, Cerro Verde, Cuatechalotla, Cuaunepixca (La Cumbre), Ejido Tenanguito, El Rosario (Anayal), El Cerro, El Plantel, El Remolino, Ernesto Hernández (Tlacoyuco), Finca Cre-Leg, Finca Cuaunepixca, Finca el Limonar, Finca el Progreso Chico, Finca el Rosario, Finca el Viejote, Finca Grano de Oro, Finca la Providencia, Finca la Puebla, Finca la Selva, Finca la Trinidad, Finca las Chachitas, Finca las Margaritas, Finca los Tulipanes, Finca Susy, La Cañada, La Chiquita, La Floresta, La Florida, La Herradura, La Laguna, La Libertad, La Mesa del Crucero (La Mesita), La Planada, La Tranca de Fierro, La Unión, La Virgen, Lagunillas, Loma Bonita, Los Pinos, Mazacoatlán, Nanacatepec, Noche Buena, Ocomantla, Ojo de Agua, Planta de Patla, Rancho las Filipinas, San Andrés, San José, San Nicolás, Santo Tomás, Tecpatlán, Telolotla, Tenanguito, Zihuateutla.\n",
       "                </td>"
      ]
     },
     "execution_count": 16,
     "metadata": {},
     "output_type": "execute_result"
    }
   ],
   "source": [
    "gdatos = all_tds[1]\n",
    "gdatos"
   ]
  },
  {
   "cell_type": "code",
   "execution_count": 17,
   "metadata": {},
   "outputs": [
    {
     "name": "stdout",
     "output_type": "stream",
     "text": [
      "\n",
      "                    HIDALGO: \n",
      "<class 'bs4.element.NavigableString'>\n",
      "<b>Acaxochitlán</b>\n",
      "<class 'bs4.element.Tag'>\n",
      "False\n",
      ": Acaxochitlán, Alpinagua, Apapaxtla (Altamira), Apopoalco, Atezcapa, Barrio Cuautenco, Barrio el Puente, Barrio Tlatempa, Barrio Tlatzintla, Barrio Verde, Buenavista (Necaxanco), Coyametepec, Cuaunepantla, Chimalapa, Ejido Techachalco, Ejido de Tepepa (Barrio Santa Félix), Ejido de Tlatzintla, El Bado, El Crucero, El Tejocotal, El Valle, La Boveda, La Mesa, Los Reyes, Montemar, Necaxanco, Nuevo San Juan, Ocotengo, Ojo de Agua las Palomas, Parada 170, Paredones, San Fernando, San Francisco Atotonilco, San Juan, San Mateo, San Miguel del Resgate, San Pedro Tlachichilco, Santa Ana Tzacuala, Santa Catarina, Techachalco, Tepepa (Santiago Tepepa), Tlacpac, Tlamimilolpa, Toxtla, Venta Quemada, Yemila, Zacacuautla, Zotictla.\n",
      "\n",
      "\n",
      "<class 'bs4.element.NavigableString'>\n",
      "<br/>\n",
      "<class 'bs4.element.Tag'>\n",
      "True\n",
      "<br/>\n",
      "<class 'bs4.element.Tag'>\n",
      "True\n",
      "\n",
      "PUEBLA: \n",
      "<class 'bs4.element.NavigableString'>\n",
      "<b>Chiconcuautla</b>\n",
      "<class 'bs4.element.Tag'>\n",
      "False\n",
      ": Acalama, Amola, Axocopactla, Azacatla, Benito Juárez, Cosamaloapan, Cuetzalingo, Chiconcuautla, Huautla, Huixtlacuatla, Itlantixcali, Ixtaczoquitla, Macuilacatla, Mimitla, Ojo de Agua, Palzoquitla, San Lorenzo Tlaxipehuala, Tlalhuapan, Tlaltenango, Tlaxco (Santiago Tlaxco), Toxtla, Zacatepec, Zempoala. \n",
      "<class 'bs4.element.NavigableString'>\n",
      "<b>Honey</b>\n",
      "<class 'bs4.element.Tag'>\n",
      "False\n",
      ": Amapoloa, Chila de Juárez, El Manzano, Honey, Huehuetlilla, La Magdalena, Rincón de Chila. \n",
      "<class 'bs4.element.NavigableString'>\n",
      "<b>Huauchinango</b>\n",
      "<class 'bs4.element.Tag'>\n",
      "False\n",
      ": Acatlán, Agua Blanca, Ahuacatlán, Ahuatepec, Álvaro Obregón, Alseseca, Ayohuixcuautla, Benito Juárez, Cobrería, Colonia Pemex (Hueyatlagco), Cuacuila, Cuahueyatla, Cuautlita, Cuauxinca, Cuaxicala, Chahuac, Chicuase, El Mirador, El Paraíso, Gustavo Díaz Ordaz (La Cuenca), Huauchinango, Huejotzingo, Huilacapixtla, Independencia, Ixhuacatla, José López Portillo, Las Colonias de Hidalgo, Llano de Huejotzingo, Los Capulines, Los Girasoles, Matlaluca, Mesa de Capulines, Michiuca, Nopala, Ocpaco, Ozomatlán, Papatlatla, Papatlazolco, Patoltecoya, Piedras Pintadas, Popocatépetl (Juan Hernández), Puga, San Diego Buenavista, San José, San José Munive, San José Tlautla, San Juan Pancoac, San Luis Coyotzingo, San Mateo Capultitlán, San Miguel Acuautla, San Miguel Tianguizolco, Santa Ana Xalmimilulco, Santa Catalina, Santa Elena, Santa Elena de la Cruz (Los Oroza), Santa María Atexcac, Santa María Nepopualco, Santa María Tianguistenco, Santiago, Santiago (Buena Vista), Tenango de las Flores, Tenohuatlán, Teopancingo, Tepehuaquila, Tepetzintla de Galeana, Texcapa, Tlachichila (Tecoxtenco), Tlacomulco, Tlalcoyunga, Tlalmaya, Tonatzin, Totolapa (El Sifón), Tzahuinco, Venta Grande, Xaltepec, Xilocuautla, Xolango, Xopanapa. \n",
      "<class 'bs4.element.NavigableString'>\n",
      "<b>Jopala</b>\n",
      "<class 'bs4.element.Tag'>\n",
      "False\n",
      ": Arroyo Hondo, Buenos Aires, Cuamaxalco, Chicontla, El Encinal, Finca Pilar I, Finca Pilar II, Jopala, La Concha, Oro Verde (Monte de Chila), Patla, Rancho Nuevo, San Martín, San Pedro Tlaolantongo, Tecuantla (Los Reyes). \n",
      "<class 'bs4.element.NavigableString'>\n",
      "<b>Juan Galindo</b>\n",
      "<class 'bs4.element.Tag'>\n",
      "False\n",
      ": Colonia Azteca, Cuautlita (El Gamito), Dos Caminos, El Salto, Necaxaltépetl, Nezoaya, Nuevo Necaxa, Tecacalango (La Pahua). \n",
      "<class 'bs4.element.NavigableString'>\n",
      "<b>Naupan</b>\n",
      "<class 'bs4.element.Tag'>\n",
      "False\n",
      ": Achiautla (Xiagtla), Alambique, Copila, Cozolapa, Cuahuihuitzotitla, Cueyatla, Chachahuantla, Humiltemec, Iczotitla, Metztla Abajo, Metztla Arriba, Naupan, Tenextitla, Teopanzolco, Tlaxpanaloya. \n",
      "<class 'bs4.element.NavigableString'>\n",
      "<b>Pahuatlán</b>\n",
      "<class 'bs4.element.Tag'>\n",
      "False\n",
      ": Acahuales (El Aguacate), Acalapa, Ahila, Ahuacatitla, Almoloya, Atla, Atlantongo, Cuauneutla de la Paz, Chipotla, El Arenal, La Loma, Los Ángeles, Mamiquetla, Montellano, Paciotla, Pahuatlán de Valle, San Pablito, Tlalcruz de Libres, Xochimilco, Xolotla, Zacapehuaya, Zoyatla de Guerrero. \n",
      "<class 'bs4.element.NavigableString'>\n",
      "<b>Tlaola</b>\n",
      "<class 'bs4.element.Tag'>\n",
      "False\n",
      ": Amacugtla, Amanalco, Atenco, Atequexquitla, Atitlalaya, Ayahualco, Capultitla, Caxapotla, Cocolixtla, Cocolongo, Coligque, Coxolitla, Cuamila, Cutzontipa, Chicahuaxtla, Huixtla, La Gallera, La Herradura, Nexapa Ahila, Nixcugtla, Nuevo Hidalgo, Plan de Cuamila, Salazar Herrera, San Isidro Acatlán, San José, Temascalapa, Tlacocugtla, Tlaltepango, Tlantentiloya, Tlaola, Tlapehuala, Tlapitzalapa, Tlaticoxca, Tlatlapanala, Tlatzohuiloya, Tzitzicazapa, Xaltepuxtla, Xochinanacatlán, Yetla. \n",
      "<class 'bs4.element.NavigableString'>\n",
      "<b>Tlapacoya</b>\n",
      "<class 'bs4.element.Tag'>\n",
      "False\n",
      ": Ahuacatlaya, Barrio los Vázquez, Benito Juárez (Xicalango), Colonia las Palmas, Cuatepalcatla, La Cruz, La Cumbre, La Gruta, Rancho de Tepetzingo, San Andrés Buenavista, San Antonio Tlilapa, San Miguel Tlilapa, Santa Catarina Coatepec, Santo Domingo Ayotlicha, Tlamaya Chico, Tlamaya Grande. \n",
      "<class 'bs4.element.NavigableString'>\n",
      "<b>Xicotepec</b>\n",
      "<class 'bs4.element.Tag'>\n",
      "False\n",
      ": Ahuaxintitla, Arroyo Seco, Atequexquitla, Cerro de los Limones, Cerro del Tepeyac, Cilima (La Bomba), Chicopanal, Dos Caminos, Duraznotla, Ejido de Nactanca [Ejido Nactanca], Ejido de Rancho Nuevo (El Ojite), El Cajón, El Infierno (Valle Verde), El Jonote, El Mirador, El Porvenir Ejido, El Refugio (Los Tamarindos), El Sauce Chico, El Tepetate, Finca Puebla (Casa Blanca), Gilberto Camacho, Ixtepec, Jalapilla, La Cascada (Las Chacas), La Chivería, La Garcita, La Herradura, La Magdalena, La Muralla, La Palma, Las Águilas, Las Cañadas, Las Pilas, Lomas Verdes, Los Arroyos, Los Limones, Los Naranjos, Los Piñales (Agua Dulce), Mecatlán de las Flores, Monte Grande de Zaragoza, Morelos, Nactanca Chica (La Colonia), Nactanca Grande, Ojo de Agua (Primera Sección), Pensamiento Mexicano, Quinta Lilia, Rancho Nuevo, San Agustín (Atlihuacán), San Antonio, San Antonio Ocopetlatlán, San Isidro, San Lorenzo, San Luis, San Pedro Itztla, Santa Cruz Chica, Santa Cruz Grande, Santa Luz Buenavista, Santa Rita, Santa Rosa, Tepapatlaxco [Tepepatlaxco], Tierra Negra, Tlapehuala, Tlaxcalantongo, Tlaxpanala (Las Trancas), Tranca de Fierro, Tulancinguillo, Unidad Deportiva (Ocotzotal), Villa de las Flores, Villa Ávila Camacho (La Ceiba), Xicotepec de Juárez. \n",
      "<class 'bs4.element.NavigableString'>\n",
      "<b>Zihuateutla</b>\n",
      "<class 'bs4.element.Tag'>\n",
      "False\n",
      ": Arroyo Mano, Azcatlán, Cacahuatlán, Carmen (Finca el Matadero), Cerro Azul, Cerro Verde, Cuatechalotla, Cuaunepixca (La Cumbre), Ejido Tenanguito, El Rosario (Anayal), El Cerro, El Plantel, El Remolino, Ernesto Hernández (Tlacoyuco), Finca Cre-Leg, Finca Cuaunepixca, Finca el Limonar, Finca el Progreso Chico, Finca el Rosario, Finca el Viejote, Finca Grano de Oro, Finca la Providencia, Finca la Puebla, Finca la Selva, Finca la Trinidad, Finca las Chachitas, Finca las Margaritas, Finca los Tulipanes, Finca Susy, La Cañada, La Chiquita, La Floresta, La Florida, La Herradura, La Laguna, La Libertad, La Mesa del Crucero (La Mesita), La Planada, La Tranca de Fierro, La Unión, La Virgen, Lagunillas, Loma Bonita, Los Pinos, Mazacoatlán, Nanacatepec, Noche Buena, Ocomantla, Ojo de Agua, Planta de Patla, Rancho las Filipinas, San Andrés, San José, San Nicolás, Santo Tomás, Tecpatlán, Telolotla, Tenanguito, Zihuateutla.\n",
      "                \n",
      "<class 'bs4.element.NavigableString'>\n"
     ]
    }
   ],
   "source": [
    "for thing in gdatos:\n",
    "    print(thing)\n",
    "    print(type(thing))\n",
    "    if thing.__class__ == bs4.element.Tag:\n",
    "        print(thing.decode() == '<br/>')"
   ]
  },
  {
   "cell_type": "code",
   "execution_count": 18,
   "metadata": {
    "scrolled": true
   },
   "outputs": [
    {
     "name": "stdout",
     "output_type": "stream",
     "text": [
      "<class 'bs4.element.NavigableString'>\n",
      "['PREFIX', 'SUFFIX', '__add__', '__class__', '__contains__', '__copy__', '__delattr__', '__dict__', '__dir__', '__doc__', '__eq__', '__format__', '__ge__', '__getattr__', '__getattribute__', '__getitem__', '__getnewargs__', '__gt__', '__hash__', '__init__', '__init_subclass__', '__iter__', '__le__', '__len__', '__lt__', '__mod__', '__module__', '__mul__', '__ne__', '__new__', '__reduce__', '__reduce_ex__', '__repr__', '__rmod__', '__rmul__', '__setattr__', '__sizeof__', '__str__', '__subclasshook__', '__weakref__', '_find_all', '_find_one', '_is_xml', '_lastRecursiveChild', '_last_descendant', 'append', 'capitalize', 'casefold', 'center', 'count', 'encode', 'endswith', 'expandtabs', 'extend', 'extract', 'fetchNextSiblings', 'fetchParents', 'fetchPrevious', 'fetchPreviousSiblings', 'find', 'findAllNext', 'findAllPrevious', 'findNext', 'findNextSibling', 'findNextSiblings', 'findParent', 'findParents', 'findPrevious', 'findPreviousSibling', 'findPreviousSiblings', 'find_all_next', 'find_all_previous', 'find_next', 'find_next_sibling', 'find_next_siblings', 'find_parent', 'find_parents', 'find_previous', 'find_previous_sibling', 'find_previous_siblings', 'format', 'format_map', 'format_string', 'formatter_for_name', 'index', 'insert', 'insert_after', 'insert_before', 'isalnum', 'isalpha', 'isascii', 'isdecimal', 'isdigit', 'isidentifier', 'islower', 'isnumeric', 'isprintable', 'isspace', 'istitle', 'isupper', 'join', 'known_xml', 'ljust', 'lower', 'lstrip', 'maketrans', 'name', 'next', 'nextGenerator', 'nextSibling', 'nextSiblingGenerator', 'next_element', 'next_elements', 'next_sibling', 'next_siblings', 'output_ready', 'parent', 'parentGenerator', 'parents', 'partition', 'previous', 'previousGenerator', 'previousSibling', 'previousSiblingGenerator', 'previous_element', 'previous_elements', 'previous_sibling', 'previous_siblings', 'replace', 'replaceWith', 'replaceWithChildren', 'replace_with', 'replace_with_children', 'rfind', 'rindex', 'rjust', 'rpartition', 'rsplit', 'rstrip', 'setup', 'split', 'splitlines', 'startswith', 'strip', 'swapcase', 'title', 'translate', 'unwrap', 'upper', 'wrap', 'zfill']\n",
      "<class 'bs4.element.Tag'>\n",
      "['__bool__', '__call__', '__class__', '__contains__', '__copy__', '__delattr__', '__delitem__', '__dict__', '__dir__', '__doc__', '__eq__', '__format__', '__ge__', '__getattr__', '__getattribute__', '__getitem__', '__gt__', '__hash__', '__init__', '__init_subclass__', '__iter__', '__le__', '__len__', '__lt__', '__module__', '__ne__', '__new__', '__reduce__', '__reduce_ex__', '__repr__', '__setattr__', '__setitem__', '__sizeof__', '__str__', '__subclasshook__', '__unicode__', '__weakref__', '_all_strings', '_find_all', '_find_one', '_is_xml', '_lastRecursiveChild', '_last_descendant', '_should_pretty_print', 'append', 'attrs', 'can_be_empty_element', 'cdata_list_attributes', 'childGenerator', 'children', 'clear', 'contents', 'decode', 'decode_contents', 'decompose', 'descendants', 'encode', 'encode_contents', 'extend', 'extract', 'fetchNextSiblings', 'fetchParents', 'fetchPrevious', 'fetchPreviousSiblings', 'find', 'findAll', 'findAllNext', 'findAllPrevious', 'findChild', 'findChildren', 'findNext', 'findNextSibling', 'findNextSiblings', 'findParent', 'findParents', 'findPrevious', 'findPreviousSibling', 'findPreviousSiblings', 'find_all', 'find_all_next', 'find_all_previous', 'find_next', 'find_next_sibling', 'find_next_siblings', 'find_parent', 'find_parents', 'find_previous', 'find_previous_sibling', 'find_previous_siblings', 'format_string', 'formatter_for_name', 'get', 'getText', 'get_attribute_list', 'get_text', 'has_attr', 'has_key', 'hidden', 'index', 'insert', 'insert_after', 'insert_before', 'isSelfClosing', 'is_empty_element', 'known_xml', 'name', 'namespace', 'next', 'nextGenerator', 'nextSibling', 'nextSiblingGenerator', 'next_element', 'next_elements', 'next_sibling', 'next_siblings', 'parent', 'parentGenerator', 'parents', 'parserClass', 'parser_class', 'prefix', 'preserve_whitespace_tags', 'prettify', 'previous', 'previousGenerator', 'previousSibling', 'previousSiblingGenerator', 'previous_element', 'previous_elements', 'previous_sibling', 'previous_siblings', 'recursiveChildGenerator', 'renderContents', 'replaceWith', 'replaceWithChildren', 'replace_with', 'replace_with_children', 'select', 'select_one', 'setup', 'smooth', 'sourceline', 'sourcepos', 'string', 'strings', 'stripped_strings', 'text', 'unwrap', 'wrap']\n",
      "<class 'bs4.element.NavigableString'>\n",
      "['PREFIX', 'SUFFIX', '__add__', '__class__', '__contains__', '__copy__', '__delattr__', '__dict__', '__dir__', '__doc__', '__eq__', '__format__', '__ge__', '__getattr__', '__getattribute__', '__getitem__', '__getnewargs__', '__gt__', '__hash__', '__init__', '__init_subclass__', '__iter__', '__le__', '__len__', '__lt__', '__mod__', '__module__', '__mul__', '__ne__', '__new__', '__reduce__', '__reduce_ex__', '__repr__', '__rmod__', '__rmul__', '__setattr__', '__sizeof__', '__str__', '__subclasshook__', '__weakref__', '_find_all', '_find_one', '_is_xml', '_lastRecursiveChild', '_last_descendant', 'append', 'capitalize', 'casefold', 'center', 'count', 'encode', 'endswith', 'expandtabs', 'extend', 'extract', 'fetchNextSiblings', 'fetchParents', 'fetchPrevious', 'fetchPreviousSiblings', 'find', 'findAllNext', 'findAllPrevious', 'findNext', 'findNextSibling', 'findNextSiblings', 'findParent', 'findParents', 'findPrevious', 'findPreviousSibling', 'findPreviousSiblings', 'find_all_next', 'find_all_previous', 'find_next', 'find_next_sibling', 'find_next_siblings', 'find_parent', 'find_parents', 'find_previous', 'find_previous_sibling', 'find_previous_siblings', 'format', 'format_map', 'format_string', 'formatter_for_name', 'index', 'insert', 'insert_after', 'insert_before', 'isalnum', 'isalpha', 'isascii', 'isdecimal', 'isdigit', 'isidentifier', 'islower', 'isnumeric', 'isprintable', 'isspace', 'istitle', 'isupper', 'join', 'known_xml', 'ljust', 'lower', 'lstrip', 'maketrans', 'name', 'next', 'nextGenerator', 'nextSibling', 'nextSiblingGenerator', 'next_element', 'next_elements', 'next_sibling', 'next_siblings', 'output_ready', 'parent', 'parentGenerator', 'parents', 'partition', 'previous', 'previousGenerator', 'previousSibling', 'previousSiblingGenerator', 'previous_element', 'previous_elements', 'previous_sibling', 'previous_siblings', 'replace', 'replaceWith', 'replaceWithChildren', 'replace_with', 'replace_with_children', 'rfind', 'rindex', 'rjust', 'rpartition', 'rsplit', 'rstrip', 'setup', 'split', 'splitlines', 'startswith', 'strip', 'swapcase', 'title', 'translate', 'unwrap', 'upper', 'wrap', 'zfill']\n"
     ]
    }
   ],
   "source": [
    "i = 0\n",
    "for cosa in gdatos:\n",
    "    print(type(cosa))\n",
    "    print(dir(cosa))\n",
    "    i += 1\n",
    "    if i > 2:\n",
    "        break"
   ]
  },
  {
   "cell_type": "code",
   "execution_count": 19,
   "metadata": {},
   "outputs": [
    {
     "data": {
      "text/plain": [
       "[{'HIDALGO': {'Acaxochitlán': ['Acaxochitlán, Alpinagua, Apapaxtla (Altamira), Apopoalco, Atezcapa, Barrio Cuautenco, Barrio el Puente, Barrio Tlatempa, Barrio Tlatzintla, Barrio Verde, Buenavista (Necaxanco), Coyametepec, Cuaunepantla, Chimalapa, Ejido Techachalco, Ejido de Tepepa (Barrio Santa Félix), Ejido de Tlatzintla, El Bado, El Crucero, El Tejocotal, El Valle, La Boveda, La Mesa, Los Reyes, Montemar, Necaxanco, Nuevo San Juan, Ocotengo, Ojo de Agua las Palomas, Parada 170, Paredones, San Fernando, San Francisco Atotonilco, San Juan, San Mateo, San Miguel del Resgate, San Pedro Tlachichilco, Santa Ana Tzacuala, Santa Catarina, Techachalco, Tepepa (Santiago Tepepa), Tlacpac, Tlamimilolpa, Toxtla, Venta Quemada, Yemila, Zacacuautla, Zotictla.']}},\n",
       " {'PUEBLA': {'Chiconcuautla': ['Acalama, Amola, Axocopactla, Azacatla, Benito Juárez, Cosamaloapan, Cuetzalingo, Chiconcuautla, Huautla, Huixtlacuatla, Itlantixcali, Ixtaczoquitla, Macuilacatla, Mimitla, Ojo de Agua, Palzoquitla, San Lorenzo Tlaxipehuala, Tlalhuapan, Tlaltenango, Tlaxco (Santiago Tlaxco), Toxtla, Zacatepec, Zempoala.'],\n",
       "   'Honey': ['Amapoloa, Chila de Juárez, El Manzano, Honey, Huehuetlilla, La Magdalena, Rincón de Chila.'],\n",
       "   'Huauchinango': ['Acatlán, Agua Blanca, Ahuacatlán, Ahuatepec, Álvaro Obregón, Alseseca, Ayohuixcuautla, Benito Juárez, Cobrería, Colonia Pemex (Hueyatlagco), Cuacuila, Cuahueyatla, Cuautlita, Cuauxinca, Cuaxicala, Chahuac, Chicuase, El Mirador, El Paraíso, Gustavo Díaz Ordaz (La Cuenca), Huauchinango, Huejotzingo, Huilacapixtla, Independencia, Ixhuacatla, José López Portillo, Las Colonias de Hidalgo, Llano de Huejotzingo, Los Capulines, Los Girasoles, Matlaluca, Mesa de Capulines, Michiuca, Nopala, Ocpaco, Ozomatlán, Papatlatla, Papatlazolco, Patoltecoya, Piedras Pintadas, Popocatépetl (Juan Hernández), Puga, San Diego Buenavista, San José, San José Munive, San José Tlautla, San Juan Pancoac, San Luis Coyotzingo, San Mateo Capultitlán, San Miguel Acuautla, San Miguel Tianguizolco, Santa Ana Xalmimilulco, Santa Catalina, Santa Elena, Santa Elena de la Cruz (Los Oroza), Santa María Atexcac, Santa María Nepopualco, Santa María Tianguistenco, Santiago, Santiago (Buena Vista), Tenango de las Flores, Tenohuatlán, Teopancingo, Tepehuaquila, Tepetzintla de Galeana, Texcapa, Tlachichila (Tecoxtenco), Tlacomulco, Tlalcoyunga, Tlalmaya, Tonatzin, Totolapa (El Sifón), Tzahuinco, Venta Grande, Xaltepec, Xilocuautla, Xolango, Xopanapa.'],\n",
       "   'Jopala': ['Arroyo Hondo, Buenos Aires, Cuamaxalco, Chicontla, El Encinal, Finca Pilar I, Finca Pilar II, Jopala, La Concha, Oro Verde (Monte de Chila), Patla, Rancho Nuevo, San Martín, San Pedro Tlaolantongo, Tecuantla (Los Reyes).'],\n",
       "   'Juan Galindo': ['Colonia Azteca, Cuautlita (El Gamito), Dos Caminos, El Salto, Necaxaltépetl, Nezoaya, Nuevo Necaxa, Tecacalango (La Pahua).'],\n",
       "   'Naupan': ['Achiautla (Xiagtla), Alambique, Copila, Cozolapa, Cuahuihuitzotitla, Cueyatla, Chachahuantla, Humiltemec, Iczotitla, Metztla Abajo, Metztla Arriba, Naupan, Tenextitla, Teopanzolco, Tlaxpanaloya.'],\n",
       "   'Pahuatlán': ['Acahuales (El Aguacate), Acalapa, Ahila, Ahuacatitla, Almoloya, Atla, Atlantongo, Cuauneutla de la Paz, Chipotla, El Arenal, La Loma, Los Ángeles, Mamiquetla, Montellano, Paciotla, Pahuatlán de Valle, San Pablito, Tlalcruz de Libres, Xochimilco, Xolotla, Zacapehuaya, Zoyatla de Guerrero.'],\n",
       "   'Tlaola': ['Amacugtla, Amanalco, Atenco, Atequexquitla, Atitlalaya, Ayahualco, Capultitla, Caxapotla, Cocolixtla, Cocolongo, Coligque, Coxolitla, Cuamila, Cutzontipa, Chicahuaxtla, Huixtla, La Gallera, La Herradura, Nexapa Ahila, Nixcugtla, Nuevo Hidalgo, Plan de Cuamila, Salazar Herrera, San Isidro Acatlán, San José, Temascalapa, Tlacocugtla, Tlaltepango, Tlantentiloya, Tlaola, Tlapehuala, Tlapitzalapa, Tlaticoxca, Tlatlapanala, Tlatzohuiloya, Tzitzicazapa, Xaltepuxtla, Xochinanacatlán, Yetla.'],\n",
       "   'Tlapacoya': ['Ahuacatlaya, Barrio los Vázquez, Benito Juárez (Xicalango), Colonia las Palmas, Cuatepalcatla, La Cruz, La Cumbre, La Gruta, Rancho de Tepetzingo, San Andrés Buenavista, San Antonio Tlilapa, San Miguel Tlilapa, Santa Catarina Coatepec, Santo Domingo Ayotlicha, Tlamaya Chico, Tlamaya Grande.'],\n",
       "   'Xicotepec': ['Ahuaxintitla, Arroyo Seco, Atequexquitla, Cerro de los Limones, Cerro del Tepeyac, Cilima (La Bomba), Chicopanal, Dos Caminos, Duraznotla, Ejido de Nactanca [Ejido Nactanca], Ejido de Rancho Nuevo (El Ojite), El Cajón, El Infierno (Valle Verde), El Jonote, El Mirador, El Porvenir Ejido, El Refugio (Los Tamarindos), El Sauce Chico, El Tepetate, Finca Puebla (Casa Blanca), Gilberto Camacho, Ixtepec, Jalapilla, La Cascada (Las Chacas), La Chivería, La Garcita, La Herradura, La Magdalena, La Muralla, La Palma, Las Águilas, Las Cañadas, Las Pilas, Lomas Verdes, Los Arroyos, Los Limones, Los Naranjos, Los Piñales (Agua Dulce), Mecatlán de las Flores, Monte Grande de Zaragoza, Morelos, Nactanca Chica (La Colonia), Nactanca Grande, Ojo de Agua (Primera Sección), Pensamiento Mexicano, Quinta Lilia, Rancho Nuevo, San Agustín (Atlihuacán), San Antonio, San Antonio Ocopetlatlán, San Isidro, San Lorenzo, San Luis, San Pedro Itztla, Santa Cruz Chica, Santa Cruz Grande, Santa Luz Buenavista, Santa Rita, Santa Rosa, Tepapatlaxco [Tepepatlaxco], Tierra Negra, Tlapehuala, Tlaxcalantongo, Tlaxpanala (Las Trancas), Tranca de Fierro, Tulancinguillo, Unidad Deportiva (Ocotzotal), Villa de las Flores, Villa Ávila Camacho (La Ceiba), Xicotepec de Juárez.'],\n",
       "   'Zihuateutla': ['Arroyo Mano, Azcatlán, Cacahuatlán, Carmen (Finca el Matadero), Cerro Azul, Cerro Verde, Cuatechalotla, Cuaunepixca (La Cumbre), Ejido Tenanguito, El Rosario (Anayal), El Cerro, El Plantel, El Remolino, Ernesto Hernández (Tlacoyuco), Finca Cre-Leg, Finca Cuaunepixca, Finca el Limonar, Finca el Progreso Chico, Finca el Rosario, Finca el Viejote, Finca Grano de Oro, Finca la Providencia, Finca la Puebla, Finca la Selva, Finca la Trinidad, Finca las Chachitas, Finca las Margaritas, Finca los Tulipanes, Finca Susy, La Cañada, La Chiquita, La Floresta, La Florida, La Herradura, La Laguna, La Libertad, La Mesa del Crucero (La Mesita), La Planada, La Tranca de Fierro, La Unión, La Virgen, Lagunillas, Loma Bonita, Los Pinos, Mazacoatlán, Nanacatepec, Noche Buena, Ocomantla, Ojo de Agua, Planta de Patla, Rancho las Filipinas, San Andrés, San José, San Nicolás, Santo Tomás, Tecpatlán, Telolotla, Tenanguito, Zihuateutla.']}}]"
      ]
     },
     "execution_count": 19,
     "metadata": {},
     "output_type": "execute_result"
    }
   ],
   "source": [
    "def parse_datos_geos(datos_geos):\n",
    "    '''@datos_geo debe ser un table de HTML'''\n",
    "    repr_geo = {}\n",
    "    \n",
    "    for parte in datos_geos:\n",
    "        # primero identificamos el estado, que siempre está en mayúsculas\n",
    "        # esta parte del table is of class 'bs4.element.NavigableString'\n",
    "        if parte.__class__ == bs4.element.NavigableString:\n",
    "            if parte.isupper():\n",
    "                estado = parte.strip(' :\\t\\r\\n')\n",
    "                repr_geo[estado] = {}\n",
    "                continue\n",
    "                \n",
    "        # luego, si el parte tiene los bold HTML tags \"<br></br>\"\n",
    "        # es otro tipo de bs4 object of class 'bs4.element.Tag'\n",
    "        if parte.__class__ == bs4.element.Tag and parte.decode() != '<br/>':\n",
    "            municipio = parte.text\n",
    "            repr_geo[estado][municipio] = []\n",
    "            \n",
    "        # los localidades también son de la class 'bs4.element.NavigableString'\n",
    "        # si ya tenemos el estado, sabemos que esta parte describe localidades\n",
    "        if parte.__class__ == bs4.element.NavigableString and repr_geo[estado]:\n",
    "            localidades = parte.strip(' :\\n')\n",
    "            repr_geo[estado][municipio].extend([localidades])\n",
    "            \n",
    "        # si hay multiples estados en los que se hablan la misma variante\n",
    "        # van a ser separados por \"linebreaks\". entonces usamos el linebreak\n",
    "        # como un flag para identificar que hay que construir otro repr_geo nuevo\n",
    "        if parte.__class__ == bs4.element.Tag and parte.decode() == '<br/>':\n",
    "            yield repr_geo\n",
    "            repr_geo = {}\n",
    "    \n",
    "    # yield el último\n",
    "    print('hemos extraido todos los datos geográficos de este table')\n",
    "    yield repr_geo\n",
    "    \n",
    "\n",
    "    \n",
    "# algunos dictionaries de esta función serán vacias,\n",
    "# por eso filtramos la lista con \"if geo\"\n",
    "repr_geo = [geo for geo in parse_datos_geos(gdatos) if geo]\n",
    "repr_geo"
   ]
  },
  {
   "cell_type": "markdown",
   "metadata": {},
   "source": [
    "### ya tenemos todos los datos que queremos para hacer un ejemplo"
   ]
  },
  {
   "cell_type": "code",
   "execution_count": 20,
   "metadata": {},
   "outputs": [
    {
     "data": {
      "text/plain": [
       "'náhuatl'"
      ]
     },
     "execution_count": 20,
     "metadata": {},
     "output_type": "execute_result"
    }
   ],
   "source": [
    "agrup_ling"
   ]
  },
  {
   "cell_type": "code",
   "execution_count": 21,
   "metadata": {},
   "outputs": [
    {
     "data": {
      "text/plain": [
       "'Yuto-nahua'"
      ]
     },
     "execution_count": 21,
     "metadata": {},
     "output_type": "execute_result"
    }
   ],
   "source": [
    "familia_ling"
   ]
  },
  {
   "cell_type": "code",
   "execution_count": 22,
   "metadata": {},
   "outputs": [
    {
     "data": {
      "text/plain": [
       "['mexi’catl/n[meʃiʔkaλ]',\n",
       " 'mexicano (del noroeste central)/n[mexikano]',\n",
       " 'maseual tla’tol/n[masewal λaʔtol]']"
      ]
     },
     "execution_count": 22,
     "metadata": {},
     "output_type": "execute_result"
    }
   ],
   "source": [
    "autodes"
   ]
  },
  {
   "cell_type": "code",
   "execution_count": 23,
   "metadata": {},
   "outputs": [
    {
     "data": {
      "text/plain": [
       "'<náhuatl del noroeste central>'"
      ]
     },
     "execution_count": 23,
     "metadata": {},
     "output_type": "execute_result"
    }
   ],
   "source": [
    "variante"
   ]
  },
  {
   "cell_type": "code",
   "execution_count": 24,
   "metadata": {},
   "outputs": [
    {
     "data": {
      "text/plain": [
       "[{'HIDALGO': {'Acaxochitlán': ['Acaxochitlán, Alpinagua, Apapaxtla (Altamira), Apopoalco, Atezcapa, Barrio Cuautenco, Barrio el Puente, Barrio Tlatempa, Barrio Tlatzintla, Barrio Verde, Buenavista (Necaxanco), Coyametepec, Cuaunepantla, Chimalapa, Ejido Techachalco, Ejido de Tepepa (Barrio Santa Félix), Ejido de Tlatzintla, El Bado, El Crucero, El Tejocotal, El Valle, La Boveda, La Mesa, Los Reyes, Montemar, Necaxanco, Nuevo San Juan, Ocotengo, Ojo de Agua las Palomas, Parada 170, Paredones, San Fernando, San Francisco Atotonilco, San Juan, San Mateo, San Miguel del Resgate, San Pedro Tlachichilco, Santa Ana Tzacuala, Santa Catarina, Techachalco, Tepepa (Santiago Tepepa), Tlacpac, Tlamimilolpa, Toxtla, Venta Quemada, Yemila, Zacacuautla, Zotictla.']}},\n",
       " {'PUEBLA': {'Chiconcuautla': ['Acalama, Amola, Axocopactla, Azacatla, Benito Juárez, Cosamaloapan, Cuetzalingo, Chiconcuautla, Huautla, Huixtlacuatla, Itlantixcali, Ixtaczoquitla, Macuilacatla, Mimitla, Ojo de Agua, Palzoquitla, San Lorenzo Tlaxipehuala, Tlalhuapan, Tlaltenango, Tlaxco (Santiago Tlaxco), Toxtla, Zacatepec, Zempoala.'],\n",
       "   'Honey': ['Amapoloa, Chila de Juárez, El Manzano, Honey, Huehuetlilla, La Magdalena, Rincón de Chila.'],\n",
       "   'Huauchinango': ['Acatlán, Agua Blanca, Ahuacatlán, Ahuatepec, Álvaro Obregón, Alseseca, Ayohuixcuautla, Benito Juárez, Cobrería, Colonia Pemex (Hueyatlagco), Cuacuila, Cuahueyatla, Cuautlita, Cuauxinca, Cuaxicala, Chahuac, Chicuase, El Mirador, El Paraíso, Gustavo Díaz Ordaz (La Cuenca), Huauchinango, Huejotzingo, Huilacapixtla, Independencia, Ixhuacatla, José López Portillo, Las Colonias de Hidalgo, Llano de Huejotzingo, Los Capulines, Los Girasoles, Matlaluca, Mesa de Capulines, Michiuca, Nopala, Ocpaco, Ozomatlán, Papatlatla, Papatlazolco, Patoltecoya, Piedras Pintadas, Popocatépetl (Juan Hernández), Puga, San Diego Buenavista, San José, San José Munive, San José Tlautla, San Juan Pancoac, San Luis Coyotzingo, San Mateo Capultitlán, San Miguel Acuautla, San Miguel Tianguizolco, Santa Ana Xalmimilulco, Santa Catalina, Santa Elena, Santa Elena de la Cruz (Los Oroza), Santa María Atexcac, Santa María Nepopualco, Santa María Tianguistenco, Santiago, Santiago (Buena Vista), Tenango de las Flores, Tenohuatlán, Teopancingo, Tepehuaquila, Tepetzintla de Galeana, Texcapa, Tlachichila (Tecoxtenco), Tlacomulco, Tlalcoyunga, Tlalmaya, Tonatzin, Totolapa (El Sifón), Tzahuinco, Venta Grande, Xaltepec, Xilocuautla, Xolango, Xopanapa.'],\n",
       "   'Jopala': ['Arroyo Hondo, Buenos Aires, Cuamaxalco, Chicontla, El Encinal, Finca Pilar I, Finca Pilar II, Jopala, La Concha, Oro Verde (Monte de Chila), Patla, Rancho Nuevo, San Martín, San Pedro Tlaolantongo, Tecuantla (Los Reyes).'],\n",
       "   'Juan Galindo': ['Colonia Azteca, Cuautlita (El Gamito), Dos Caminos, El Salto, Necaxaltépetl, Nezoaya, Nuevo Necaxa, Tecacalango (La Pahua).'],\n",
       "   'Naupan': ['Achiautla (Xiagtla), Alambique, Copila, Cozolapa, Cuahuihuitzotitla, Cueyatla, Chachahuantla, Humiltemec, Iczotitla, Metztla Abajo, Metztla Arriba, Naupan, Tenextitla, Teopanzolco, Tlaxpanaloya.'],\n",
       "   'Pahuatlán': ['Acahuales (El Aguacate), Acalapa, Ahila, Ahuacatitla, Almoloya, Atla, Atlantongo, Cuauneutla de la Paz, Chipotla, El Arenal, La Loma, Los Ángeles, Mamiquetla, Montellano, Paciotla, Pahuatlán de Valle, San Pablito, Tlalcruz de Libres, Xochimilco, Xolotla, Zacapehuaya, Zoyatla de Guerrero.'],\n",
       "   'Tlaola': ['Amacugtla, Amanalco, Atenco, Atequexquitla, Atitlalaya, Ayahualco, Capultitla, Caxapotla, Cocolixtla, Cocolongo, Coligque, Coxolitla, Cuamila, Cutzontipa, Chicahuaxtla, Huixtla, La Gallera, La Herradura, Nexapa Ahila, Nixcugtla, Nuevo Hidalgo, Plan de Cuamila, Salazar Herrera, San Isidro Acatlán, San José, Temascalapa, Tlacocugtla, Tlaltepango, Tlantentiloya, Tlaola, Tlapehuala, Tlapitzalapa, Tlaticoxca, Tlatlapanala, Tlatzohuiloya, Tzitzicazapa, Xaltepuxtla, Xochinanacatlán, Yetla.'],\n",
       "   'Tlapacoya': ['Ahuacatlaya, Barrio los Vázquez, Benito Juárez (Xicalango), Colonia las Palmas, Cuatepalcatla, La Cruz, La Cumbre, La Gruta, Rancho de Tepetzingo, San Andrés Buenavista, San Antonio Tlilapa, San Miguel Tlilapa, Santa Catarina Coatepec, Santo Domingo Ayotlicha, Tlamaya Chico, Tlamaya Grande.'],\n",
       "   'Xicotepec': ['Ahuaxintitla, Arroyo Seco, Atequexquitla, Cerro de los Limones, Cerro del Tepeyac, Cilima (La Bomba), Chicopanal, Dos Caminos, Duraznotla, Ejido de Nactanca [Ejido Nactanca], Ejido de Rancho Nuevo (El Ojite), El Cajón, El Infierno (Valle Verde), El Jonote, El Mirador, El Porvenir Ejido, El Refugio (Los Tamarindos), El Sauce Chico, El Tepetate, Finca Puebla (Casa Blanca), Gilberto Camacho, Ixtepec, Jalapilla, La Cascada (Las Chacas), La Chivería, La Garcita, La Herradura, La Magdalena, La Muralla, La Palma, Las Águilas, Las Cañadas, Las Pilas, Lomas Verdes, Los Arroyos, Los Limones, Los Naranjos, Los Piñales (Agua Dulce), Mecatlán de las Flores, Monte Grande de Zaragoza, Morelos, Nactanca Chica (La Colonia), Nactanca Grande, Ojo de Agua (Primera Sección), Pensamiento Mexicano, Quinta Lilia, Rancho Nuevo, San Agustín (Atlihuacán), San Antonio, San Antonio Ocopetlatlán, San Isidro, San Lorenzo, San Luis, San Pedro Itztla, Santa Cruz Chica, Santa Cruz Grande, Santa Luz Buenavista, Santa Rita, Santa Rosa, Tepapatlaxco [Tepepatlaxco], Tierra Negra, Tlapehuala, Tlaxcalantongo, Tlaxpanala (Las Trancas), Tranca de Fierro, Tulancinguillo, Unidad Deportiva (Ocotzotal), Villa de las Flores, Villa Ávila Camacho (La Ceiba), Xicotepec de Juárez.'],\n",
       "   'Zihuateutla': ['Arroyo Mano, Azcatlán, Cacahuatlán, Carmen (Finca el Matadero), Cerro Azul, Cerro Verde, Cuatechalotla, Cuaunepixca (La Cumbre), Ejido Tenanguito, El Rosario (Anayal), El Cerro, El Plantel, El Remolino, Ernesto Hernández (Tlacoyuco), Finca Cre-Leg, Finca Cuaunepixca, Finca el Limonar, Finca el Progreso Chico, Finca el Rosario, Finca el Viejote, Finca Grano de Oro, Finca la Providencia, Finca la Puebla, Finca la Selva, Finca la Trinidad, Finca las Chachitas, Finca las Margaritas, Finca los Tulipanes, Finca Susy, La Cañada, La Chiquita, La Floresta, La Florida, La Herradura, La Laguna, La Libertad, La Mesa del Crucero (La Mesita), La Planada, La Tranca de Fierro, La Unión, La Virgen, Lagunillas, Loma Bonita, Los Pinos, Mazacoatlán, Nanacatepec, Noche Buena, Ocomantla, Ojo de Agua, Planta de Patla, Rancho las Filipinas, San Andrés, San José, San Nicolás, Santo Tomás, Tecpatlán, Telolotla, Tenanguito, Zihuateutla.']}}]"
      ]
     },
     "execution_count": 24,
     "metadata": {},
     "output_type": "execute_result"
    }
   ],
   "source": [
    "repr_geo"
   ]
  },
  {
   "cell_type": "markdown",
   "metadata": {},
   "source": [
    "### podemos representar los datos con un modelo de JSON:"
   ]
  },
  {
   "cell_type": "code",
   "execution_count": 25,
   "metadata": {},
   "outputs": [],
   "source": [
    "datos_de_un_variante = {\n",
    "    'agrupacion_lingüística': '',\n",
    "    'familia_lingüística': '',\n",
    "    'autodenominaciones': [],\n",
    "    'variante': '',\n",
    "    'representación_geográfica': [{}]  # esta es una lista de dictionaries porque un variante puede ser hablado en estados múltiples\n",
    "}"
   ]
  },
  {
   "cell_type": "code",
   "execution_count": 26,
   "metadata": {},
   "outputs": [],
   "source": [
    "# usando nuestro ejemplo de nahuatl llegamos al siguiente\n",
    "datos_del_variante = {\n",
    "    'agrupacion_lingüística': agrup_ling,\n",
    "    'familia_lingüística': familia_ling,\n",
    "    'autodenominaciones': autodes,\n",
    "    'variante': variante,\n",
    "    'representación_geográfica': repr_geo\n",
    "}"
   ]
  },
  {
   "cell_type": "code",
   "execution_count": 27,
   "metadata": {
    "scrolled": false
   },
   "outputs": [
    {
     "data": {
      "text/plain": [
       "{'agrupacion_lingüística': 'náhuatl',\n",
       " 'familia_lingüística': 'Yuto-nahua',\n",
       " 'autodenominaciones': ['mexi’catl/n[meʃiʔkaλ]',\n",
       "  'mexicano (del noroeste central)/n[mexikano]',\n",
       "  'maseual tla’tol/n[masewal λaʔtol]'],\n",
       " 'variante': '<náhuatl del noroeste central>',\n",
       " 'representación_geográfica': [{'HIDALGO': {'Acaxochitlán': ['Acaxochitlán, Alpinagua, Apapaxtla (Altamira), Apopoalco, Atezcapa, Barrio Cuautenco, Barrio el Puente, Barrio Tlatempa, Barrio Tlatzintla, Barrio Verde, Buenavista (Necaxanco), Coyametepec, Cuaunepantla, Chimalapa, Ejido Techachalco, Ejido de Tepepa (Barrio Santa Félix), Ejido de Tlatzintla, El Bado, El Crucero, El Tejocotal, El Valle, La Boveda, La Mesa, Los Reyes, Montemar, Necaxanco, Nuevo San Juan, Ocotengo, Ojo de Agua las Palomas, Parada 170, Paredones, San Fernando, San Francisco Atotonilco, San Juan, San Mateo, San Miguel del Resgate, San Pedro Tlachichilco, Santa Ana Tzacuala, Santa Catarina, Techachalco, Tepepa (Santiago Tepepa), Tlacpac, Tlamimilolpa, Toxtla, Venta Quemada, Yemila, Zacacuautla, Zotictla.']}},\n",
       "  {'PUEBLA': {'Chiconcuautla': ['Acalama, Amola, Axocopactla, Azacatla, Benito Juárez, Cosamaloapan, Cuetzalingo, Chiconcuautla, Huautla, Huixtlacuatla, Itlantixcali, Ixtaczoquitla, Macuilacatla, Mimitla, Ojo de Agua, Palzoquitla, San Lorenzo Tlaxipehuala, Tlalhuapan, Tlaltenango, Tlaxco (Santiago Tlaxco), Toxtla, Zacatepec, Zempoala.'],\n",
       "    'Honey': ['Amapoloa, Chila de Juárez, El Manzano, Honey, Huehuetlilla, La Magdalena, Rincón de Chila.'],\n",
       "    'Huauchinango': ['Acatlán, Agua Blanca, Ahuacatlán, Ahuatepec, Álvaro Obregón, Alseseca, Ayohuixcuautla, Benito Juárez, Cobrería, Colonia Pemex (Hueyatlagco), Cuacuila, Cuahueyatla, Cuautlita, Cuauxinca, Cuaxicala, Chahuac, Chicuase, El Mirador, El Paraíso, Gustavo Díaz Ordaz (La Cuenca), Huauchinango, Huejotzingo, Huilacapixtla, Independencia, Ixhuacatla, José López Portillo, Las Colonias de Hidalgo, Llano de Huejotzingo, Los Capulines, Los Girasoles, Matlaluca, Mesa de Capulines, Michiuca, Nopala, Ocpaco, Ozomatlán, Papatlatla, Papatlazolco, Patoltecoya, Piedras Pintadas, Popocatépetl (Juan Hernández), Puga, San Diego Buenavista, San José, San José Munive, San José Tlautla, San Juan Pancoac, San Luis Coyotzingo, San Mateo Capultitlán, San Miguel Acuautla, San Miguel Tianguizolco, Santa Ana Xalmimilulco, Santa Catalina, Santa Elena, Santa Elena de la Cruz (Los Oroza), Santa María Atexcac, Santa María Nepopualco, Santa María Tianguistenco, Santiago, Santiago (Buena Vista), Tenango de las Flores, Tenohuatlán, Teopancingo, Tepehuaquila, Tepetzintla de Galeana, Texcapa, Tlachichila (Tecoxtenco), Tlacomulco, Tlalcoyunga, Tlalmaya, Tonatzin, Totolapa (El Sifón), Tzahuinco, Venta Grande, Xaltepec, Xilocuautla, Xolango, Xopanapa.'],\n",
       "    'Jopala': ['Arroyo Hondo, Buenos Aires, Cuamaxalco, Chicontla, El Encinal, Finca Pilar I, Finca Pilar II, Jopala, La Concha, Oro Verde (Monte de Chila), Patla, Rancho Nuevo, San Martín, San Pedro Tlaolantongo, Tecuantla (Los Reyes).'],\n",
       "    'Juan Galindo': ['Colonia Azteca, Cuautlita (El Gamito), Dos Caminos, El Salto, Necaxaltépetl, Nezoaya, Nuevo Necaxa, Tecacalango (La Pahua).'],\n",
       "    'Naupan': ['Achiautla (Xiagtla), Alambique, Copila, Cozolapa, Cuahuihuitzotitla, Cueyatla, Chachahuantla, Humiltemec, Iczotitla, Metztla Abajo, Metztla Arriba, Naupan, Tenextitla, Teopanzolco, Tlaxpanaloya.'],\n",
       "    'Pahuatlán': ['Acahuales (El Aguacate), Acalapa, Ahila, Ahuacatitla, Almoloya, Atla, Atlantongo, Cuauneutla de la Paz, Chipotla, El Arenal, La Loma, Los Ángeles, Mamiquetla, Montellano, Paciotla, Pahuatlán de Valle, San Pablito, Tlalcruz de Libres, Xochimilco, Xolotla, Zacapehuaya, Zoyatla de Guerrero.'],\n",
       "    'Tlaola': ['Amacugtla, Amanalco, Atenco, Atequexquitla, Atitlalaya, Ayahualco, Capultitla, Caxapotla, Cocolixtla, Cocolongo, Coligque, Coxolitla, Cuamila, Cutzontipa, Chicahuaxtla, Huixtla, La Gallera, La Herradura, Nexapa Ahila, Nixcugtla, Nuevo Hidalgo, Plan de Cuamila, Salazar Herrera, San Isidro Acatlán, San José, Temascalapa, Tlacocugtla, Tlaltepango, Tlantentiloya, Tlaola, Tlapehuala, Tlapitzalapa, Tlaticoxca, Tlatlapanala, Tlatzohuiloya, Tzitzicazapa, Xaltepuxtla, Xochinanacatlán, Yetla.'],\n",
       "    'Tlapacoya': ['Ahuacatlaya, Barrio los Vázquez, Benito Juárez (Xicalango), Colonia las Palmas, Cuatepalcatla, La Cruz, La Cumbre, La Gruta, Rancho de Tepetzingo, San Andrés Buenavista, San Antonio Tlilapa, San Miguel Tlilapa, Santa Catarina Coatepec, Santo Domingo Ayotlicha, Tlamaya Chico, Tlamaya Grande.'],\n",
       "    'Xicotepec': ['Ahuaxintitla, Arroyo Seco, Atequexquitla, Cerro de los Limones, Cerro del Tepeyac, Cilima (La Bomba), Chicopanal, Dos Caminos, Duraznotla, Ejido de Nactanca [Ejido Nactanca], Ejido de Rancho Nuevo (El Ojite), El Cajón, El Infierno (Valle Verde), El Jonote, El Mirador, El Porvenir Ejido, El Refugio (Los Tamarindos), El Sauce Chico, El Tepetate, Finca Puebla (Casa Blanca), Gilberto Camacho, Ixtepec, Jalapilla, La Cascada (Las Chacas), La Chivería, La Garcita, La Herradura, La Magdalena, La Muralla, La Palma, Las Águilas, Las Cañadas, Las Pilas, Lomas Verdes, Los Arroyos, Los Limones, Los Naranjos, Los Piñales (Agua Dulce), Mecatlán de las Flores, Monte Grande de Zaragoza, Morelos, Nactanca Chica (La Colonia), Nactanca Grande, Ojo de Agua (Primera Sección), Pensamiento Mexicano, Quinta Lilia, Rancho Nuevo, San Agustín (Atlihuacán), San Antonio, San Antonio Ocopetlatlán, San Isidro, San Lorenzo, San Luis, San Pedro Itztla, Santa Cruz Chica, Santa Cruz Grande, Santa Luz Buenavista, Santa Rita, Santa Rosa, Tepapatlaxco [Tepepatlaxco], Tierra Negra, Tlapehuala, Tlaxcalantongo, Tlaxpanala (Las Trancas), Tranca de Fierro, Tulancinguillo, Unidad Deportiva (Ocotzotal), Villa de las Flores, Villa Ávila Camacho (La Ceiba), Xicotepec de Juárez.'],\n",
       "    'Zihuateutla': ['Arroyo Mano, Azcatlán, Cacahuatlán, Carmen (Finca el Matadero), Cerro Azul, Cerro Verde, Cuatechalotla, Cuaunepixca (La Cumbre), Ejido Tenanguito, El Rosario (Anayal), El Cerro, El Plantel, El Remolino, Ernesto Hernández (Tlacoyuco), Finca Cre-Leg, Finca Cuaunepixca, Finca el Limonar, Finca el Progreso Chico, Finca el Rosario, Finca el Viejote, Finca Grano de Oro, Finca la Providencia, Finca la Puebla, Finca la Selva, Finca la Trinidad, Finca las Chachitas, Finca las Margaritas, Finca los Tulipanes, Finca Susy, La Cañada, La Chiquita, La Floresta, La Florida, La Herradura, La Laguna, La Libertad, La Mesa del Crucero (La Mesita), La Planada, La Tranca de Fierro, La Unión, La Virgen, Lagunillas, Loma Bonita, Los Pinos, Mazacoatlán, Nanacatepec, Noche Buena, Ocomantla, Ojo de Agua, Planta de Patla, Rancho las Filipinas, San Andrés, San José, San Nicolás, Santo Tomás, Tecpatlán, Telolotla, Tenanguito, Zihuateutla.']}}]}"
      ]
     },
     "execution_count": 27,
     "metadata": {},
     "output_type": "execute_result"
    }
   ],
   "source": [
    "datos_del_variante"
   ]
  },
  {
   "cell_type": "code",
   "execution_count": 29,
   "metadata": {},
   "outputs": [],
   "source": [
    "# output nuestro trabajo para compartir\n",
    "def output_variante_json(datos):\n",
    "    '''construir un filename del nombre de variante y escribir los datos a un archivo de JSON'''\n",
    "    variante_split = datos['variante'].strip('<>').split(' ')\n",
    "    datos_file_ending = ('_').join([vsplit.strip(',') for vsplit in variante_split])\n",
    "    outfile = os.path.join('output', 'datos_de_{}.json'.format(datos_file_ending))\n",
    "    with open(outfile, 'w') as outf:\n",
    "        outf.write(json.dumps(datos))\n",
    "        \n",
    "output_variante_json(datos_del_variante)"
   ]
  },
  {
   "cell_type": "code",
   "execution_count": 31,
   "metadata": {},
   "outputs": [
    {
     "name": "stdout",
     "output_type": "stream",
     "text": [
      "hay 30 variantes en esta agrupación lingüística\n",
      "autodenominaciones extraidos del table: ['mexicano tlajtol/n[mexikano λahtol]', 'nauta/n[nawta]']\n",
      "variante extraido del table: <náhuatl de la Sierra, noreste de Puebla>\n",
      "autodenominaciones extraidos del table: ['mexi’catl/n[meʃiʔkaλ]', 'mexicano (del noroeste central)/n[mexikano]', 'maseual tla’tol/n[masewal λaʔtol]']\n",
      "variante extraido del table: <náhuatl del noroeste central>\n",
      "autodenominaciones extraidos del table: ['náhuatl (del Istmo)/n[nawaλ]']\n",
      "variante extraido del table: <náhuatl del Istmo>\n",
      "autodenominaciones extraidos del table: ['mexicano (de la Huasteca veracruzana)/n[mexikano]', 'náhuatl (de la Huasteca veracruzana)/n[nawaλ]', 'mexcatl/n[meʃkaλ]']\n",
      "variante extraido del table: <náhuatl de la Huasteca veracruzana>\n",
      "autodenominaciones extraidos del table: ['náhuatl (de la Huasteca potosina)/n[nawaλ]', 'mexicano (de la Huasteca potosina)/n[mexikano]', 'mexicatl (de la Huasteca potosina)/n[meʃikaλ]']\n",
      "variante extraido del table: <náhuatl de la Huasteca potosina>\n",
      "autodenominaciones extraidos del table: ['mexicano (de Oaxaca)/n[mexikano]']\n",
      "variante extraido del table: <náhuatl de Oaxaca>\n",
      "autodenominaciones extraidos del table: ['mexicano (de la Sierra negra, sur)/n[mexikano]', 'náhuatl (de la Sierra negra, sur)/n[nawaλ]']\n",
      "variante extraido del table: <náhuatl de la Sierra negra, sur>\n",
      "autodenominaciones extraidos del table: ['mexicano (de la Sierra negra, norte)/n[mexikano]', 'náhuatl (de la Sierra negra, norte)/n[nawaλ]', 'mexicatl (de la Sierra negra, norte)/n[meʃikaλ]']\n",
      "variante extraido del table: <náhuatl de la Sierra negra, norte>\n",
      "autodenominaciones extraidos del table: ['náhuatl (central de Veracruz)/n[nawaλ]', 'mexicano (central de Veracruz)/n[mexikano]']\n",
      "variante extraido del table: <náhuatl central de Veracruz>\n",
      "autodenominaciones extraidos del table: ['masehual tla’tol/n[masewal λaʔtol]']\n",
      "variante extraido del table: <náhuatl de la Sierra oeste de Puebla>\n",
      "autodenominaciones extraidos del table: ['maseual tajtol/n[masewal tahtol]', 'nahuat/n[nawat]']\n",
      "variante extraido del table: <náhuatl alto del norte de Puebla>\n",
      "autodenominaciones extraidos del table: ['náhuatl (del Istmo bajo)/n[nawaλ]', 'mexicano (del Istmo bajo)/n[mexikano]']\n",
      "variante extraido del table: <náhuatl del Istmo bajo>\n",
      "autodenominaciones extraidos del table: ['mexicano (del centro de Puebla)/n[mexikano]']\n",
      "variante extraido del table: <náhuatl del centro de Puebla>\n",
      "autodenominaciones extraidos del table: ['mexicano (bajo de occidente)/n[mexikano]']\n",
      "variante extraido del table: <mexicano bajo de occidente>\n",
      "autodenominaciones extraidos del table: ['mexicano (del noroeste)/n[mexikano]']\n",
      "variante extraido del table: <mexicano del noroeste>\n",
      "autodenominaciones extraidos del table: ['mexicano (de Guerrero)/n[mexikano]']\n",
      "variante extraido del table: <mexicano de Guerrero>\n",
      "autodenominaciones extraidos del table: ['mexicano (de occidente)/n[mexikano]']\n",
      "variante extraido del table: <mexicano de occidente>\n",
      "autodenominaciones extraidos del table: ['mexicano (central de occidente)/n[mexikano]']\n",
      "variante extraido del table: <mexicano central de occidente>\n",
      "autodenominaciones extraidos del table: ['mexicano (central bajo)/n[mexikano]']\n",
      "variante extraido del table: <mexicano central bajo>\n",
      "autodenominaciones extraidos del table: ['mexicano (de Temixco)/n[mexikano]']\n",
      "variante extraido del table: <mexicano de Temixco>\n",
      "autodenominaciones extraidos del table: ['mexicano (de Puente de Ixtla)/n[mexikano]']\n",
      "variante extraido del table: <mexicano de Puente de Ixtla>\n",
      "autodenominaciones extraidos del table: ['mexicano (de Tetela del Volcán)/n[mexikano]']\n",
      "variante extraido del table: <mexicano de Tetela del Volcán>\n",
      "autodenominaciones extraidos del table: ['mexicano (alto de occidente)/n[mexikano]']\n",
      "variante extraido del table: <mexicano alto de occidente>\n",
      "autodenominaciones extraidos del table: ['mexicano (del oriente)/n[mexikano]']\n",
      "variante extraido del table: <mexicano del oriente>\n",
      "autodenominaciones extraidos del table: ['mexicano (del oriente central)/n[mexikano]']\n",
      "variante extraido del table: <mexicano del oriente central>\n",
      "autodenominaciones extraidos del table: ['mexicano (del centro bajo)/n[mexikano]']\n",
      "variante extraido del table: <mexicano del centro bajo>\n",
      "autodenominaciones extraidos del table: ['mexicano (del centro alto)/n[mexikano]']\n",
      "variante extraido del table: <mexicano del centro alto>\n",
      "autodenominaciones extraidos del table: ['mexicano (del centro)/n[mexikano]']\n",
      "variante extraido del table: <mexicano del centro>\n",
      "autodenominaciones extraidos del table: ['mexicano (del oriente de Puebla)/n[mexikano]']\n",
      "variante extraido del table: <mexicano del oriente de Puebla>\n",
      "autodenominaciones extraidos del table: ['mexicano (de la Huasteca Hidalguense)/n[mexikano]']\n",
      "variante extraido del table: <mexicano de la Huasteca Hidalguense>\n"
     ]
    }
   ],
   "source": [
    "# entonces, ya que tenemos la agrupación y familia ligüística\n",
    "# desde la página anterior, vamos así sacando todos los variantes\n",
    "\n",
    "# colocamos todos los \"rows\", y descartamos la primera que no tiene información importante\n",
    "all_trs = sopa.find_all('tr')\n",
    "all_trs.pop(0)  # (la primera row (representado por all_trs[0]) no nos importa porque no tiene un table)\n",
    "print('hay {} variantes en esta agrupación lingüística'.format((len(all_trs))))\n",
    "\n",
    "# ya vamos row por row, y table por table dentro del row\n",
    "for tr in all_trs:\n",
    "    all_tds = tr.find_all('td')\n",
    "    autodes = sacar_autodes(all_tds[0])\n",
    "    variante = sacar_variante(all_tds[0])\n",
    "    repr_geo = [geo for geo in parse_datos_geos(all_tds[1]) if geo]\n",
    "    "
   ]
  },
  {
   "cell_type": "code",
   "execution_count": null,
   "metadata": {},
   "outputs": [],
   "source": []
  }
 ],
 "metadata": {
  "kernelspec": {
   "display_name": "Python 3",
   "language": "python",
   "name": "python3"
  },
  "language_info": {
   "codemirror_mode": {
    "name": "ipython",
    "version": 3
   },
   "file_extension": ".py",
   "mimetype": "text/x-python",
   "name": "python",
   "nbconvert_exporter": "python",
   "pygments_lexer": "ipython3",
   "version": "3.7.5"
  }
 },
 "nbformat": 4,
 "nbformat_minor": 2
}
